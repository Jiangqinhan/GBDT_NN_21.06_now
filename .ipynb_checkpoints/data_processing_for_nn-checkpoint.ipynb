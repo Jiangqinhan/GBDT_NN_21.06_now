{
 "cells": [
  {
   "cell_type": "code",
   "execution_count": null,
   "metadata": {},
   "outputs": [],
   "source": [
    "import pandas as pd\n",
    "import numpy as np\n",
    "from ast import literal_eval\n",
    "import os\n",
    "from scipy.spatial import distance\n",
    "import pickle\n",
    "\n",
    "RootPath = r'D:\\Great_job_of_teammate'\n",
    "user_action_path = os.path.join(RootPath, \"wechat_algo_data1/user_action.csv\")\n",
    "feed_info_modified_path = os.path.join(RootPath, \"feed_info_modified2.pkl\")\n",
    "test_data_path = os.path.join(RootPath, \"wechat_algo_data1/test_a.csv\")\n",
    "user_interest_path = os.path.join(RootPath, \"user_interest.pkl\")\n",
    "LABEL_COLUMNS = ['click_avatar', 'forward', 'follow', 'favorite', 'read_comment', 'comment', 'like']\n",
    "ACTION_LIST = ['click_avatar', 'forward', 'follow', 'favorite', 'read_comment', 'comment', 'like', 'is_stay',\n",
    "               'is_finished', 'feedback', 'interested']\n",
    "with open(feed_info_modified_path, 'rb') as file:\n",
    "    feed_info_modified_df = pickle.load(file)\n",
    "\n",
    "with open(user_interest_path, 'rb') as file:\n",
    "    user_interest_df = pickle.load(file)\n",
    "# 读取用户历史行为数据\n",
    "user_action_df = pd.read_csv(user_action_path)\n",
    "# 读取测试集数据\n",
    "test_data_df = pd.read_csv(test_data_path)\n",
    "# 统计视频第一次出现的日期，作为视频的发布日期\n",
    "feed_release_date = user_action_df.groupby(['feedid'])['date_'].apply(lambda x: x.min())\n",
    "feed_release_date = pd.DataFrame(feed_release_date)\n",
    "feed_info_modified_df = pd.merge(feed_info_modified_df, feed_release_date, how='left', on='feedid')\n",
    "# 将没有在之前出现过的视频发布日期设置为15\n",
    "feed_info_modified_df['date_'].fillna(15, inplace=True)\n",
    "feed_info_modified_df.rename(columns={'date_': 'release_date_'}, inplace=True)\n",
    "feed_info_df = feed_info_modified_df.copy()\n",
    "feed_info_df.set_index(['feedid'], inplace=True)\n",
    "# 统一play和stay的单位：\n",
    "user_action_df['play'] = user_action_df['play'] / 1000.0\n",
    "user_action_df['stay'] = user_action_df['stay'] / 1000.0\n",
    "# 标记用户是否产生过反馈：\n",
    "\n",
    "user_action_df['feedback'] = (user_action_df[LABEL_COLUMNS].sum(axis=1) > 0).astype(np.int)\n",
    "user_action_df['interested'] = (user_action_df[['favorite', 'read_comment', 'comment', 'like']].sum(axis=1) > 0).astype(\n",
    "    np.int)\n",
    "unique_user_df = pd.DataFrame(user_action_df['userid'].drop_duplicates())"
   ]
  },
  {
   "cell_type": "code",
   "execution_count": null,
   "metadata": {},
   "outputs": [],
   "source": []
  }
 ],
 "metadata": {
  "kernelspec": {
   "display_name": "Python 3",
   "language": "python",
   "name": "python3"
  },
  "language_info": {
   "codemirror_mode": {
    "name": "ipython",
    "version": 3
   },
   "file_extension": ".py",
   "mimetype": "text/x-python",
   "name": "python",
   "nbconvert_exporter": "python",
   "pygments_lexer": "ipython3",
   "version": "3.6.5"
  }
 },
 "nbformat": 4,
 "nbformat_minor": 2
}
