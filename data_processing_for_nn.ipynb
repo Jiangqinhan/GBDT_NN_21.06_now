{
 "cells": [
  {
   "cell_type": "code",
   "execution_count": 1,
   "metadata": {},
   "outputs": [],
   "source": [
    "import pandas as pd\n",
    "import numpy as np\n",
    "from ast import literal_eval\n",
    "import os\n",
    "from scipy.spatial import distance\n",
    "import pickle\n",
    "\n",
    "RootPath = r'D:\\Great_job_of_teammate'\n",
    "user_action_path = os.path.join(RootPath, \"wechat_algo_data1/user_action.csv\")\n",
    "feed_info_modified_path = os.path.join(RootPath, \"feed_info_modified2.pkl\")\n",
    "test_data_path = os.path.join(RootPath, \"wechat_algo_data1/test_a.csv\")\n",
    "user_interest_path = os.path.join(RootPath, \"user_interest.pkl\")\n",
    "LABEL_COLUMNS = ['click_avatar', 'forward', 'follow', 'favorite', 'read_comment', 'comment', 'like']\n",
    "ACTION_LIST = ['click_avatar', 'forward', 'follow', 'favorite', 'read_comment', 'comment', 'like', 'is_stay',\n",
    "               'is_finished']\n",
    "with open(feed_info_modified_path, 'rb') as file:\n",
    "    feed_info_modified_df = pickle.load(file)\n",
    "\n",
    "with open(user_interest_path, 'rb') as file:\n",
    "    user_interest_df = pickle.load(file)\n",
    "# 读取用户历史行为数据\n",
    "user_action_df = pd.read_csv(user_action_path)\n",
    "# 读取测试集数据\n",
    "test_data_df = pd.read_csv(test_data_path)\n",
    "# 统计视频第一次出现的日期，作为视频的发布日期\n",
    "feed_release_date = user_action_df.groupby(['feedid'])['date_'].apply(lambda x: x.min())\n",
    "feed_release_date = pd.DataFrame(feed_release_date)\n",
    "feed_info_modified_df = pd.merge(feed_info_modified_df, feed_release_date, how='left', on='feedid')\n",
    "# 将没有在之前出现过的视频发布日期设置为15\n",
    "feed_info_modified_df['date_'].fillna(15, inplace=True)\n",
    "feed_info_modified_df.rename(columns={'date_': 'release_date_'}, inplace=True)\n",
    "feed_info_df = feed_info_modified_df.copy()\n",
    "feed_info_df.set_index(['feedid'], inplace=True)\n",
    "# 统一play和stay的单位：\n",
    "user_action_df['play'] = user_action_df['play'] / 1000.0\n",
    "user_action_df['stay'] = user_action_df['stay'] / 1000.0\n",
    "# 标记用户是否产生过反馈：\n",
    "\n",
    "user_action_df['feedback'] = (user_action_df[LABEL_COLUMNS].sum(axis=1) > 0).astype(np.int)\n",
    "unique_user_df = pd.DataFrame(user_action_df['userid'].drop_duplicates())"
   ]
  },
  {
   "cell_type": "code",
   "execution_count": 2,
   "metadata": {},
   "outputs": [
    {
     "name": "stdout",
     "output_type": "stream",
     "text": [
      "<class 'str'>\n",
      "<class 'float'>\n"
     ]
    },
    {
     "name": "stderr",
     "output_type": "stream",
     "text": [
      "D:\\anacanda\\lib\\site-packages\\ipykernel_launcher.py:6: SettingWithCopyWarning: \n",
      "A value is trying to be set on a copy of a slice from a DataFrame.\n",
      "Try using .loc[row_indexer,col_indexer] = value instead\n",
      "\n",
      "See the caveats in the documentation: http://pandas.pydata.org/pandas-docs/stable/indexing.html#indexing-view-versus-copy\n",
      "  \n"
     ]
    }
   ],
   "source": [
    "path=os.path.join(RootPath,'feed_info_modified1.csv')\n",
    "feed_info_df=pd.read_csv(path)\n",
    "print(type(feed_info_df.iloc[0]['feed_embedding'][0]))\n",
    "from ast import literal_eval\n",
    "tmp=feed_info_df[['feedid']]\n",
    "tmp['feed_embedding'] = feed_info_df['feed_embedding'].apply(lambda x: literal_eval(x))\n",
    "print(type(tmp.loc[0,'feed_embedding'][0]))"
   ]
  },
  {
   "cell_type": "code",
   "execution_count": 3,
   "metadata": {},
   "outputs": [],
   "source": [
    "feed_info_df=tmp\n",
    "feed_info_df['feed_embedding'] = feed_info_df['feed_embedding'].apply(lambda x: np.array(x, np.float32))"
   ]
  },
  {
   "cell_type": "code",
   "execution_count": 4,
   "metadata": {},
   "outputs": [
    {
     "name": "stdout",
     "output_type": "stream",
     "text": [
      "Index(['userid', 'feedid', 'date_', 'device', 'read_comment', 'comment',\n",
      "       'like', 'play', 'stay', 'click_avatar', 'forward', 'follow', 'favorite',\n",
      "       'feedback'],\n",
      "      dtype='object')\n",
      "Index(['feedid', 'authorid', 'videoplayseconds', 'bgm_song_id',\n",
      "       'bgm_singer_id', 'author_n_feeds', 'videolength_bucket',\n",
      "       'feed_embedding', 'tag_list', 'keyword_list', 'embedding_0',\n",
      "       'embedding_1', 'embedding_2', 'embedding_3', 'embedding_4',\n",
      "       'embedding_5', 'embedding_6', 'embedding_7', 'embedding_8',\n",
      "       'embedding_9', 'embedding_10', 'embedding_11', 'embedding_12',\n",
      "       'embedding_13', 'embedding_14', 'embedding_15', 'embedding_16',\n",
      "       'embedding_17', 'embedding_18', 'embedding_19', 'embedding_20',\n",
      "       'embedding_21', 'embedding_22', 'embedding_23', 'embedding_24',\n",
      "       'embedding_25', 'embedding_26', 'embedding_27', 'embedding_28',\n",
      "       'embedding_29', 'embedding_30', 'embedding_31', 'author_n_feeds_bucket',\n",
      "       'release_date_'],\n",
      "      dtype='object')\n"
     ]
    }
   ],
   "source": [
    "print(user_action_df.columns)\n",
    "print(feed_info_modified_df.columns)"
   ]
  },
  {
   "cell_type": "code",
   "execution_count": 5,
   "metadata": {},
   "outputs": [
    {
     "name": "stdout",
     "output_type": "stream",
     "text": [
      "Index(['feedid', 'authorid', 'videoplayseconds'], dtype='object')\n"
     ]
    }
   ],
   "source": [
    "feed_info_modified_df=feed_info_modified_df[['feedid', 'authorid', 'videoplayseconds']]\n",
    "print(feed_info_modified_df.columns)\n"
   ]
  },
  {
   "cell_type": "code",
   "execution_count": 6,
   "metadata": {},
   "outputs": [],
   "source": [
    "user_action_df=pd.merge(user_action_df,feed_info_modified_df,on=['feedid'],how='left')\n",
    "user_action_df['is_finished'] = (user_action_df['play'] >= user_action_df['videoplayseconds']).astype(np.int)\n",
    "user_action_df['is_stay'] = (user_action_df['stay'] >= user_action_df['videoplayseconds'] * 2.0).astype(\n",
    "        np.int)"
   ]
  },
  {
   "cell_type": "code",
   "execution_count": 7,
   "metadata": {},
   "outputs": [],
   "source": [
    "#别忘了设置index！\n",
    "feed_info_df.set_index(['feedid'], inplace=True)"
   ]
  },
  {
   "cell_type": "code",
   "execution_count": 12,
   "metadata": {},
   "outputs": [],
   "source": [
    "def generate_user_embedding(user_action_df):\n",
    "\n",
    "    def feed_embedding_mean(feedid):\n",
    "        if len(feedid)>0:\n",
    "            a=feed_info_df.loc[feedid]['feed_embedding'].mean()\n",
    "        else:\n",
    "            print(\"!\")\n",
    "            a=np.zeros((512,))\n",
    "        return a \n",
    "        \n",
    "\n",
    "    user_embedding_df=user_action_df[user_action_df[ACTION_LIST].sum(axis=1)>0].groupby('userid')['feedid'].unique().reset_index()\n",
    "    #print(user_embedding_df.head())\n",
    "    user_embedding_df['user_embedding'] = user_embedding_df['feedid'].apply(lambda x: feed_embedding_mean(x))\n",
    "    user_id=user_action_df[['userid']].drop_duplicates(['userid'], keep='first', inplace=False)\n",
    "    #print(user_id.shape)\n",
    "    user_embedding_df=pd.merge(user_id,user_embedding_df,on=['userid'],how='left')\n",
    "    #print(user_embedding_df.columns)\n",
    "    num_of_na=user_embedding_df['user_embedding'].isnull().sum()\n",
    "    fill_null=np.zeros((512,))\n",
    "    for i in user_embedding_df[user_embedding_df['user_embedding'].isnull().values==True].index.tolist():\n",
    "        user_embedding_df.set_value(i, 'user_embedding',fill_null)\n",
    "    user_embedding_df.drop(columns=['feedid'],inplace=True)\n",
    "    print(user_embedding_df['user_embedding'].isnull().sum())\n",
    "    return user_embedding_df"
   ]
  },
  {
   "cell_type": "code",
   "execution_count": 13,
   "metadata": {},
   "outputs": [
    {
     "name": "stdout",
     "output_type": "stream",
     "text": [
      "Index(['userid', 'feedid', 'user_embedding'], dtype='object')\n",
      "0\n"
     ]
    },
    {
     "name": "stderr",
     "output_type": "stream",
     "text": [
      "D:\\anacanda\\lib\\site-packages\\ipykernel_launcher.py:22: FutureWarning: set_value is deprecated and will be removed in a future release. Please use .at[] or .iat[] accessors instead\n"
     ]
    }
   ],
   "source": [
    "user_action_train_split = user_action_df[(user_action_df['date_'] >= 1) & (user_action_df['date_'] <= 7)]\n",
    "#user_action_val_split = user_action_df[user_action_df['date_'] == date + days + 1][['userid', 'feedid', 'device'] + LABEL_COLUMNS]\n",
    "user_embedding=generate_user_embedding(user_action_train_split)      "
   ]
  },
  {
   "cell_type": "code",
   "execution_count": 14,
   "metadata": {},
   "outputs": [
    {
     "name": "stdout",
     "output_type": "stream",
     "text": [
      "0\n"
     ]
    }
   ],
   "source": [
    "print(user_embedding['user_embedding'].isnull().sum())"
   ]
  },
  {
   "cell_type": "code",
   "execution_count": 15,
   "metadata": {},
   "outputs": [
    {
     "name": "stdout",
     "output_type": "stream",
     "text": [
      "Index(['feedid', 'authorid', 'videoplayseconds'], dtype='object')\n"
     ]
    }
   ],
   "source": [
    "print(feed_info_modified_df.columns)"
   ]
  },
  {
   "cell_type": "code",
   "execution_count": 16,
   "metadata": {},
   "outputs": [
    {
     "name": "stdout",
     "output_type": "stream",
     "text": [
      "Index(['authorid', 'feedid', 'author_embedding'], dtype='object')\n"
     ]
    }
   ],
   "source": [
    "def generate_author_embedding():\n",
    "    def feed_embedding_mean(feedid):\n",
    "        try:\n",
    "            a=feed_info_df.loc[feedid]['feed_embedding'].mean()\n",
    "            return a \n",
    "        except KeyError:\n",
    "            print(feedid)\n",
    "    author_embedding_df=feed_info_modified_df.groupby('authorid')['feedid'].unique().reset_index()\n",
    "    author_embedding_df['author_embedding']=author_embedding_df['feedid'].apply(lambda x: feed_embedding_mean(x))\n",
    "    author_id=feed_info_modified_df[['authorid']].drop_duplicates(['authorid'], keep='first', inplace=False)\n",
    "    author_embedding_df=pd.merge(author_id,author_embedding_df,on=['authorid'],how='left')\n",
    "    print(author_embedding_df.columns)\n",
    "    author_embedding_df.drop(columns=['feedid'],inplace=True)\n",
    "    save_path=os.path.join(RootPath,'author_embedding.pkl')\n",
    "    #print(author_embedding_df.head())\n",
    "    with open(save_path,'wb') as f:\n",
    "        pickle.dump(author_embedding_df,f)\n",
    "    return author_embedding_df\n",
    "    \n",
    "result=generate_author_embedding()"
   ]
  },
  {
   "cell_type": "code",
   "execution_count": null,
   "metadata": {},
   "outputs": [],
   "source": [
    "save_path=os.path.join(RootPath,'author_embedding.pkl')\n",
    "with open(save_path,'rb') as f:\n",
    "    result=pickle.load(f)\n",
    "print(type((result.iloc[0]['author_embedding'])))"
   ]
  },
  {
   "cell_type": "code",
   "execution_count": null,
   "metadata": {},
   "outputs": [],
   "source": [
    "print(type((user_embedding.iloc[0]['user_embedding'])))\n",
    "print(user_embedding.columns)"
   ]
  },
  {
   "cell_type": "code",
   "execution_count": null,
   "metadata": {},
   "outputs": [],
   "source": [
    "def Split_and_Process(user_action_df, days): \n",
    "  \"\"\"\n",
    "  days: 滑动窗口的大小\n",
    "  \"\"\"\n",
    "  for date in range(14 - days):\n",
    "    user_action_train_split = user_action_df[(user_action_df['date_'] >= 1) & (user_action_df['date_'] <= date + days)]\n",
    "    user_embedding=generate_user_embedding(user_action_train_split)\n",
    "    save_path=os.path.join(RootPath,'user_embedding_{}.pkl'.format(date+days+1))\n",
    "    with open(save_path,'wb') as f:\n",
    "        pickle.dump(user_embedding,f)\n",
    "    print()"
   ]
  },
  {
   "cell_type": "code",
   "execution_count": null,
   "metadata": {},
   "outputs": [],
   "source": [
    "Split_and_Process(user_action_df,7)"
   ]
  },
  {
   "cell_type": "code",
   "execution_count": null,
   "metadata": {},
   "outputs": [],
   "source": []
  }
 ],
 "metadata": {
  "kernelspec": {
   "display_name": "Python 3",
   "language": "python",
   "name": "python3"
  },
  "language_info": {
   "codemirror_mode": {
    "name": "ipython",
    "version": 3
   },
   "file_extension": ".py",
   "mimetype": "text/x-python",
   "name": "python",
   "nbconvert_exporter": "python",
   "pygments_lexer": "ipython3",
   "version": "3.6.5"
  }
 },
 "nbformat": 4,
 "nbformat_minor": 2
}