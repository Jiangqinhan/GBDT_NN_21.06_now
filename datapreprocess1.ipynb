{
 "cells": [
  {
   "cell_type": "code",
   "execution_count": 1,
   "metadata": {
    "id": "E_i8VJr0NkRX"
   },
   "outputs": [],
   "source": [
    "feed_info_path = \"./wechat_algo_data1/feed_info.csv\"\n",
    "feed_embedding_path = \"./wechat_algo_data1/feed_embeddings.csv\"\n",
    "user_action_path = \"./wechat_algo_data1/user_action.csv\""
   ]
  },
  {
   "cell_type": "code",
   "execution_count": 2,
   "metadata": {
    "id": "7Akj80QmOLTP"
   },
   "outputs": [],
   "source": [
    "import pandas as pd\n",
    "\n",
    "feed_info_df = pd.read_csv(feed_info_path)\n",
    "feed_embedding_df = pd.read_csv(feed_embedding_path)\n",
    "user_action_df = pd.read_csv(user_action_path)"
   ]
  },
  {
   "cell_type": "code",
   "execution_count": 3,
   "metadata": {
    "colab": {
     "base_uri": "https://localhost:8080/"
    },
    "executionInfo": {
     "elapsed": 394,
     "status": "ok",
     "timestamp": 1623667048300,
     "user": {
      "displayName": "Qing Li",
      "photoUrl": "",
      "userId": "14621704085933727451"
     },
     "user_tz": -480
    },
    "id": "BN490jIaGJeU",
    "outputId": "03d732b2-60d4-4a58-d837-d6de346abc00"
   },
   "outputs": [
    {
     "data": {
      "text/plain": [
       "0         -0.02032269 0.06095614 0.11057708 0.03385210 0...\n",
       "1         -0.07594238 0.01796364 -0.00135112 -0.00333468...\n",
       "2         -0.05067272 -0.08208735 -0.01929738 -0.0150182...\n",
       "3         -0.06976026 0.00218324 0.04416835 0.06146711 -...\n",
       "4         -0.04981736 -0.03523079 0.03022859 0.06672543 ...\n",
       "5         -0.10077595 -0.01764622 0.03897166 -0.04593844...\n",
       "6         -0.07481042 -0.07795808 0.00200225 -0.02691050...\n",
       "7         -0.00903127 0.04316609 0.06915708 0.00960549 0...\n",
       "8         -0.04625623 -0.01046129 0.08407867 -0.00102488...\n",
       "9         -0.03590044 0.01959696 0.01913530 0.03326439 0...\n",
       "10        0.02330088 -0.08954024 0.08977091 0.00342382 -...\n",
       "11        -0.06054044 -0.04755686 0.11235277 -0.02685562...\n",
       "12        -0.02812439 0.06064593 0.05121400 -0.04211963 ...\n",
       "13        -0.02090467 -0.05882109 -0.02103992 0.01097556...\n",
       "14        -0.05427841 -0.00819579 0.00886164 -0.04061771...\n",
       "15        0.05334136 0.03053676 0.07789880 0.02851067 -0...\n",
       "16        -0.04240906 0.01977679 0.11723324 -0.02934997 ...\n",
       "17        0.03399184 -0.01216165 0.00245028 -0.00515031 ...\n",
       "18        -0.12175456 -0.08234337 0.06434005 -0.06689166...\n",
       "19        -0.08390810 0.07177486 0.10243203 -0.02698596 ...\n",
       "20        -0.04739425 -0.04016005 0.05205349 -0.02776961...\n",
       "21        -0.01704006 0.06370918 0.07255671 0.01194770 -...\n",
       "22        -0.05242007 0.02203703 0.05917884 0.02359789 -...\n",
       "23        -0.04677758 -0.02795179 0.04259420 -0.04698341...\n",
       "24        -0.02360258 0.00401036 0.00361352 0.06012003 0...\n",
       "25        -0.04247181 -0.04073846 -0.01570090 0.04794647...\n",
       "26        -0.00141664 0.01870624 0.10978062 0.04042649 -...\n",
       "27        -0.03203573 -0.01555336 0.03327749 -0.06444257...\n",
       "28        -0.05261081 0.06089014 0.06677577 -0.05368337 ...\n",
       "29        0.00028157 -0.04083644 0.07160126 -0.02529696 ...\n",
       "                                ...                        \n",
       "106414    -0.01180425 -0.05695267 -0.02637611 0.01704679...\n",
       "106415    -0.03211214 -0.06436720 0.09784594 0.06615942 ...\n",
       "106416    0.01356366 -0.07902813 0.00291121 0.02210718 -...\n",
       "106417    0.00425145 -0.04995677 -0.04232875 -0.02092904...\n",
       "106418    -0.09261418 0.02661618 -0.01143077 -0.01652565...\n",
       "106419    0.02388180 -0.00659484 0.04637767 -0.03640437 ...\n",
       "106420    -0.03598471 -0.04070012 0.04725303 -0.01076414...\n",
       "106421    -0.07902723 -0.03747073 0.05246077 0.03792393 ...\n",
       "106422    -0.01647833 0.02948788 0.08864979 -0.04438290 ...\n",
       "106423    -0.05604141 -0.00267917 -0.03133117 0.04432881...\n",
       "106424    0.01088626 0.00468042 0.03472129 0.03106069 -0...\n",
       "106425    0.08326541 0.10475796 0.01518146 -0.00529367 0...\n",
       "106426    0.05737058 0.06169509 0.08374844 -0.00592048 0...\n",
       "106427    -0.09064838 0.03696627 0.10650527 -0.00178644 ...\n",
       "106428    -0.07342568 -0.02646525 0.00989723 -0.00445500...\n",
       "106429    -0.07622709 -0.06751485 0.06118100 -0.03584092...\n",
       "106430    0.00412536 -0.04970190 0.08816262 0.03866678 -...\n",
       "106431    -0.03360041 0.00877287 0.09742205 0.04757548 -...\n",
       "106432    -0.03189001 -0.02186668 0.01537902 0.01804592 ...\n",
       "106433    -0.03348489 0.03559451 0.07707215 -0.00064857 ...\n",
       "106434    -0.02611464 -0.08459398 0.02955760 -0.03195966...\n",
       "106435    -0.00122877 0.04401791 0.02295248 -0.02644788 ...\n",
       "106436    0.05089527 -0.00084066 -0.01730121 0.06788762 ...\n",
       "106437    0.06258511 -0.00559049 0.05786136 0.05098088 0...\n",
       "106438    -0.06882698 -0.00306555 0.11357705 0.00118110 ...\n",
       "106439    -0.00801850 0.03034283 0.09088695 -0.01049765 ...\n",
       "106440    -0.02209187 -0.05218977 0.04746873 -0.07294663...\n",
       "106441    -0.00619426 0.00436533 0.02677129 -0.02013679 ...\n",
       "106442    -0.05661627 -0.13232523 -0.03405083 0.02689592...\n",
       "106443    -0.03162132 0.01220179 -0.03419615 0.04179954 ...\n",
       "Name: feed_embedding, Length: 106444, dtype: object"
      ]
     },
     "execution_count": 3,
     "metadata": {},
     "output_type": "execute_result"
    }
   ],
   "source": [
    "feed_embedding_df['feed_embedding']"
   ]
  },
  {
   "cell_type": "code",
   "execution_count": 4,
   "metadata": {
    "colab": {
     "base_uri": "https://localhost:8080/",
     "height": 203
    },
    "executionInfo": {
     "elapsed": 4,
     "status": "ok",
     "timestamp": 1623667012785,
     "user": {
      "displayName": "Qing Li",
      "photoUrl": "",
      "userId": "14621704085933727451"
     },
     "user_tz": -480
    },
    "id": "ftzKmFOMFzui",
    "outputId": "9d1cf0eb-fbc1-47df-cb76-fd07489ce18d"
   },
   "outputs": [
    {
     "data": {
      "text/html": [
       "<div>\n",
       "<style scoped>\n",
       "    .dataframe tbody tr th:only-of-type {\n",
       "        vertical-align: middle;\n",
       "    }\n",
       "\n",
       "    .dataframe tbody tr th {\n",
       "        vertical-align: top;\n",
       "    }\n",
       "\n",
       "    .dataframe thead th {\n",
       "        text-align: right;\n",
       "    }\n",
       "</style>\n",
       "<table border=\"1\" class=\"dataframe\">\n",
       "  <thead>\n",
       "    <tr style=\"text-align: right;\">\n",
       "      <th></th>\n",
       "      <th>userid</th>\n",
       "      <th>feedid</th>\n",
       "      <th>date_</th>\n",
       "      <th>device</th>\n",
       "      <th>read_comment</th>\n",
       "      <th>comment</th>\n",
       "      <th>like</th>\n",
       "      <th>play</th>\n",
       "      <th>stay</th>\n",
       "      <th>click_avatar</th>\n",
       "      <th>forward</th>\n",
       "      <th>follow</th>\n",
       "      <th>favorite</th>\n",
       "    </tr>\n",
       "  </thead>\n",
       "  <tbody>\n",
       "    <tr>\n",
       "      <th>0</th>\n",
       "      <td>8</td>\n",
       "      <td>71474</td>\n",
       "      <td>1</td>\n",
       "      <td>1</td>\n",
       "      <td>0</td>\n",
       "      <td>0</td>\n",
       "      <td>1</td>\n",
       "      <td>500</td>\n",
       "      <td>5366</td>\n",
       "      <td>0</td>\n",
       "      <td>0</td>\n",
       "      <td>0</td>\n",
       "      <td>0</td>\n",
       "    </tr>\n",
       "    <tr>\n",
       "      <th>1</th>\n",
       "      <td>8</td>\n",
       "      <td>73916</td>\n",
       "      <td>1</td>\n",
       "      <td>1</td>\n",
       "      <td>0</td>\n",
       "      <td>0</td>\n",
       "      <td>0</td>\n",
       "      <td>250</td>\n",
       "      <td>1533</td>\n",
       "      <td>0</td>\n",
       "      <td>0</td>\n",
       "      <td>0</td>\n",
       "      <td>0</td>\n",
       "    </tr>\n",
       "    <tr>\n",
       "      <th>2</th>\n",
       "      <td>8</td>\n",
       "      <td>50282</td>\n",
       "      <td>1</td>\n",
       "      <td>1</td>\n",
       "      <td>0</td>\n",
       "      <td>0</td>\n",
       "      <td>0</td>\n",
       "      <td>750</td>\n",
       "      <td>1302</td>\n",
       "      <td>0</td>\n",
       "      <td>0</td>\n",
       "      <td>0</td>\n",
       "      <td>0</td>\n",
       "    </tr>\n",
       "    <tr>\n",
       "      <th>3</th>\n",
       "      <td>8</td>\n",
       "      <td>11391</td>\n",
       "      <td>1</td>\n",
       "      <td>1</td>\n",
       "      <td>0</td>\n",
       "      <td>0</td>\n",
       "      <td>1</td>\n",
       "      <td>3750</td>\n",
       "      <td>5191</td>\n",
       "      <td>0</td>\n",
       "      <td>0</td>\n",
       "      <td>0</td>\n",
       "      <td>0</td>\n",
       "    </tr>\n",
       "    <tr>\n",
       "      <th>4</th>\n",
       "      <td>8</td>\n",
       "      <td>27349</td>\n",
       "      <td>1</td>\n",
       "      <td>1</td>\n",
       "      <td>0</td>\n",
       "      <td>0</td>\n",
       "      <td>0</td>\n",
       "      <td>250</td>\n",
       "      <td>800</td>\n",
       "      <td>0</td>\n",
       "      <td>0</td>\n",
       "      <td>0</td>\n",
       "      <td>0</td>\n",
       "    </tr>\n",
       "  </tbody>\n",
       "</table>\n",
       "</div>"
      ],
      "text/plain": [
       "   userid  feedid  date_  device  read_comment  comment  like  play  stay  \\\n",
       "0       8   71474      1       1             0        0     1   500  5366   \n",
       "1       8   73916      1       1             0        0     0   250  1533   \n",
       "2       8   50282      1       1             0        0     0   750  1302   \n",
       "3       8   11391      1       1             0        0     1  3750  5191   \n",
       "4       8   27349      1       1             0        0     0   250   800   \n",
       "\n",
       "   click_avatar  forward  follow  favorite  \n",
       "0             0        0       0         0  \n",
       "1             0        0       0         0  \n",
       "2             0        0       0         0  \n",
       "3             0        0       0         0  \n",
       "4             0        0       0         0  "
      ]
     },
     "execution_count": 4,
     "metadata": {},
     "output_type": "execute_result"
    }
   ],
   "source": [
    "user_action_df.head()"
   ]
  },
  {
   "cell_type": "code",
   "execution_count": 5,
   "metadata": {
    "id": "pyCPviBvOdqh"
   },
   "outputs": [],
   "source": [
    "#feed_info_df = feed_info_df[['feedid', 'authorid', 'videoplayseconds', 'bgm_song_id', 'bgm_singer_id']]"
   ]
  },
  {
   "cell_type": "code",
   "execution_count": 6,
   "metadata": {
    "colab": {
     "base_uri": "https://localhost:8080/"
    },
    "executionInfo": {
     "elapsed": 3,
     "status": "ok",
     "timestamp": 1622348500465,
     "user": {
      "displayName": "Qing Li",
      "photoUrl": "",
      "userId": "14621704085933727451"
     },
     "user_tz": -480
    },
    "id": "DerNyoqqgPs9",
    "outputId": "d3ca2004-a3d5-4308-e623-d0528375d72b"
   },
   "outputs": [
    {
     "data": {
      "text/plain": [
       "(106444, 15)"
      ]
     },
     "execution_count": 6,
     "metadata": {},
     "output_type": "execute_result"
    }
   ],
   "source": [
    "feed_info_df.shape"
   ]
  },
  {
   "cell_type": "code",
   "execution_count": 7,
   "metadata": {
    "colab": {
     "base_uri": "https://localhost:8080/"
    },
    "executionInfo": {
     "elapsed": 285,
     "status": "ok",
     "timestamp": 1622348505856,
     "user": {
      "displayName": "Qing Li",
      "photoUrl": "",
      "userId": "14621704085933727451"
     },
     "user_tz": -480
    },
    "id": "EZjYVauDgT1D",
    "outputId": "feda8d06-d967-41bf-d66a-dcb3caf3e67f"
   },
   "outputs": [
    {
     "data": {
      "text/plain": [
       "(106444, 2)"
      ]
     },
     "execution_count": 7,
     "metadata": {},
     "output_type": "execute_result"
    }
   ],
   "source": [
    "feed_embedding_df.shape"
   ]
  },
  {
   "cell_type": "code",
   "execution_count": 8,
   "metadata": {
    "colab": {
     "base_uri": "https://localhost:8080/",
     "height": 203
    },
    "executionInfo": {
     "elapsed": 4,
     "status": "ok",
     "timestamp": 1622348575618,
     "user": {
      "displayName": "Qing Li",
      "photoUrl": "",
      "userId": "14621704085933727451"
     },
     "user_tz": -480
    },
    "id": "O4b29HOCgbZT",
    "outputId": "5f941e8d-a4cc-4658-f9ee-977242f7197a"
   },
   "outputs": [
    {
     "data": {
      "text/html": [
       "<div>\n",
       "<style scoped>\n",
       "    .dataframe tbody tr th:only-of-type {\n",
       "        vertical-align: middle;\n",
       "    }\n",
       "\n",
       "    .dataframe tbody tr th {\n",
       "        vertical-align: top;\n",
       "    }\n",
       "\n",
       "    .dataframe thead th {\n",
       "        text-align: right;\n",
       "    }\n",
       "</style>\n",
       "<table border=\"1\" class=\"dataframe\">\n",
       "  <thead>\n",
       "    <tr style=\"text-align: right;\">\n",
       "      <th></th>\n",
       "      <th>userid</th>\n",
       "      <th>feedid</th>\n",
       "      <th>date_</th>\n",
       "      <th>device</th>\n",
       "      <th>read_comment</th>\n",
       "      <th>comment</th>\n",
       "      <th>like</th>\n",
       "      <th>play</th>\n",
       "      <th>stay</th>\n",
       "      <th>click_avatar</th>\n",
       "      <th>forward</th>\n",
       "      <th>follow</th>\n",
       "      <th>favorite</th>\n",
       "    </tr>\n",
       "  </thead>\n",
       "  <tbody>\n",
       "    <tr>\n",
       "      <th>0</th>\n",
       "      <td>8</td>\n",
       "      <td>71474</td>\n",
       "      <td>1</td>\n",
       "      <td>1</td>\n",
       "      <td>0</td>\n",
       "      <td>0</td>\n",
       "      <td>1</td>\n",
       "      <td>500</td>\n",
       "      <td>5366</td>\n",
       "      <td>0</td>\n",
       "      <td>0</td>\n",
       "      <td>0</td>\n",
       "      <td>0</td>\n",
       "    </tr>\n",
       "    <tr>\n",
       "      <th>1</th>\n",
       "      <td>8</td>\n",
       "      <td>73916</td>\n",
       "      <td>1</td>\n",
       "      <td>1</td>\n",
       "      <td>0</td>\n",
       "      <td>0</td>\n",
       "      <td>0</td>\n",
       "      <td>250</td>\n",
       "      <td>1533</td>\n",
       "      <td>0</td>\n",
       "      <td>0</td>\n",
       "      <td>0</td>\n",
       "      <td>0</td>\n",
       "    </tr>\n",
       "    <tr>\n",
       "      <th>2</th>\n",
       "      <td>8</td>\n",
       "      <td>50282</td>\n",
       "      <td>1</td>\n",
       "      <td>1</td>\n",
       "      <td>0</td>\n",
       "      <td>0</td>\n",
       "      <td>0</td>\n",
       "      <td>750</td>\n",
       "      <td>1302</td>\n",
       "      <td>0</td>\n",
       "      <td>0</td>\n",
       "      <td>0</td>\n",
       "      <td>0</td>\n",
       "    </tr>\n",
       "    <tr>\n",
       "      <th>3</th>\n",
       "      <td>8</td>\n",
       "      <td>11391</td>\n",
       "      <td>1</td>\n",
       "      <td>1</td>\n",
       "      <td>0</td>\n",
       "      <td>0</td>\n",
       "      <td>1</td>\n",
       "      <td>3750</td>\n",
       "      <td>5191</td>\n",
       "      <td>0</td>\n",
       "      <td>0</td>\n",
       "      <td>0</td>\n",
       "      <td>0</td>\n",
       "    </tr>\n",
       "    <tr>\n",
       "      <th>4</th>\n",
       "      <td>8</td>\n",
       "      <td>27349</td>\n",
       "      <td>1</td>\n",
       "      <td>1</td>\n",
       "      <td>0</td>\n",
       "      <td>0</td>\n",
       "      <td>0</td>\n",
       "      <td>250</td>\n",
       "      <td>800</td>\n",
       "      <td>0</td>\n",
       "      <td>0</td>\n",
       "      <td>0</td>\n",
       "      <td>0</td>\n",
       "    </tr>\n",
       "  </tbody>\n",
       "</table>\n",
       "</div>"
      ],
      "text/plain": [
       "   userid  feedid  date_  device  read_comment  comment  like  play  stay  \\\n",
       "0       8   71474      1       1             0        0     1   500  5366   \n",
       "1       8   73916      1       1             0        0     0   250  1533   \n",
       "2       8   50282      1       1             0        0     0   750  1302   \n",
       "3       8   11391      1       1             0        0     1  3750  5191   \n",
       "4       8   27349      1       1             0        0     0   250   800   \n",
       "\n",
       "   click_avatar  forward  follow  favorite  \n",
       "0             0        0       0         0  \n",
       "1             0        0       0         0  \n",
       "2             0        0       0         0  \n",
       "3             0        0       0         0  \n",
       "4             0        0       0         0  "
      ]
     },
     "execution_count": 8,
     "metadata": {},
     "output_type": "execute_result"
    }
   ],
   "source": [
    "user_action_df.head()"
   ]
  },
  {
   "cell_type": "markdown",
   "metadata": {
    "id": "I2X8GtW7g6qk"
   },
   "source": [
    "### Feed 信息的统计\n"
   ]
  },
  {
   "cell_type": "code",
   "execution_count": 9,
   "metadata": {
    "colab": {
     "base_uri": "https://localhost:8080/"
    },
    "executionInfo": {
     "elapsed": 409,
     "status": "ok",
     "timestamp": 1623667167510,
     "user": {
      "displayName": "Qing Li",
      "photoUrl": "",
      "userId": "14621704085933727451"
     },
     "user_tz": -480
    },
    "id": "4LvPZq24Gq3T",
    "outputId": "93742865-e6bb-41ab-da6c-7b3f2d9d4752"
   },
   "outputs": [
    {
     "data": {
      "text/plain": [
       "Index(['feedid', 'authorid', 'videoplayseconds', 'description', 'ocr', 'asr',\n",
       "       'bgm_song_id', 'bgm_singer_id', 'manual_keyword_list',\n",
       "       'machine_keyword_list', 'manual_tag_list', 'machine_tag_list',\n",
       "       'description_char', 'ocr_char', 'asr_char'],\n",
       "      dtype='object')"
      ]
     },
     "execution_count": 9,
     "metadata": {},
     "output_type": "execute_result"
    }
   ],
   "source": [
    "feed_info_df.columns"
   ]
  },
  {
   "cell_type": "code",
   "execution_count": 10,
   "metadata": {
    "colab": {
     "base_uri": "https://localhost:8080/"
    },
    "executionInfo": {
     "elapsed": 3,
     "status": "ok",
     "timestamp": 1623667260071,
     "user": {
      "displayName": "Qing Li",
      "photoUrl": "",
      "userId": "14621704085933727451"
     },
     "user_tz": -480
    },
    "id": "73crliCqG1cr",
    "outputId": "a5d93b93-22ae-4672-a29a-bff039a72ab5"
   },
   "outputs": [
    {
     "data": {
      "text/plain": [
       "106444"
      ]
     },
     "execution_count": 10,
     "metadata": {},
     "output_type": "execute_result"
    }
   ],
   "source": [
    "feed_info_df['feedid'].nunique()"
   ]
  },
  {
   "cell_type": "markdown",
   "metadata": {
    "id": "mE-91TvDHxb7"
   },
   "source": [
    "统计关于authorid的信息"
   ]
  },
  {
   "cell_type": "code",
   "execution_count": 11,
   "metadata": {
    "colab": {
     "base_uri": "https://localhost:8080/"
    },
    "executionInfo": {
     "elapsed": 3,
     "status": "ok",
     "timestamp": 1623670853844,
     "user": {
      "displayName": "Qing Li",
      "photoUrl": "",
      "userId": "14621704085933727451"
     },
     "user_tz": -480
    },
    "id": "wSx4Mi6bUrlh",
    "outputId": "73d8ba49-4958-4d1b-c280-d6cfc14c5153"
   },
   "outputs": [
    {
     "data": {
      "text/plain": [
       "0"
      ]
     },
     "execution_count": 11,
     "metadata": {},
     "output_type": "execute_result"
    }
   ],
   "source": [
    "feed_info_df['authorid'].isna().sum()"
   ]
  },
  {
   "cell_type": "code",
   "execution_count": 12,
   "metadata": {
    "colab": {
     "base_uri": "https://localhost:8080/"
    },
    "executionInfo": {
     "elapsed": 3,
     "status": "ok",
     "timestamp": 1623670554816,
     "user": {
      "displayName": "Qing Li",
      "photoUrl": "",
      "userId": "14621704085933727451"
     },
     "user_tz": -480
    },
    "id": "jJ6OK-bPH918",
    "outputId": "58be18e4-2714-43dd-9954-b22fe2a8231f"
   },
   "outputs": [
    {
     "data": {
      "text/plain": [
       "18789"
      ]
     },
     "execution_count": 12,
     "metadata": {},
     "output_type": "execute_result"
    }
   ],
   "source": [
    "feed_info_df['authorid'].nunique()"
   ]
  },
  {
   "cell_type": "code",
   "execution_count": 13,
   "metadata": {
    "id": "KnyRwMikTqgN"
   },
   "outputs": [],
   "source": [
    "author_n_feeds = feed_info_df['authorid'].value_counts()"
   ]
  },
  {
   "cell_type": "code",
   "execution_count": 14,
   "metadata": {
    "colab": {
     "base_uri": "https://localhost:8080/"
    },
    "executionInfo": {
     "elapsed": 333,
     "status": "ok",
     "timestamp": 1623671063650,
     "user": {
      "displayName": "Qing Li",
      "photoUrl": "",
      "userId": "14621704085933727451"
     },
     "user_tz": -480
    },
    "id": "yAHoM2CwVenX",
    "outputId": "814383a5-33a4-4eef-c86a-78e46d4e32aa"
   },
   "outputs": [
    {
     "data": {
      "text/plain": [
       "1"
      ]
     },
     "execution_count": 14,
     "metadata": {},
     "output_type": "execute_result"
    }
   ],
   "source": [
    "author_n_feeds[14652]"
   ]
  },
  {
   "cell_type": "code",
   "execution_count": 15,
   "metadata": {
    "colab": {
     "base_uri": "https://localhost:8080/",
     "height": 282
    },
    "executionInfo": {
     "elapsed": 830,
     "status": "ok",
     "timestamp": 1623670598681,
     "user": {
      "displayName": "Qing Li",
      "photoUrl": "",
      "userId": "14621704085933727451"
     },
     "user_tz": -480
    },
    "id": "LBog72LgHAWj",
    "outputId": "626f4f2a-704d-43f6-d35d-d6228f113fb7"
   },
   "outputs": [
    {
     "data": {
      "text/plain": [
       "<matplotlib.axes._subplots.AxesSubplot at 0x21f8df9a438>"
      ]
     },
     "execution_count": 15,
     "metadata": {},
     "output_type": "execute_result"
    }
   ],
   "source": [
    "# 统计关于authorid的信息\n",
    "((feed_info_df['authorid'].value_counts())/5).hist(bins=70)"
   ]
  },
  {
   "cell_type": "code",
   "execution_count": 16,
   "metadata": {
    "id": "BRoppYRHUMz-"
   },
   "outputs": [],
   "source": [
    "feed_info_df['author_n_feeds'] = feed_info_df['authorid'].apply(lambda x: author_n_feeds[x])"
   ]
  },
  {
   "cell_type": "markdown",
   "metadata": {
    "id": "XVazwgKCVvVN"
   },
   "source": [
    "视频时长videoplayseconds"
   ]
  },
  {
   "cell_type": "code",
   "execution_count": 17,
   "metadata": {
    "colab": {
     "base_uri": "https://localhost:8080/",
     "height": 295
    },
    "executionInfo": {
     "elapsed": 344,
     "status": "ok",
     "timestamp": 1623671166607,
     "user": {
      "displayName": "Qing Li",
      "photoUrl": "",
      "userId": "14621704085933727451"
     },
     "user_tz": -480
    },
    "id": "bzyYhMlwOiiv",
    "outputId": "7cb79c53-3202-4ee7-b013-a023d05c387c"
   },
   "outputs": [
    {
     "data": {
      "text/html": [
       "<div>\n",
       "<style scoped>\n",
       "    .dataframe tbody tr th:only-of-type {\n",
       "        vertical-align: middle;\n",
       "    }\n",
       "\n",
       "    .dataframe tbody tr th {\n",
       "        vertical-align: top;\n",
       "    }\n",
       "\n",
       "    .dataframe thead th {\n",
       "        text-align: right;\n",
       "    }\n",
       "</style>\n",
       "<table border=\"1\" class=\"dataframe\">\n",
       "  <thead>\n",
       "    <tr style=\"text-align: right;\">\n",
       "      <th></th>\n",
       "      <th>videoplayseconds</th>\n",
       "    </tr>\n",
       "  </thead>\n",
       "  <tbody>\n",
       "    <tr>\n",
       "      <th>count</th>\n",
       "      <td>106444.000000</td>\n",
       "    </tr>\n",
       "    <tr>\n",
       "      <th>mean</th>\n",
       "      <td>34.446545</td>\n",
       "    </tr>\n",
       "    <tr>\n",
       "      <th>std</th>\n",
       "      <td>277.086122</td>\n",
       "    </tr>\n",
       "    <tr>\n",
       "      <th>min</th>\n",
       "      <td>2.000000</td>\n",
       "    </tr>\n",
       "    <tr>\n",
       "      <th>25%</th>\n",
       "      <td>14.000000</td>\n",
       "    </tr>\n",
       "    <tr>\n",
       "      <th>50%</th>\n",
       "      <td>26.000000</td>\n",
       "    </tr>\n",
       "    <tr>\n",
       "      <th>75%</th>\n",
       "      <td>54.000000</td>\n",
       "    </tr>\n",
       "    <tr>\n",
       "      <th>max</th>\n",
       "      <td>59960.000000</td>\n",
       "    </tr>\n",
       "  </tbody>\n",
       "</table>\n",
       "</div>"
      ],
      "text/plain": [
       "       videoplayseconds\n",
       "count     106444.000000\n",
       "mean          34.446545\n",
       "std          277.086122\n",
       "min            2.000000\n",
       "25%           14.000000\n",
       "50%           26.000000\n",
       "75%           54.000000\n",
       "max        59960.000000"
      ]
     },
     "execution_count": 17,
     "metadata": {},
     "output_type": "execute_result"
    }
   ],
   "source": [
    "# 视频播放时长的统计信息\n",
    "feed_info_df[['videoplayseconds']].describe()"
   ]
  },
  {
   "cell_type": "code",
   "execution_count": 18,
   "metadata": {
    "id": "ma5jCm5hOkuT"
   },
   "outputs": [],
   "source": [
    "from matplotlib import pyplot as plt"
   ]
  },
  {
   "cell_type": "code",
   "execution_count": 19,
   "metadata": {
    "id": "FwgBgY6cOmXC"
   },
   "outputs": [],
   "source": [
    "feed_info_df['videolength_bucket'] = feed_info_df['videoplayseconds'].apply(lambda x: int(x/10) + 1)"
   ]
  },
  {
   "cell_type": "code",
   "execution_count": 20,
   "metadata": {
    "colab": {
     "base_uri": "https://localhost:8080/"
    },
    "executionInfo": {
     "elapsed": 371,
     "status": "ok",
     "timestamp": 1623671194523,
     "user": {
      "displayName": "Qing Li",
      "photoUrl": "",
      "userId": "14621704085933727451"
     },
     "user_tz": -480
    },
    "id": "4j3fXLq_PIc5",
    "outputId": "a4508419-40e4-4aaf-e7c5-869c2b5f282e"
   },
   "outputs": [
    {
     "data": {
      "text/plain": [
       "2       31328\n",
       "7       20130\n",
       "3       16450\n",
       "4       10369\n",
       "1       10175\n",
       "6       10172\n",
       "5        7805\n",
       "1014        1\n",
       "897         1\n",
       "1028        1\n",
       "965         1\n",
       "3063        1\n",
       "1107        1\n",
       "2518        1\n",
       "2521        1\n",
       "792         1\n",
       "28          1\n",
       "2594        1\n",
       "5997        1\n",
       "1394        1\n",
       "628         1\n",
       "2960        1\n",
       "Name: videolength_bucket, dtype: int64"
      ]
     },
     "execution_count": 20,
     "metadata": {},
     "output_type": "execute_result"
    }
   ],
   "source": [
    "# 视频的主要时长都在80s以内，也就是绝大部分都是短视频，极少数是长视频\n",
    "feed_info_df['videolength_bucket'].value_counts()"
   ]
  },
  {
   "cell_type": "code",
   "execution_count": 21,
   "metadata": {
    "colab": {
     "base_uri": "https://localhost:8080/",
     "height": 282
    },
    "executionInfo": {
     "elapsed": 1363,
     "status": "ok",
     "timestamp": 1623671286223,
     "user": {
      "displayName": "Qing Li",
      "photoUrl": "",
      "userId": "14621704085933727451"
     },
     "user_tz": -480
    },
    "id": "F_MlaJYIPKo0",
    "outputId": "59487fcf-69a1-4e19-84b9-0f8954a0cd29"
   },
   "outputs": [
    {
     "data": {
      "text/plain": [
       "<matplotlib.axes._subplots.AxesSubplot at 0x21f8e276da0>"
      ]
     },
     "execution_count": 21,
     "metadata": {},
     "output_type": "execute_result"
    },
    {
     "data": {
      "image/png": "[encoded data removed]",
      "text/plain": [
       "<Figure size 432x288 with 1 Axes>"
      ]
     },
     "metadata": {},
     "output_type": "display_data"
    }
   ],
   "source": [
    "# 视频时长的分布,单位为 10s \n",
    "feed_info_df[feed_info_df['videolength_bucket'] < 10]['videolength_bucket'].hist(bins=7)"
   ]
  },
  {
   "cell_type": "code",
   "execution_count": 22,
   "metadata": {
    "id": "iSxCGU1qWhvv"
   },
   "outputs": [],
   "source": [
    "# 对视频时长做指数平滑\n",
    "import numpy as np\n",
    "feed_info_df['videolength_log'] = np.log(feed_info_df['videoplayseconds'] + 1)"
   ]
  },
  {
   "cell_type": "markdown",
   "metadata": {
    "id": "zaifLaWMW0mN"
   },
   "source": [
    "对bgm_song_id进行处理"
   ]
  },
  {
   "cell_type": "code",
   "execution_count": 23,
   "metadata": {
    "colab": {
     "base_uri": "https://localhost:8080/"
    },
    "executionInfo": {
     "elapsed": 397,
     "status": "ok",
     "timestamp": 1623671537629,
     "user": {
      "displayName": "Qing Li",
      "photoUrl": "",
      "userId": "14621704085933727451"
     },
     "user_tz": -480
    },
    "id": "ylyR9xE4mcl0",
    "outputId": "a19bcbda-61b9-4cf1-91ce-73cd95353f58"
   },
   "outputs": [
    {
     "data": {
      "text/plain": [
       "0.49774529329976325"
      ]
     },
     "execution_count": 23,
     "metadata": {},
     "output_type": "execute_result"
    }
   ],
   "source": [
    "feed_info_df['bgm_song_id'].isna().sum() / len(feed_info_df)"
   ]
  },
  {
   "cell_type": "code",
   "execution_count": 24,
   "metadata": {
    "colab": {
     "base_uri": "https://localhost:8080/"
    },
    "executionInfo": {
     "elapsed": 3,
     "status": "ok",
     "timestamp": 1623672199131,
     "user": {
      "displayName": "Qing Li",
      "photoUrl": "",
      "userId": "14621704085933727451"
     },
     "user_tz": -480
    },
    "id": "BjxWRi6SZagQ",
    "outputId": "6db7d914-a9cc-4723-9555-36adde14d59b"
   },
   "outputs": [],
   "source": [
    "bgm_song_nums = feed_info_df['bgm_song_id'].value_counts()"
   ]
  },
  {
   "cell_type": "markdown",
   "metadata": {
    "id": "cwkWi5eiaisY"
   },
   "source": [
    "对bgm_singer_id进行处理"
   ]
  },
  {
   "cell_type": "code",
   "execution_count": 25,
   "metadata": {
    "colab": {
     "base_uri": "https://localhost:8080/"
    },
    "executionInfo": {
     "elapsed": 352,
     "status": "ok",
     "timestamp": 1623672436224,
     "user": {
      "displayName": "Qing Li",
      "photoUrl": "",
      "userId": "14621704085933727451"
     },
     "user_tz": -480
    },
    "id": "_dEubQ5dkeG7",
    "outputId": "ccdb4a94-c66e-44e6-85de-f8bcd69fbe06"
   },
   "outputs": [
    {
     "data": {
      "text/plain": [
       "0.49774529329976325"
      ]
     },
     "execution_count": 25,
     "metadata": {},
     "output_type": "execute_result"
    }
   ],
   "source": [
    "# 视频作者总数\n",
    "feed_info_df['bgm_singer_id'].isna().sum() / len(feed_info_df)"
   ]
  },
  {
   "cell_type": "code",
   "execution_count": 26,
   "metadata": {
    "colab": {
     "base_uri": "https://localhost:8080/"
    },
    "executionInfo": {
     "elapsed": 478,
     "status": "ok",
     "timestamp": 1622350232935,
     "user": {
      "displayName": "Qing Li",
      "photoUrl": "",
      "userId": "14621704085933727451"
     },
     "user_tz": -480
    },
    "id": "nzosllqrldZ7",
    "outputId": "2cc1c38f-22b6-4dc1-8801-9b75bfc14501"
   },
   "outputs": [
    {
     "data": {
      "text/plain": [
       "14653    349\n",
       "14122    296\n",
       "18286    296\n",
       "4407     260\n",
       "4883     210\n",
       "660      201\n",
       "12577    193\n",
       "16288    192\n",
       "14028    174\n",
       "17149    170\n",
       "4537     168\n",
       "1955     161\n",
       "1072     150\n",
       "11386    150\n",
       "11296    149\n",
       "13941    149\n",
       "8085     145\n",
       "13946    137\n",
       "14015    137\n",
       "3043     135\n",
       "10964    133\n",
       "2433     132\n",
       "12603    130\n",
       "2595     129\n",
       "463      128\n",
       "10889    128\n",
       "4608     126\n",
       "12888    125\n",
       "12889    124\n",
       "10671    120\n",
       "        ... \n",
       "9702       1\n",
       "13796      1\n",
       "3555       1\n",
       "1506       1\n",
       "7649       1\n",
       "17834      1\n",
       "16101      1\n",
       "9958       1\n",
       "5920       1\n",
       "1826       1\n",
       "4193       1\n",
       "16427      1\n",
       "18474      1\n",
       "8231       1\n",
       "6176       1\n",
       "12263      1\n",
       "16357      1\n",
       "14308      1\n",
       "2018       1\n",
       "8161       1\n",
       "10150      1\n",
       "16293      1\n",
       "4003       1\n",
       "1954       1\n",
       "8097       1\n",
       "10086      1\n",
       "3939       1\n",
       "12071      1\n",
       "16165      1\n",
       "0          1\n",
       "Name: authorid, Length: 18789, dtype: int64"
      ]
     },
     "execution_count": 26,
     "metadata": {},
     "output_type": "execute_result"
    }
   ],
   "source": [
    "# 视频作者作品数\n",
    "feed_info_df['authorid'].value_counts()"
   ]
  },
  {
   "cell_type": "code",
   "execution_count": 27,
   "metadata": {
    "colab": {
     "base_uri": "https://localhost:8080/"
    },
    "executionInfo": {
     "elapsed": 341,
     "status": "ok",
     "timestamp": 1623672492998,
     "user": {
      "displayName": "Qing Li",
      "photoUrl": "",
      "userId": "14621704085933727451"
     },
     "user_tz": -480
    },
    "id": "w1szHzZGa9o-",
    "outputId": "3f523737-5d95-40db-9229-5405fa04c021"
   },
   "outputs": [
    {
     "data": {
      "text/plain": [
       "Index(['feedid', 'authorid', 'videoplayseconds', 'description', 'ocr', 'asr',\n",
       "       'bgm_song_id', 'bgm_singer_id', 'manual_keyword_list',\n",
       "       'machine_keyword_list', 'manual_tag_list', 'machine_tag_list',\n",
       "       'description_char', 'ocr_char', 'asr_char', 'author_n_feeds',\n",
       "       'videolength_bucket', 'videolength_log'],\n",
       "      dtype='object')"
      ]
     },
     "execution_count": 27,
     "metadata": {},
     "output_type": "execute_result"
    }
   ],
   "source": [
    "feed_info_df.columns"
   ]
  },
  {
   "cell_type": "code",
   "execution_count": 28,
   "metadata": {
    "id": "AlHdGibFbD9_"
   },
   "outputs": [],
   "source": [
    "# 对于authorid，bgm_singer_id, bgm_song_id 这些id类特征，可以统计每一个用户的最感兴趣的集合\n",
    "# 根据用户的历史行为信息进行构造，\n",
    "# 用户历史行为feed对应的频繁的authorid可能是由于作者的视频内容得到用户的喜爱，而根据authorid所创作的视频的类型等等数据可以对authorid进行画像\n",
    "# 对bgm_singer_id的统计可以统计出用户对于歌手的偏爱\n",
    "# 对bgm_song_id的统计可以得到用户比较喜欢的歌曲集合"
   ]
  },
  {
   "cell_type": "markdown",
   "metadata": {
    "id": "gbHHnVuocS9K"
   },
   "source": [
    "对description、OCR、ASR进行处理"
   ]
  },
  {
   "cell_type": "code",
   "execution_count": 29,
   "metadata": {
    "id": "blEmopmNhiH-"
   },
   "outputs": [],
   "source": [
    "# 这内容已经信息已经融入到了embedding向量中，所以可以先不管，\n",
    "# 当需要对新的视频进行检验的时候，直接计算新的视频与用于历史action视频的相似的\n",
    "# 将相似度作为一个新的特征输入到树模型中 "
   ]
  },
  {
   "cell_type": "code",
   "execution_count": 30,
   "metadata": {
    "colab": {
     "base_uri": "https://localhost:8080/"
    },
    "executionInfo": {
     "elapsed": 321,
     "status": "ok",
     "timestamp": 1623673865721,
     "user": {
      "displayName": "Qing Li",
      "photoUrl": "",
      "userId": "14621704085933727451"
     },
     "user_tz": -480
    },
    "id": "6vZ8y4b9eSCi",
    "outputId": "e671c311-7f89-42ad-f522-2dff816c34da"
   },
   "outputs": [
    {
     "data": {
      "text/plain": [
       "['104741',\n",
       " '122649',\n",
       " '8109',\n",
       " '117252',\n",
       " '65632',\n",
       " '23463',\n",
       " '118668',\n",
       " '45861',\n",
       " '8109',\n",
       " '142955',\n",
       " '27736',\n",
       " '21751',\n",
       " '112151',\n",
       " '116906',\n",
       " '32715',\n",
       " '93520',\n",
       " '32714',\n",
       " '80461',\n",
       " '8109',\n",
       " '93563',\n",
       " '102383',\n",
       " '10952',\n",
       " '48706',\n",
       " '12885',\n",
       " '68441',\n",
       " '93563',\n",
       " '8097',\n",
       " '134820',\n",
       " '55911',\n",
       " '80449',\n",
       " '79213',\n",
       " '23233',\n",
       " '13997',\n",
       " '53706',\n",
       " '104690',\n",
       " '6994']"
      ]
     },
     "execution_count": 30,
     "metadata": {},
     "output_type": "execute_result"
    }
   ],
   "source": [
    "feed_info_df['description'][0].split(' ')"
   ]
  },
  {
   "cell_type": "code",
   "execution_count": 31,
   "metadata": {
    "colab": {
     "base_uri": "https://localhost:8080/"
    },
    "executionInfo": {
     "elapsed": 2,
     "status": "ok",
     "timestamp": 1623673397531,
     "user": {
      "displayName": "Qing Li",
      "photoUrl": "",
      "userId": "14621704085933727451"
     },
     "user_tz": -480
    },
    "id": "opOErLvaeWoB",
    "outputId": "4f852504-7f4d-49df-ef18-b79bfbe18a8c"
   },
   "outputs": [
    {
     "data": {
      "text/plain": [
       "29606"
      ]
     },
     "execution_count": 31,
     "metadata": {},
     "output_type": "execute_result"
    }
   ],
   "source": [
    "feed_info_df['ocr'].isna().sum()"
   ]
  },
  {
   "cell_type": "code",
   "execution_count": 32,
   "metadata": {
    "colab": {
     "base_uri": "https://localhost:8080/"
    },
    "executionInfo": {
     "elapsed": 3,
     "status": "ok",
     "timestamp": 1623673420101,
     "user": {
      "displayName": "Qing Li",
      "photoUrl": "",
      "userId": "14621704085933727451"
     },
     "user_tz": -480
    },
    "id": "W0erUIsoefWn",
    "outputId": "e6e47117-3a62-4d09-90a3-816a6280177b"
   },
   "outputs": [
    {
     "data": {
      "text/plain": [
       "27402"
      ]
     },
     "execution_count": 32,
     "metadata": {},
     "output_type": "execute_result"
    }
   ],
   "source": [
    "feed_info_df['asr'].isna().sum()"
   ]
  },
  {
   "cell_type": "code",
   "execution_count": 33,
   "metadata": {
    "colab": {
     "base_uri": "https://localhost:8080/"
    },
    "executionInfo": {
     "elapsed": 2,
     "status": "ok",
     "timestamp": 1623672872804,
     "user": {
      "displayName": "Qing Li",
      "photoUrl": "",
      "userId": "14621704085933727451"
     },
     "user_tz": -480
    },
    "id": "WEcNgOQ0cZUo",
    "outputId": "ad335fb1-14c7-4b29-acb5-4c139f7eab63"
   },
   "outputs": [
    {
     "data": {
      "text/plain": [
       "3358"
      ]
     },
     "execution_count": 33,
     "metadata": {},
     "output_type": "execute_result"
    }
   ],
   "source": [
    "feed_info_df['description'].isna().sum()"
   ]
  },
  {
   "cell_type": "markdown",
   "metadata": {
    "id": "rBtlraLiiQRq"
   },
   "source": [
    "对manual_key_word_list、machine_key_word_list \n",
    "以及 manual_tag_list、machine_tag_list 等进行处理\n"
   ]
  },
  {
   "cell_type": "code",
   "execution_count": 34,
   "metadata": {
    "colab": {
     "base_uri": "https://localhost:8080/"
    },
    "executionInfo": {
     "elapsed": 349,
     "status": "ok",
     "timestamp": 1623675047685,
     "user": {
      "displayName": "Qing Li",
      "photoUrl": "",
      "userId": "14621704085933727451"
     },
     "user_tz": -480
    },
    "id": "pVvfbNxkceuP",
    "outputId": "c78ad448-c979-421e-f503-43bc516a41e0"
   },
   "outputs": [
    {
     "data": {
      "text/plain": [
       "['15506', '17582', '10844', '25209', '219', '4826', '25500']"
      ]
     },
     "execution_count": 34,
     "metadata": {},
     "output_type": "execute_result"
    }
   ],
   "source": [
    "feed_info_df['manual_keyword_list'][9].split(';') + feed_info_df['machine_keyword_list'][9].split(';')"
   ]
  },
  {
   "cell_type": "code",
   "execution_count": 35,
   "metadata": {
    "colab": {
     "base_uri": "https://localhost:8080/"
    },
    "executionInfo": {
     "elapsed": 3,
     "status": "ok",
     "timestamp": 1623675549493,
     "user": {
      "displayName": "Qing Li",
      "photoUrl": "",
      "userId": "14621704085933727451"
     },
     "user_tz": -480
    },
    "id": "cz9X4GlDl2za",
    "outputId": "c31d6e23-81a1-4072-847d-ffff4eb5520f"
   },
   "outputs": [
    {
     "data": {
      "text/plain": [
       "True"
      ]
     },
     "execution_count": 35,
     "metadata": {},
     "output_type": "execute_result"
    }
   ],
   "source": [
    "type(feed_info_df['manual_keyword_list'][0]) == str"
   ]
  },
  {
   "cell_type": "code",
   "execution_count": 36,
   "metadata": {
    "id": "w1mKYAOWkyU6"
   },
   "outputs": [],
   "source": [
    "feed_info_df['machine_keyword_list'] = feed_info_df['machine_keyword_list'].apply(lambda x: x.split(';') if type(x) == str else [])"
   ]
  },
  {
   "cell_type": "code",
   "execution_count": 37,
   "metadata": {
    "id": "W-Z-4zR-mwXr"
   },
   "outputs": [],
   "source": [
    "feed_info_df['manual_keyword_list'] = feed_info_df['manual_keyword_list'].apply(lambda x: x.split(';') if type(x) == str else [])"
   ]
  },
  {
   "cell_type": "code",
   "execution_count": 38,
   "metadata": {
    "id": "j3xfStBme_aq"
   },
   "outputs": [],
   "source": [
    "feed_info_df['keyword_list'] = feed_info_df['machine_keyword_list'] + feed_info_df['manual_keyword_list']"
   ]
  },
  {
   "cell_type": "code",
   "execution_count": 39,
   "metadata": {
    "colab": {
     "base_uri": "https://localhost:8080/"
    },
    "executionInfo": {
     "elapsed": 3,
     "status": "ok",
     "timestamp": 1623676005241,
     "user": {
      "displayName": "Qing Li",
      "photoUrl": "",
      "userId": "14621704085933727451"
     },
     "user_tz": -480
    },
    "id": "VjYrDa3-nIar",
    "outputId": "352d48eb-1036-4e3e-975f-55f17b79a3e9"
   },
   "outputs": [
    {
     "data": {
      "text/plain": [
       "array([list(['26334', '219', '25209', '7715', '18541', '15506', '7715', '17582']),\n",
       "       list(['24078', '19924', '8199', '18322', '4243']),\n",
       "       list(['11696', '6926']), ..., list(['11411', '18009', '1312']),\n",
       "       list(['3212', '17707', '17582']), list([])], dtype=object)"
      ]
     },
     "execution_count": 39,
     "metadata": {},
     "output_type": "execute_result"
    }
   ],
   "source": [
    "#对关键词列表用TF-IDF算法计算每一个关键词的权重\n",
    "#挖掘出不同关键词feed的关键词信息\n",
    "feed_info_df['keyword_list'].values"
   ]
  },
  {
   "cell_type": "code",
   "execution_count": 40,
   "metadata": {
    "colab": {
     "base_uri": "https://localhost:8080/"
    },
    "executionInfo": {
     "elapsed": 5,
     "status": "ok",
     "timestamp": 1623676703160,
     "user": {
      "displayName": "Qing Li",
      "photoUrl": "",
      "userId": "14621704085933727451"
     },
     "user_tz": -480
    },
    "id": "O5xIDzEErDPt",
    "outputId": "a43c5fd4-60d7-4577-9cab-0d418e75c4ae"
   },
   "outputs": [
    {
     "data": {
      "text/plain": [
       "RangeIndex(start=0, stop=106444, step=1)"
      ]
     },
     "execution_count": 40,
     "metadata": {},
     "output_type": "execute_result"
    }
   ],
   "source": [
    "feed_info_df.index"
   ]
  },
  {
   "cell_type": "code",
   "execution_count": 41,
   "metadata": {
    "id": "w5_AhCUCpUlM"
   },
   "outputs": [
    {
     "name": "stderr",
     "output_type": "stream",
     "text": [
      "D:\\anacanda\\lib\\site-packages\\gensim\\similarities\\__init__.py:15: UserWarning: The gensim.similarities.levenshtein submodule is disabled, because the optional Levenshtein package <https://pypi.org/project/python-Levenshtein/> is unavailable. Install Levenhstein (e.g. `pip install python-Levenshtein`) to suppress this warning.\n",
      "  warnings.warn(msg)\n"
     ]
    }
   ],
   "source": [
    "from gensim.models import TfidfModel\n",
    "from gensim.corpora import Dictionary\n",
    "\n",
    "def create_feed_keyword_profile(feed_info):\n",
    "  dataset = feed_info['keyword_list'].values\n",
    "  from gensim.corpora import Dictionary\n",
    "  dct = Dictionary(dataset)\n",
    "  corpus = [dct.doc2bow(line) for line in dataset]\n",
    "  model = TfidfModel(corpus)\n",
    "  _feed_top5_keywords = []\n",
    "  _feed_top5_keywords_weights = []\n",
    "  for i in range(len(corpus)):\n",
    "    vector = model[corpus[i]]\n",
    "    feed_keywords = sorted(vector, key=lambda x: x[1], reverse=True)[:5]\n",
    "    top5_keywords_weights = dict(map(lambda x: (dct[x[0]], x[1]), feed_keywords))\n",
    "    top5_keywords = [i[0] for i in top5_keywords_weights.items()]\n",
    "    _feed_top5_keywords.append(top5_keywords)\n",
    "    _feed_top5_keywords_weights.append(top5_keywords_weights)\n",
    "  return _feed_top5_keywords, _feed_top5_keywords_weights"
   ]
  },
  {
   "cell_type": "code",
   "execution_count": 42,
   "metadata": {
    "id": "5yh3Q36ktwIt"
   },
   "outputs": [],
   "source": [
    "_feed_top5_keywords, _feed_top5_keywords_weights = create_feed_keyword_profile(feed_info_df)"
   ]
  },
  {
   "cell_type": "code",
   "execution_count": 43,
   "metadata": {
    "id": "yumrWmjlt1F7"
   },
   "outputs": [
    {
     "name": "stdout",
     "output_type": "stream",
     "text": [
      "[{'7715': 0.614992440276734, '18541': 0.4566241526598109, '15506': 0.3587227482122384, '17582': 0.30966455081137495, '26334': 0.2893164036591804}\n",
      " {'4243': 0.6558125797696941, '8199': 0.6165417424995341, '18322': 0.2579765917438886, '24078': 0.2513540576680799, '19924': 0.24506194273582219}\n",
      " {'6926': 0.8718180301112212, '11696': 0.4898298912612314} ...\n",
      " {'18009': 0.7018648283582362, '1312': 0.6197987358502529, '11411': 0.3510488424024384}\n",
      " {'3212': 0.6818467480119231, '17707': 0.6198377352181461, '17582': 0.3884407216361391}\n",
      " {}]\n"
     ]
    }
   ],
   "source": [
    "feed_info_df['top5_keywords'] = _feed_top5_keywords\n",
    "feed_info_df['top5_keywords_weights'] = _feed_top5_keywords_weights\n",
    "print(feed_info_df['top5_keywords_weights'].values)"
   ]
  },
  {
   "cell_type": "code",
   "execution_count": 44,
   "metadata": {
    "colab": {
     "base_uri": "https://localhost:8080/"
    },
    "executionInfo": {
     "elapsed": 482,
     "status": "ok",
     "timestamp": 1623678230779,
     "user": {
      "displayName": "Qing Li",
      "photoUrl": "",
      "userId": "14621704085933727451"
     },
     "user_tz": -480
    },
    "id": "7vvw5Plsw2gu",
    "outputId": "9a7c2074-0803-4dbd-fbd3-9f25369c5845"
   },
   "outputs": [
    {
     "data": {
      "text/plain": [
       "array(['269 0.8525666;81 0.8525666;8 1.1e-07;306 0.0;207 6.31e-06;10 0.27404302',\n",
       "       '267 0.99293476;194 0.99293476', '23 0.64771646;202 0.64771646',\n",
       "       ...,\n",
       "       '262 0.81548262;179 0.81548262;8 0.16021954;306 0.0;207 0.00305542;10 0.27936044',\n",
       "       '269 0.53156692;82 0.53156692', '271 0.80507952;28 0.80507952'],\n",
       "      dtype=object)"
      ]
     },
     "execution_count": 44,
     "metadata": {},
     "output_type": "execute_result"
    }
   ],
   "source": [
    "feed_info_df['machine_tag_list'].values"
   ]
  },
  {
   "cell_type": "code",
   "execution_count": 45,
   "metadata": {
    "id": "bCbn9tCluX-c"
   },
   "outputs": [],
   "source": [
    "# 关于标签，用户打的标签和机器打的标签是不一样的\n",
    "# 机器打的标签有置信度的信息，可以只将置信度足够高的进行处理，而对于置信度太低的则不处理\n",
    "# 只将置信度高于 0.5 的作为新增的标签，而置信度低于 0.5 的直接舍弃掉\n",
    "def get_machine_tag_list(feed_info):\n",
    "  original_tags = feed_info['machine_tag_list'].values\n",
    "  topn_machine_tags = []\n",
    "  for i in range(len(original_tags)):\n",
    "    if(type(original_tags[i]) == str):\n",
    "      tags = []\n",
    "      tag_with_weights = original_tags[i].split(';')\n",
    "      for tag_weight in tag_with_weights:\n",
    "        tag = tag_weight.split(' ')[0]\n",
    "        weight = float(tag_weight.split(' ')[1])\n",
    "        if weight >= 0.5:\n",
    "          tags.append(tag)\n",
    "      topn_machine_tags.append(tags)\n",
    "    else:\n",
    "      topn_machine_tags.append([])\n",
    "  return topn_machine_tags"
   ]
  },
  {
   "cell_type": "code",
   "execution_count": 46,
   "metadata": {
    "id": "wcPENSnAxzm-"
   },
   "outputs": [],
   "source": [
    "valid_machine_tags = get_machine_tag_list(feed_info_df)"
   ]
  },
  {
   "cell_type": "code",
   "execution_count": 47,
   "metadata": {
    "id": "QxflMjk8x6EH"
   },
   "outputs": [],
   "source": [
    "feed_info_df['machine_tag_list'] = valid_machine_tags"
   ]
  },
  {
   "cell_type": "code",
   "execution_count": 48,
   "metadata": {
    "id": "hzZZYERxyEwu"
   },
   "outputs": [],
   "source": [
    "feed_info_df['manual_tag_list'] = feed_info_df['manual_tag_list'].apply(lambda x: x.split(';') if type(x) == str else [])"
   ]
  },
  {
   "cell_type": "code",
   "execution_count": 49,
   "metadata": {
    "id": "cLSXwdDzymFt"
   },
   "outputs": [],
   "source": [
    "feed_info_df['tag_list'] = feed_info_df['machine_tag_list'] + feed_info_df['manual_tag_list']"
   ]
  },
  {
   "cell_type": "code",
   "execution_count": 50,
   "metadata": {
    "id": "6vDVcLLtyzqc"
   },
   "outputs": [],
   "source": [
    "dct = Dictionary(feed_info_df['tag_list'])"
   ]
  },
  {
   "cell_type": "code",
   "execution_count": 51,
   "metadata": {
    "id": "lsQ6afHpzLbq"
   },
   "outputs": [],
   "source": [
    "# 分别计算feed的各个tag_list的权重\n",
    "def create_feed_tags_profile(feed_info):\n",
    "  dataset = feed_info['tag_list'].values\n",
    "  from gensim.corpora import Dictionary\n",
    "  dct = Dictionary(dataset)\n",
    "  corpus = [dct.doc2bow(line) for line in dataset]\n",
    "  model = TfidfModel(corpus)\n",
    "  _tags = []\n",
    "  _tags_weights = []\n",
    "  for i in range(len(corpus)):\n",
    "    vector = model[corpus[i]]\n",
    "    feed_tags = sorted(vector, key=lambda x: x[1], reverse=True)\n",
    "    tags_weights = dict(map(lambda x: (dct[x[0]], x[1]), feed_tags))\n",
    "    tags = [i[0] for i in tags_weights.items()]\n",
    "    _tags.append(tags)\n",
    "    _tags_weights.append(tags_weights)\n",
    "  return _tags, _tags_weights"
   ]
  },
  {
   "cell_type": "code",
   "execution_count": 52,
   "metadata": {
    "id": "RDpi15cPkBuz"
   },
   "outputs": [],
   "source": [
    "tags, tags_weights = create_feed_tags_profile(feed_info_df)"
   ]
  },
  {
   "cell_type": "code",
   "execution_count": 53,
   "metadata": {
    "id": "X7AbyUzA1c_G"
   },
   "outputs": [],
   "source": [
    "feed_info_df['tag_list'] = tags\n",
    "feed_info_df['tag_weights'] = tags_weights"
   ]
  },
  {
   "cell_type": "code",
   "execution_count": 54,
   "metadata": {
    "id": "jWJ0pCi-fFc4"
   },
   "outputs": [],
   "source": [
    "feed_info_df = feed_info_df.merge(feed_embedding_df, on='feedid')"
   ]
  },
  {
   "cell_type": "code",
   "execution_count": 55,
   "metadata": {
    "id": "vnldihGYfbQ5"
   },
   "outputs": [],
   "source": [
    "feed_info_df.drop(columns=['description', 'ocr', 'asr', 'manual_keyword_list', 'machine_keyword_list', 'manual_tag_list', 'machine_tag_list', 'description_char', 'ocr_char', 'asr_char'], inplace=True)"
   ]
  },
  {
   "cell_type": "code",
   "execution_count": 56,
   "metadata": {
    "id": "KnCe3_HT3C6O"
   },
   "outputs": [],
   "source": [
    "feed_info_df.drop(columns='keyword_list', inplace=True)"
   ]
  },
  {
   "cell_type": "code",
   "execution_count": 57,
   "metadata": {},
   "outputs": [],
   "source": [
    "def str_to_float(input):\n",
    "    output=[]\n",
    "    for i in input:\n",
    "        try:\n",
    "            output.append(float(i))\n",
    "        except ValueError:\n",
    "            continue\n",
    "    return output"
   ]
  },
  {
   "cell_type": "code",
   "execution_count": 58,
   "metadata": {
    "id": "fbH3wJ13ckNX"
   },
   "outputs": [],
   "source": [
    "feed_info_df['feed_embedding'] = feed_info_df['feed_embedding'].apply(lambda x: str_to_float(x.split(' ')))"
   ]
  },
  {
   "cell_type": "code",
   "execution_count": 59,
   "metadata": {
    "id": "cPJjOyRp3fsA"
   },
   "outputs": [],
   "source": [
    "def string_to_float(string_list):\n",
    "  float_list = []\n",
    "  for number in string_list[:512]:\n",
    "    float_list.append(float(number))\n",
    "  return float_list"
   ]
  },
  {
   "cell_type": "code",
   "execution_count": 60,
   "metadata": {
    "id": "8rqt1rw44Dau"
   },
   "outputs": [],
   "source": [
    "feed_info_df.to_csv('./feed_info_modified1.csv', index=None)"
   ]
  },
  {
   "cell_type": "code",
   "execution_count": 61,
   "metadata": {
    "id": "JCz9N90cct7_"
   },
   "outputs": [],
   "source": [
    "### "
   ]
  },
  {
   "cell_type": "markdown",
   "metadata": {
    "id": "G_5cW-4G5fdY"
   },
   "source": [
    "### user_action信息的统计\n",
    "    主要目的是根据用户的历史行为信息，做出用户画像"
   ]
  },
  {
   "cell_type": "code",
   "execution_count": 62,
   "metadata": {
    "colab": {
     "base_uri": "https://localhost:8080/"
    },
    "executionInfo": {
     "elapsed": 359,
     "status": "ok",
     "timestamp": 1623680618457,
     "user": {
      "displayName": "Qing Li",
      "photoUrl": "",
      "userId": "14621704085933727451"
     },
     "user_tz": -480
    },
    "id": "aXth7XaFnAUz",
    "outputId": "ffc0f2df-7128-44b0-b361-6ab856b4cd02"
   },
   "outputs": [
    {
     "data": {
      "text/plain": [
       "20000"
      ]
     },
     "execution_count": 62,
     "metadata": {},
     "output_type": "execute_result"
    }
   ],
   "source": [
    "user_action_df['userid'].nunique()"
   ]
  },
  {
   "cell_type": "code",
   "execution_count": 63,
   "metadata": {
    "colab": {
     "base_uri": "https://localhost:8080/"
    },
    "executionInfo": {
     "elapsed": 485,
     "status": "ok",
     "timestamp": 1623680641318,
     "user": {
      "displayName": "Qing Li",
      "photoUrl": "",
      "userId": "14621704085933727451"
     },
     "user_tz": -480
    },
    "id": "LtLp5qDGl-WK",
    "outputId": "5d9569e1-d920-4de8-aa8e-5df99e89219b"
   },
   "outputs": [
    {
     "data": {
      "text/plain": [
       "96564"
      ]
     },
     "execution_count": 63,
     "metadata": {},
     "output_type": "execute_result"
    }
   ],
   "source": [
    "user_action_df['feedid'].nunique()"
   ]
  },
  {
   "cell_type": "code",
   "execution_count": 64,
   "metadata": {
    "id": "e6fBGBN_PQXI"
   },
   "outputs": [],
   "source": [
    "feed_set = set(feed_info_df['feedid'].unique())"
   ]
  },
  {
   "cell_type": "code",
   "execution_count": 65,
   "metadata": {
    "id": "tQqINeLuPfZx"
   },
   "outputs": [],
   "source": [
    "cold_start_feed = 0\n",
    "for feedid in user_action_df['feedid'].unique():\n",
    "  if feedid not in feed_set:\n",
    "    cold_start_feed += 1"
   ]
  },
  {
   "cell_type": "code",
   "execution_count": 66,
   "metadata": {
    "colab": {
     "base_uri": "https://localhost:8080/"
    },
    "executionInfo": {
     "elapsed": 3,
     "status": "ok",
     "timestamp": 1623680800218,
     "user": {
      "displayName": "Qing Li",
      "photoUrl": "",
      "userId": "14621704085933727451"
     },
     "user_tz": -480
    },
    "id": "4Na7NerrPhNC",
    "outputId": "42b1564e-9011-441d-cfbd-936a7efb2bec"
   },
   "outputs": [
    {
     "data": {
      "text/plain": [
       "0"
      ]
     },
     "execution_count": 66,
     "metadata": {},
     "output_type": "execute_result"
    }
   ],
   "source": [
    "# 没有冷启动的feed\n",
    "cold_start_feed"
   ]
  },
  {
   "cell_type": "code",
   "execution_count": 67,
   "metadata": {
    "colab": {
     "base_uri": "https://localhost:8080/"
    },
    "executionInfo": {
     "elapsed": 333,
     "status": "ok",
     "timestamp": 1623680839437,
     "user": {
      "displayName": "Qing Li",
      "photoUrl": "",
      "userId": "14621704085933727451"
     },
     "user_tz": -480
    },
    "id": "v-SAbyd3PwhQ",
    "outputId": "ce4616dd-98ee-41b0-94b8-8192a9681a13"
   },
   "outputs": [
    {
     "data": {
      "text/plain": [
       "Index(['userid', 'feedid', 'date_', 'device', 'read_comment', 'comment',\n",
       "       'like', 'play', 'stay', 'click_avatar', 'forward', 'follow',\n",
       "       'favorite'],\n",
       "      dtype='object')"
      ]
     },
     "execution_count": 67,
     "metadata": {},
     "output_type": "execute_result"
    }
   ],
   "source": [
    "user_action_df.columns"
   ]
  },
  {
   "cell_type": "code",
   "execution_count": 68,
   "metadata": {
    "colab": {
     "base_uri": "https://localhost:8080/"
    },
    "executionInfo": {
     "elapsed": 354,
     "status": "ok",
     "timestamp": 1623680925675,
     "user": {
      "displayName": "Qing Li",
      "photoUrl": "",
      "userId": "14621704085933727451"
     },
     "user_tz": -480
    },
    "id": "Ii1AWWItP4nb",
    "outputId": "ad34fc1a-ad42-492f-a754-9e7e8aa37d6f"
   },
   "outputs": [
    {
     "data": {
      "text/plain": [
       "11    614175\n",
       "14    609036\n",
       "10    596886\n",
       "13    566627\n",
       "3     543566\n",
       "12    532038\n",
       "9     512466\n",
       "4     504623\n",
       "8     500120\n",
       "7     480460\n",
       "1     478489\n",
       "6     472726\n",
       "2     461842\n",
       "5     444828\n",
       "Name: date_, dtype: int64"
      ]
     },
     "execution_count": 68,
     "metadata": {},
     "output_type": "execute_result"
    }
   ],
   "source": [
    "user_action_df['date_'].value_counts()"
   ]
  },
  {
   "cell_type": "code",
   "execution_count": 69,
   "metadata": {
    "colab": {
     "base_uri": "https://localhost:8080/"
    },
    "executionInfo": {
     "elapsed": 334,
     "status": "ok",
     "timestamp": 1623680936558,
     "user": {
      "displayName": "Qing Li",
      "photoUrl": "",
      "userId": "14621704085933727451"
     },
     "user_tz": -480
    },
    "id": "90AcV_nLP8q4",
    "outputId": "9b951afb-673a-4af0-b803-493f6aab543c"
   },
   "outputs": [
    {
     "data": {
      "text/plain": [
       "2    5601074\n",
       "1    1716808\n",
       "Name: device, dtype: int64"
      ]
     },
     "execution_count": 69,
     "metadata": {},
     "output_type": "execute_result"
    }
   ],
   "source": [
    "user_action_df[\"device\"].value_counts()"
   ]
  },
  {
   "cell_type": "code",
   "execution_count": 70,
   "metadata": {
    "colab": {
     "base_uri": "https://localhost:8080/"
    },
    "executionInfo": {
     "elapsed": 382,
     "status": "ok",
     "timestamp": 1623680986623,
     "user": {
      "displayName": "Qing Li",
      "photoUrl": "",
      "userId": "14621704085933727451"
     },
     "user_tz": -480
    },
    "id": "bB9MxEboTJxI",
    "outputId": "aeedfaff-c2aa-4657-f40f-69937160f405"
   },
   "outputs": [
    {
     "data": {
      "text/plain": [
       "0    7061640\n",
       "1     256242\n",
       "Name: read_comment, dtype: int64"
      ]
     },
     "execution_count": 70,
     "metadata": {},
     "output_type": "execute_result"
    }
   ],
   "source": [
    "user_action_df[\"read_comment\"].value_counts()"
   ]
  },
  {
   "cell_type": "code",
   "execution_count": 71,
   "metadata": {
    "colab": {
     "base_uri": "https://localhost:8080/"
    },
    "executionInfo": {
     "elapsed": 511,
     "status": "ok",
     "timestamp": 1623681093628,
     "user": {
      "displayName": "Qing Li",
      "photoUrl": "",
      "userId": "14621704085933727451"
     },
     "user_tz": -480
    },
    "id": "wwLcX30ITXlt",
    "outputId": "d2c01803-f5bd-4728-ef62-fa7570c011d1"
   },
   "outputs": [
    {
     "data": {
      "text/plain": [
       "0    7129045\n",
       "1     188837\n",
       "Name: like, dtype: int64"
      ]
     },
     "execution_count": 71,
     "metadata": {},
     "output_type": "execute_result"
    }
   ],
   "source": [
    "user_action_df['like'].value_counts()"
   ]
  },
  {
   "cell_type": "code",
   "execution_count": 72,
   "metadata": {
    "colab": {
     "base_uri": "https://localhost:8080/"
    },
    "executionInfo": {
     "elapsed": 911,
     "status": "ok",
     "timestamp": 1623681138023,
     "user": {
      "displayName": "Qing Li",
      "photoUrl": "",
      "userId": "14621704085933727451"
     },
     "user_tz": -480
    },
    "id": "AIERnGKoTesR",
    "outputId": "8c34a357-acbd-4fe6-c944-1efce0121daf"
   },
   "outputs": [
    {
     "data": {
      "text/plain": [
       "0    7262754\n",
       "1      55128\n",
       "Name: click_avatar, dtype: int64"
      ]
     },
     "execution_count": 72,
     "metadata": {},
     "output_type": "execute_result"
    }
   ],
   "source": [
    "user_action_df[\"click_avatar\"].value_counts()"
   ]
  },
  {
   "cell_type": "code",
   "execution_count": 73,
   "metadata": {
    "colab": {
     "base_uri": "https://localhost:8080/"
    },
    "executionInfo": {
     "elapsed": 462,
     "status": "ok",
     "timestamp": 1623681153278,
     "user": {
      "displayName": "Qing Li",
      "photoUrl": "",
      "userId": "14621704085933727451"
     },
     "user_tz": -480
    },
    "id": "gW-wflQ0VHUW",
    "outputId": "8b2f4f43-95ab-4849-e92b-d41ad34af35a"
   },
   "outputs": [
    {
     "data": {
      "text/plain": [
       "0    7289919\n",
       "1      27963\n",
       "Name: forward, dtype: int64"
      ]
     },
     "execution_count": 73,
     "metadata": {},
     "output_type": "execute_result"
    }
   ],
   "source": [
    "user_action_df[\"forward\"].value_counts()"
   ]
  },
  {
   "cell_type": "code",
   "execution_count": 74,
   "metadata": {
    "colab": {
     "base_uri": "https://localhost:8080/",
     "height": 941
    },
    "executionInfo": {
     "elapsed": 330,
     "status": "ok",
     "timestamp": 1623683208609,
     "user": {
      "displayName": "Qing Li",
      "photoUrl": "",
      "userId": "14621704085933727451"
     },
     "user_tz": -480
    },
    "id": "X5kInsmrTpZd",
    "outputId": "c24bf5d3-6534-4a24-8aad-554a9a1707f0"
   },
   "outputs": [
    {
     "data": {
      "text/html": [
       "<div>\n",
       "<style scoped>\n",
       "    .dataframe tbody tr th:only-of-type {\n",
       "        vertical-align: middle;\n",
       "    }\n",
       "\n",
       "    .dataframe tbody tr th {\n",
       "        vertical-align: top;\n",
       "    }\n",
       "\n",
       "    .dataframe thead th {\n",
       "        text-align: right;\n",
       "    }\n",
       "</style>\n",
       "<table border=\"1\" class=\"dataframe\">\n",
       "  <thead>\n",
       "    <tr style=\"text-align: right;\">\n",
       "      <th></th>\n",
       "      <th>feedid</th>\n",
       "      <th>authorid</th>\n",
       "      <th>videoplayseconds</th>\n",
       "      <th>bgm_song_id</th>\n",
       "      <th>bgm_singer_id</th>\n",
       "      <th>author_n_feeds</th>\n",
       "      <th>videolength_bucket</th>\n",
       "      <th>videolength_log</th>\n",
       "      <th>top5_keywords</th>\n",
       "      <th>top5_keywords_weights</th>\n",
       "      <th>tag_list</th>\n",
       "      <th>tag_weights</th>\n",
       "      <th>feed_embedding</th>\n",
       "    </tr>\n",
       "  </thead>\n",
       "  <tbody>\n",
       "    <tr>\n",
       "      <th>0</th>\n",
       "      <td>43549</td>\n",
       "      <td>6165</td>\n",
       "      <td>38</td>\n",
       "      <td>19356.0</td>\n",
       "      <td>11703.0</td>\n",
       "      <td>1</td>\n",
       "      <td>4</td>\n",
       "      <td>3.663562</td>\n",
       "      <td>[7715, 18541, 15506, 17582, 26334]</td>\n",
       "      <td>{'7715': 0.614992440276734, '18541': 0.4566241...</td>\n",
       "      <td>[81, 269, 159, 6]</td>\n",
       "      <td>{'81': 0.7541818423569444, '269': 0.6557321638...</td>\n",
       "      <td>[-0.00509984, -0.0590496, -0.01864357, -0.0142...</td>\n",
       "    </tr>\n",
       "    <tr>\n",
       "      <th>1</th>\n",
       "      <td>77432</td>\n",
       "      <td>9386</td>\n",
       "      <td>60</td>\n",
       "      <td>NaN</td>\n",
       "      <td>NaN</td>\n",
       "      <td>6</td>\n",
       "      <td>7</td>\n",
       "      <td>4.110874</td>\n",
       "      <td>[4243, 8199, 18322, 24078, 19924]</td>\n",
       "      <td>{'4243': 0.6558125797696941, '8199': 0.6165417...</td>\n",
       "      <td>[194, 267, 159, 6]</td>\n",
       "      <td>{'194': 0.9115099703843318, '267': 0.409440061...</td>\n",
       "      <td>[0.02817863, -0.02137377, 0.06678647, 0.014733...</td>\n",
       "    </tr>\n",
       "    <tr>\n",
       "      <th>2</th>\n",
       "      <td>12921</td>\n",
       "      <td>2996</td>\n",
       "      <td>15</td>\n",
       "      <td>10288.0</td>\n",
       "      <td>11354.0</td>\n",
       "      <td>36</td>\n",
       "      <td>2</td>\n",
       "      <td>2.772589</td>\n",
       "      <td>[6926, 11696]</td>\n",
       "      <td>{'6926': 0.8718180301112212, '11696': 0.489829...</td>\n",
       "      <td>[202, 23, 160, 6]</td>\n",
       "      <td>{'202': 0.7338004271707812, '23': 0.6000257252...</td>\n",
       "      <td>[-0.01880374, 0.03276707, 0.09490133, 0.031316...</td>\n",
       "    </tr>\n",
       "    <tr>\n",
       "      <th>3</th>\n",
       "      <td>34538</td>\n",
       "      <td>12577</td>\n",
       "      <td>18</td>\n",
       "      <td>24435.0</td>\n",
       "      <td>13645.0</td>\n",
       "      <td>193</td>\n",
       "      <td>2</td>\n",
       "      <td>2.944439</td>\n",
       "      <td>[3727, 1197, 5454]</td>\n",
       "      <td>{'3727': 0.7021281302631878, '1197': 0.5196877...</td>\n",
       "      <td>[328, 13, 159, 6]</td>\n",
       "      <td>{'328': 0.746101554312214, '13': 0.65971641287...</td>\n",
       "      <td>[-0.05007412, -0.11540501, 0.04330789, -0.0187...</td>\n",
       "    </tr>\n",
       "    <tr>\n",
       "      <th>4</th>\n",
       "      <td>75414</td>\n",
       "      <td>7185</td>\n",
       "      <td>16</td>\n",
       "      <td>23428.0</td>\n",
       "      <td>10730.0</td>\n",
       "      <td>2</td>\n",
       "      <td>2</td>\n",
       "      <td>2.833213</td>\n",
       "      <td>[17083, 8058, 15621, 4123, 21639]</td>\n",
       "      <td>{'17083': 0.6390918560719752, '8058': 0.461373...</td>\n",
       "      <td>[81, 269, 159, 6]</td>\n",
       "      <td>{'81': 0.7541818423569444, '269': 0.6557321638...</td>\n",
       "      <td>[0.05636294, 0.01753669, 0.01241871, 0.0152164...</td>\n",
       "    </tr>\n",
       "    <tr>\n",
       "      <th>5</th>\n",
       "      <td>34539</td>\n",
       "      <td>2595</td>\n",
       "      <td>43</td>\n",
       "      <td>16541.0</td>\n",
       "      <td>17296.0</td>\n",
       "      <td>129</td>\n",
       "      <td>5</td>\n",
       "      <td>3.784190</td>\n",
       "      <td>[529, 26954, 2666, 9298]</td>\n",
       "      <td>{'529': 0.7689211040691577, '26954': 0.4554645...</td>\n",
       "      <td>[45, 239, 169, 159]</td>\n",
       "      <td>{'45': 0.8509458580098415, '239': 0.4728908281...</td>\n",
       "      <td>[0.07747091, 0.02647814, 0.0786632, -0.0200964...</td>\n",
       "    </tr>\n",
       "    <tr>\n",
       "      <th>6</th>\n",
       "      <td>101310</td>\n",
       "      <td>8115</td>\n",
       "      <td>15</td>\n",
       "      <td>19367.0</td>\n",
       "      <td>10532.0</td>\n",
       "      <td>18</td>\n",
       "      <td>2</td>\n",
       "      <td>2.772589</td>\n",
       "      <td>[12865, 10664, 13433, 19485, 11002]</td>\n",
       "      <td>{'12865': 0.5243636997625173, '10664': 0.45933...</td>\n",
       "      <td>[246, 237, 9, 6]</td>\n",
       "      <td>{'246': 0.7746825437492408, '237': 0.470565982...</td>\n",
       "      <td>[-0.01297182, -0.01348432, 0.05005981, 0.00076...</td>\n",
       "    </tr>\n",
       "    <tr>\n",
       "      <th>7</th>\n",
       "      <td>13769</td>\n",
       "      <td>11696</td>\n",
       "      <td>25</td>\n",
       "      <td>NaN</td>\n",
       "      <td>NaN</td>\n",
       "      <td>14</td>\n",
       "      <td>3</td>\n",
       "      <td>3.258097</td>\n",
       "      <td>[11061, 15752, 8800]</td>\n",
       "      <td>{'11061': 0.6469539287181666, '15752': 0.57009...</td>\n",
       "      <td>[37, 17, 9, 6]</td>\n",
       "      <td>{'37': 0.6725386307097304, '17': 0.58070454840...</td>\n",
       "      <td>[-0.0552958, -0.04448033, 0.02940514, 0.081417...</td>\n",
       "    </tr>\n",
       "    <tr>\n",
       "      <th>8</th>\n",
       "      <td>6311</td>\n",
       "      <td>9533</td>\n",
       "      <td>60</td>\n",
       "      <td>NaN</td>\n",
       "      <td>NaN</td>\n",
       "      <td>3</td>\n",
       "      <td>7</td>\n",
       "      <td>4.110874</td>\n",
       "      <td>[18428, 17892]</td>\n",
       "      <td>{'18428': 0.7238019284139826, '17892': 0.69000...</td>\n",
       "      <td>[9, 6]</td>\n",
       "      <td>{'9': 0.9989755474927385, '6': 0.0452532375812...</td>\n",
       "      <td>[-0.01446141, -0.00452141, 0.0790388, 0.013322...</td>\n",
       "    </tr>\n",
       "    <tr>\n",
       "      <th>9</th>\n",
       "      <td>6801</td>\n",
       "      <td>13501</td>\n",
       "      <td>14</td>\n",
       "      <td>NaN</td>\n",
       "      <td>NaN</td>\n",
       "      <td>4</td>\n",
       "      <td>2</td>\n",
       "      <td>2.708050</td>\n",
       "      <td>[4826, 25500, 15506, 17582, 10844]</td>\n",
       "      <td>{'4826': 0.5871899375225033, '25500': 0.439361...</td>\n",
       "      <td>[81, 269, 159, 6]</td>\n",
       "      <td>{'81': 0.7541818423569444, '269': 0.6557321638...</td>\n",
       "      <td>[-0.02395611, -0.01667979, 0.09536444, 0.00409...</td>\n",
       "    </tr>\n",
       "    <tr>\n",
       "      <th>10</th>\n",
       "      <td>86878</td>\n",
       "      <td>416</td>\n",
       "      <td>54</td>\n",
       "      <td>NaN</td>\n",
       "      <td>NaN</td>\n",
       "      <td>11</td>\n",
       "      <td>6</td>\n",
       "      <td>4.007333</td>\n",
       "      <td>[21476, 999, 24483, 21855, 3230]</td>\n",
       "      <td>{'21476': 0.5506848981858213, '999': 0.5327781...</td>\n",
       "      <td>[340, 235, 169, 10, 159]</td>\n",
       "      <td>{'340': 0.7595018151711732, '235': 0.513163274...</td>\n",
       "      <td>[-0.0587603, -0.02358876, 0.05280381, 0.020032...</td>\n",
       "    </tr>\n",
       "    <tr>\n",
       "      <th>11</th>\n",
       "      <td>52739</td>\n",
       "      <td>14837</td>\n",
       "      <td>9</td>\n",
       "      <td>NaN</td>\n",
       "      <td>NaN</td>\n",
       "      <td>2</td>\n",
       "      <td>1</td>\n",
       "      <td>2.302585</td>\n",
       "      <td>[1762]</td>\n",
       "      <td>{'1762': 1.0}</td>\n",
       "      <td>[178, 205, 269, 160, 23, 6]</td>\n",
       "      <td>{'178': 0.7168936200993332, '205': 0.455189436...</td>\n",
       "      <td>[0.02145624, 0.04112016, 0.0842841, -0.0122663...</td>\n",
       "    </tr>\n",
       "    <tr>\n",
       "      <th>12</th>\n",
       "      <td>62699</td>\n",
       "      <td>4315</td>\n",
       "      <td>15</td>\n",
       "      <td>NaN</td>\n",
       "      <td>NaN</td>\n",
       "      <td>11</td>\n",
       "      <td>2</td>\n",
       "      <td>2.772589</td>\n",
       "      <td>[15073, 23854, 3963]</td>\n",
       "      <td>{'15073': 0.6377002477483052, '23854': 0.62323...</td>\n",
       "      <td>[204, 10, 9, 235, 6]</td>\n",
       "      <td>{'204': 0.6085882206874595, '10': 0.4746759786...</td>\n",
       "      <td>[-0.02576973, -0.02830306, 0.0167805, -0.01798...</td>\n",
       "    </tr>\n",
       "    <tr>\n",
       "      <th>13</th>\n",
       "      <td>112517</td>\n",
       "      <td>6803</td>\n",
       "      <td>60</td>\n",
       "      <td>NaN</td>\n",
       "      <td>NaN</td>\n",
       "      <td>14</td>\n",
       "      <td>7</td>\n",
       "      <td>4.110874</td>\n",
       "      <td>[1722, 27089, 6945, 25821, 1216]</td>\n",
       "      <td>{'1722': 0.6074097075611431, '27089': 0.549760...</td>\n",
       "      <td>[61, 14, 159, 6]</td>\n",
       "      <td>{'61': 0.7731276533465554, '14': 0.63343155848...</td>\n",
       "      <td>[0.02220513, -0.06818736, 0.09101705, 0.012849...</td>\n",
       "    </tr>\n",
       "    <tr>\n",
       "      <th>14</th>\n",
       "      <td>36502</td>\n",
       "      <td>12151</td>\n",
       "      <td>18</td>\n",
       "      <td>4953.0</td>\n",
       "      <td>747.0</td>\n",
       "      <td>38</td>\n",
       "      <td>2</td>\n",
       "      <td>2.944439</td>\n",
       "      <td>[15310, 7884, 13940, 20336, 3071]</td>\n",
       "      <td>{'15310': 0.4227428139242971, '7884': 0.391607...</td>\n",
       "      <td>[246, 237, 219, 6]</td>\n",
       "      <td>{'246': 0.7659458562372763, '237': 0.465259050...</td>\n",
       "      <td>[-0.027364, -0.03202737, 0.06013794, 0.0371439...</td>\n",
       "    </tr>\n",
       "    <tr>\n",
       "      <th>15</th>\n",
       "      <td>75573</td>\n",
       "      <td>6945</td>\n",
       "      <td>20</td>\n",
       "      <td>10413.0</td>\n",
       "      <td>12043.0</td>\n",
       "      <td>11</td>\n",
       "      <td>3</td>\n",
       "      <td>3.044522</td>\n",
       "      <td>[15070, 6654, 11292, 15338, 24769]</td>\n",
       "      <td>{'15070': 0.5459592018660683, '6654': 0.494142...</td>\n",
       "      <td>[81, 269, 159, 6]</td>\n",
       "      <td>{'81': 0.7541818423569444, '269': 0.6557321638...</td>\n",
       "      <td>[-0.0251752, 0.05283042, 0.0903274, 0.02380658...</td>\n",
       "    </tr>\n",
       "    <tr>\n",
       "      <th>16</th>\n",
       "      <td>5779</td>\n",
       "      <td>7739</td>\n",
       "      <td>36</td>\n",
       "      <td>NaN</td>\n",
       "      <td>NaN</td>\n",
       "      <td>9</td>\n",
       "      <td>4</td>\n",
       "      <td>3.610918</td>\n",
       "      <td>[14018]</td>\n",
       "      <td>{'14018': 1.0}</td>\n",
       "      <td>[219, 6]</td>\n",
       "      <td>{'219': 0.9990923162443022, '6': 0.04259746027...</td>\n",
       "      <td>[-0.0356744, 0.02923629, 0.02761661, -0.029520...</td>\n",
       "    </tr>\n",
       "    <tr>\n",
       "      <th>17</th>\n",
       "      <td>73133</td>\n",
       "      <td>2739</td>\n",
       "      <td>33</td>\n",
       "      <td>NaN</td>\n",
       "      <td>NaN</td>\n",
       "      <td>7</td>\n",
       "      <td>4</td>\n",
       "      <td>3.526361</td>\n",
       "      <td>[24802, 13615, 4065, 15655, 18120]</td>\n",
       "      <td>{'24802': 0.5892960624371922, '13615': 0.51163...</td>\n",
       "      <td>[291, 234, 159, 6]</td>\n",
       "      <td>{'291': 0.7645092742184847, '234': 0.643753575...</td>\n",
       "      <td>[-0.01984779, -0.06226546, 0.0524077, 0.066094...</td>\n",
       "    </tr>\n",
       "    <tr>\n",
       "      <th>18</th>\n",
       "      <td>38443</td>\n",
       "      <td>10671</td>\n",
       "      <td>26</td>\n",
       "      <td>10155.0</td>\n",
       "      <td>387.0</td>\n",
       "      <td>120</td>\n",
       "      <td>3</td>\n",
       "      <td>3.295837</td>\n",
       "      <td>[4089, 26765, 22832, 18050, 6934]</td>\n",
       "      <td>{'4089': 0.6294006705503452, '26765': 0.405157...</td>\n",
       "      <td>[170, 239, 169, 159]</td>\n",
       "      <td>{'170': 0.7211713650723001, '239': 0.623695701...</td>\n",
       "      <td>[0.00482021, 0.0120407, -0.01045148, -0.053889...</td>\n",
       "    </tr>\n",
       "    <tr>\n",
       "      <th>19</th>\n",
       "      <td>106960</td>\n",
       "      <td>18299</td>\n",
       "      <td>22</td>\n",
       "      <td>17350.0</td>\n",
       "      <td>14688.0</td>\n",
       "      <td>14</td>\n",
       "      <td>3</td>\n",
       "      <td>3.135494</td>\n",
       "      <td>[3436, 3230, 18428, 17892]</td>\n",
       "      <td>{'3436': 0.5443670111928047, '3230': 0.5059316...</td>\n",
       "      <td>[9, 6]</td>\n",
       "      <td>{'9': 0.9989755474927385, '6': 0.0452532375812...</td>\n",
       "      <td>[-0.02015807, 0.06975326, 0.11600198, 0.058744...</td>\n",
       "    </tr>\n",
       "    <tr>\n",
       "      <th>20</th>\n",
       "      <td>53804</td>\n",
       "      <td>11838</td>\n",
       "      <td>60</td>\n",
       "      <td>5071.0</td>\n",
       "      <td>9616.0</td>\n",
       "      <td>2</td>\n",
       "      <td>7</td>\n",
       "      <td>4.110874</td>\n",
       "      <td>[5083, 16285, 10109, 25784, 2793]</td>\n",
       "      <td>{'5083': 0.5086940514403694, '16285': 0.412134...</td>\n",
       "      <td>[32, 17, 10, 159, 6]</td>\n",
       "      <td>{'32': 0.8558653616750015, '17': 0.47801333032...</td>\n",
       "      <td>[-0.04316035, 0.07144021, 0.1454363, -0.056409...</td>\n",
       "    </tr>\n",
       "    <tr>\n",
       "      <th>21</th>\n",
       "      <td>92285</td>\n",
       "      <td>15313</td>\n",
       "      <td>60</td>\n",
       "      <td>NaN</td>\n",
       "      <td>NaN</td>\n",
       "      <td>26</td>\n",
       "      <td>7</td>\n",
       "      <td>4.110874</td>\n",
       "      <td>[17343, 26362, 10379, 10821, 5454]</td>\n",
       "      <td>{'17343': 0.7834071534324794, '26362': 0.38004...</td>\n",
       "      <td>[328, 13, 212, 159, 6]</td>\n",
       "      <td>{'328': 0.7059784342971128, '13': 0.6242388285...</td>\n",
       "      <td>[0.02500373, 0.01447352, 0.07127713, 0.0136165...</td>\n",
       "    </tr>\n",
       "    <tr>\n",
       "      <th>22</th>\n",
       "      <td>107757</td>\n",
       "      <td>6223</td>\n",
       "      <td>60</td>\n",
       "      <td>NaN</td>\n",
       "      <td>NaN</td>\n",
       "      <td>6</td>\n",
       "      <td>7</td>\n",
       "      <td>4.110874</td>\n",
       "      <td>[16472, 25056, 15243, 27033]</td>\n",
       "      <td>{'16472': 0.575987272210437, '25056': 0.520429...</td>\n",
       "      <td>[272, 237, 219, 6]</td>\n",
       "      <td>{'272': 0.8457186435423499, '237': 0.386177924...</td>\n",
       "      <td>[0.03830788, -0.04379745, 0.05699548, 0.037793...</td>\n",
       "    </tr>\n",
       "    <tr>\n",
       "      <th>23</th>\n",
       "      <td>68567</td>\n",
       "      <td>17311</td>\n",
       "      <td>21</td>\n",
       "      <td>22348.0</td>\n",
       "      <td>16086.0</td>\n",
       "      <td>11</td>\n",
       "      <td>3</td>\n",
       "      <td>3.091042</td>\n",
       "      <td>[23749, 235, 5781, 6125, 22225]</td>\n",
       "      <td>{'23749': 0.7317273607547292, '235': 0.3904871...</td>\n",
       "      <td>[340, 235, 159, 6]</td>\n",
       "      <td>{'340': 0.8251193781187215, '235': 0.557498287...</td>\n",
       "      <td>[-0.03243921, -0.01309207, 0.13506399, -0.0166...</td>\n",
       "    </tr>\n",
       "    <tr>\n",
       "      <th>24</th>\n",
       "      <td>75135</td>\n",
       "      <td>1207</td>\n",
       "      <td>60</td>\n",
       "      <td>NaN</td>\n",
       "      <td>NaN</td>\n",
       "      <td>41</td>\n",
       "      <td>7</td>\n",
       "      <td>4.110874</td>\n",
       "      <td>[18475, 19989, 21519, 18473, 15653]</td>\n",
       "      <td>{'18475': 0.5236521747215218, '19989': 0.49252...</td>\n",
       "      <td>[194, 267, 212, 159, 6]</td>\n",
       "      <td>{'194': 0.8724566419124917, '267': 0.391897743...</td>\n",
       "      <td>[-0.0662453, -0.0315974, 0.06154117, 0.0149325...</td>\n",
       "    </tr>\n",
       "    <tr>\n",
       "      <th>25</th>\n",
       "      <td>57664</td>\n",
       "      <td>12239</td>\n",
       "      <td>12</td>\n",
       "      <td>12332.0</td>\n",
       "      <td>15053.0</td>\n",
       "      <td>45</td>\n",
       "      <td>2</td>\n",
       "      <td>2.564949</td>\n",
       "      <td>[17366, 10350, 26617, 5077, 17881]</td>\n",
       "      <td>{'17366': 0.6332270136159205, '10350': 0.46322...</td>\n",
       "      <td>[332, 16, 159, 6]</td>\n",
       "      <td>{'332': 0.7403871802891464, '16': 0.6702458975...</td>\n",
       "      <td>[-0.05779409, -0.00177992, 0.05889781, 0.01824...</td>\n",
       "    </tr>\n",
       "    <tr>\n",
       "      <th>26</th>\n",
       "      <td>11575</td>\n",
       "      <td>16021</td>\n",
       "      <td>60</td>\n",
       "      <td>21888.0</td>\n",
       "      <td>8233.0</td>\n",
       "      <td>4</td>\n",
       "      <td>7</td>\n",
       "      <td>4.110874</td>\n",
       "      <td>[17876, 14505, 15655, 14281, 12025]</td>\n",
       "      <td>{'17876': 0.4245554711079738, '14505': 0.39913...</td>\n",
       "      <td>[89, 246, 268, 237, 159, 6]</td>\n",
       "      <td>{'89': 0.659952295316923, '246': 0.50708273980...</td>\n",
       "      <td>[-0.01433878, 0.04549439, 0.13795164, -0.04338...</td>\n",
       "    </tr>\n",
       "    <tr>\n",
       "      <th>27</th>\n",
       "      <td>25935</td>\n",
       "      <td>5631</td>\n",
       "      <td>32</td>\n",
       "      <td>NaN</td>\n",
       "      <td>NaN</td>\n",
       "      <td>43</td>\n",
       "      <td>4</td>\n",
       "      <td>3.496508</td>\n",
       "      <td>[14603, 13074, 8696, 23242]</td>\n",
       "      <td>{'14603': 0.6973620115844829, '13074': 0.46192...</td>\n",
       "      <td>[43, 237, 219, 10, 6]</td>\n",
       "      <td>{'43': 0.850610388385528, '237': 0.31586986490...</td>\n",
       "      <td>[0.03950502, 0.03091337, -0.00941543, 0.011730...</td>\n",
       "    </tr>\n",
       "    <tr>\n",
       "      <th>28</th>\n",
       "      <td>87787</td>\n",
       "      <td>1510</td>\n",
       "      <td>10</td>\n",
       "      <td>16895.0</td>\n",
       "      <td>12203.0</td>\n",
       "      <td>4</td>\n",
       "      <td>2</td>\n",
       "      <td>2.397895</td>\n",
       "      <td>[18056, 15310, 20336, 3071, 10049]</td>\n",
       "      <td>{'18056': 0.46688675208604363, '15310': 0.4443...</td>\n",
       "      <td>[39, 266, 159, 6]</td>\n",
       "      <td>{'39': 0.8357764858629047, '266': 0.5482492592...</td>\n",
       "      <td>[0.0431443, -0.0346234, 0.00307553, 0.00513335...</td>\n",
       "    </tr>\n",
       "    <tr>\n",
       "      <th>29</th>\n",
       "      <td>66683</td>\n",
       "      <td>2431</td>\n",
       "      <td>9</td>\n",
       "      <td>15685.0</td>\n",
       "      <td>16720.0</td>\n",
       "      <td>67</td>\n",
       "      <td>1</td>\n",
       "      <td>2.302585</td>\n",
       "      <td>[26508, 6758, 13615]</td>\n",
       "      <td>{'26508': 0.6162183857092166, '6758': 0.601505...</td>\n",
       "      <td>[291, 234, 9, 6]</td>\n",
       "      <td>{'291': 0.7044266754731259, '234': 0.593161137...</td>\n",
       "      <td>[0.06365966, -0.08227828, 0.02357581, 0.021905...</td>\n",
       "    </tr>\n",
       "    <tr>\n",
       "      <th>...</th>\n",
       "      <td>...</td>\n",
       "      <td>...</td>\n",
       "      <td>...</td>\n",
       "      <td>...</td>\n",
       "      <td>...</td>\n",
       "      <td>...</td>\n",
       "      <td>...</td>\n",
       "      <td>...</td>\n",
       "      <td>...</td>\n",
       "      <td>...</td>\n",
       "      <td>...</td>\n",
       "      <td>...</td>\n",
       "      <td>...</td>\n",
       "    </tr>\n",
       "    <tr>\n",
       "      <th>106414</th>\n",
       "      <td>90513</td>\n",
       "      <td>18635</td>\n",
       "      <td>28</td>\n",
       "      <td>NaN</td>\n",
       "      <td>NaN</td>\n",
       "      <td>29</td>\n",
       "      <td>3</td>\n",
       "      <td>3.367296</td>\n",
       "      <td>[18542, 4372, 14126, 529, 9298]</td>\n",
       "      <td>{'18542': 0.6049059809073039, '4372': 0.568683...</td>\n",
       "      <td>[46, 239, 169, 159]</td>\n",
       "      <td>{'46': 0.908751172121474, '239': 0.37573384283...</td>\n",
       "      <td>[-0.03892908, -0.02037035, 0.01229151, 0.03351...</td>\n",
       "    </tr>\n",
       "    <tr>\n",
       "      <th>106415</th>\n",
       "      <td>45216</td>\n",
       "      <td>9839</td>\n",
       "      <td>61</td>\n",
       "      <td>NaN</td>\n",
       "      <td>NaN</td>\n",
       "      <td>7</td>\n",
       "      <td>7</td>\n",
       "      <td>4.127134</td>\n",
       "      <td>[21711, 5461, 6415]</td>\n",
       "      <td>{'21711': 0.6134748029658604, '5461': 0.578407...</td>\n",
       "      <td>[190, 264, 187, 159, 6]</td>\n",
       "      <td>{'190': 0.6588000864552573, '264': 0.613805788...</td>\n",
       "      <td>[0.03186298, -0.02604579, 0.04413722, 0.053885...</td>\n",
       "    </tr>\n",
       "    <tr>\n",
       "      <th>106416</th>\n",
       "      <td>56769</td>\n",
       "      <td>571</td>\n",
       "      <td>60</td>\n",
       "      <td>NaN</td>\n",
       "      <td>NaN</td>\n",
       "      <td>40</td>\n",
       "      <td>7</td>\n",
       "      <td>4.110874</td>\n",
       "      <td>[14761, 12410, 11559, 19658, 5949]</td>\n",
       "      <td>{'14761': 0.5631945740542968, '12410': 0.53637...</td>\n",
       "      <td>[203, 14, 159, 6]</td>\n",
       "      <td>{'203': 0.7926971016025814, '14': 0.6064855340...</td>\n",
       "      <td>[0.04548506, -0.01967249, 0.1014293, 0.0156311...</td>\n",
       "    </tr>\n",
       "    <tr>\n",
       "      <th>106417</th>\n",
       "      <td>18300</td>\n",
       "      <td>8306</td>\n",
       "      <td>60</td>\n",
       "      <td>NaN</td>\n",
       "      <td>NaN</td>\n",
       "      <td>22</td>\n",
       "      <td>7</td>\n",
       "      <td>4.110874</td>\n",
       "      <td>[25016, 18473, 19333]</td>\n",
       "      <td>{'25016': 0.7691398213137051, '18473': 0.45385...</td>\n",
       "      <td>[194, 267, 212, 159, 6]</td>\n",
       "      <td>{'194': 0.8724566419124917, '267': 0.391897743...</td>\n",
       "      <td>[-0.05967703, 0.02808446, 0.03217231, -0.00236...</td>\n",
       "    </tr>\n",
       "    <tr>\n",
       "      <th>106418</th>\n",
       "      <td>55287</td>\n",
       "      <td>7108</td>\n",
       "      <td>60</td>\n",
       "      <td>20075.0</td>\n",
       "      <td>11526.0</td>\n",
       "      <td>1</td>\n",
       "      <td>7</td>\n",
       "      <td>4.110874</td>\n",
       "      <td>[7715, 26334, 219, 25209]</td>\n",
       "      <td>{'7715': 0.5777611487347678, '26334': 0.543602...</td>\n",
       "      <td>[81, 269, 160, 6]</td>\n",
       "      <td>{'81': 0.7264618067737593, '269': 0.6316306568...</td>\n",
       "      <td>[-0.06391368, -0.05852186, 0.01461679, 0.02017...</td>\n",
       "    </tr>\n",
       "    <tr>\n",
       "      <th>106419</th>\n",
       "      <td>86885</td>\n",
       "      <td>17829</td>\n",
       "      <td>27</td>\n",
       "      <td>9348.0</td>\n",
       "      <td>16049.0</td>\n",
       "      <td>4</td>\n",
       "      <td>3</td>\n",
       "      <td>3.332205</td>\n",
       "      <td>[27137, 25273, 16723, 9417, 25602]</td>\n",
       "      <td>{'27137': 0.6596399217966805, '25273': 0.45135...</td>\n",
       "      <td>[246, 237, 159, 6]</td>\n",
       "      <td>{'246': 0.8523913851190559, '237': 0.517768721...</td>\n",
       "      <td>[0.01973216, -0.03278743, 0.06706285, 0.020617...</td>\n",
       "    </tr>\n",
       "    <tr>\n",
       "      <th>106420</th>\n",
       "      <td>20259</td>\n",
       "      <td>2640</td>\n",
       "      <td>35</td>\n",
       "      <td>NaN</td>\n",
       "      <td>NaN</td>\n",
       "      <td>1</td>\n",
       "      <td>4</td>\n",
       "      <td>3.583519</td>\n",
       "      <td>[14855, 11424, 208]</td>\n",
       "      <td>{'14855': 0.8592399752217906, '11424': 0.46484...</td>\n",
       "      <td>[333, 16, 159, 6]</td>\n",
       "      <td>{'333': 0.9203948290095502, '16': 0.3898648339...</td>\n",
       "      <td>[-0.01284783, -0.02181722, 0.09385552, 0.02591...</td>\n",
       "    </tr>\n",
       "    <tr>\n",
       "      <th>106421</th>\n",
       "      <td>44698</td>\n",
       "      <td>13941</td>\n",
       "      <td>11</td>\n",
       "      <td>NaN</td>\n",
       "      <td>NaN</td>\n",
       "      <td>149</td>\n",
       "      <td>2</td>\n",
       "      <td>2.484907</td>\n",
       "      <td>[14, 19199, 18863]</td>\n",
       "      <td>{'14': 0.6924853738433843, '19199': 0.69248537...</td>\n",
       "      <td>[170, 239, 169, 159]</td>\n",
       "      <td>{'170': 0.6392452375382845, '239': 0.552842952...</td>\n",
       "      <td>[0.02602487, -0.02700067, 0.09474729, -0.03612...</td>\n",
       "    </tr>\n",
       "    <tr>\n",
       "      <th>106422</th>\n",
       "      <td>38556</td>\n",
       "      <td>10889</td>\n",
       "      <td>33</td>\n",
       "      <td>NaN</td>\n",
       "      <td>NaN</td>\n",
       "      <td>128</td>\n",
       "      <td>4</td>\n",
       "      <td>3.526361</td>\n",
       "      <td>[]</td>\n",
       "      <td>{}</td>\n",
       "      <td>[328, 13, 160, 6]</td>\n",
       "      <td>{'328': 0.704189391071019, '13': 0.62265692434...</td>\n",
       "      <td>[0.04893262, 0.03707115, 0.06935141, -0.006092...</td>\n",
       "    </tr>\n",
       "    <tr>\n",
       "      <th>106423</th>\n",
       "      <td>91730</td>\n",
       "      <td>7982</td>\n",
       "      <td>15</td>\n",
       "      <td>NaN</td>\n",
       "      <td>NaN</td>\n",
       "      <td>1</td>\n",
       "      <td>2</td>\n",
       "      <td>2.772589</td>\n",
       "      <td>[6484, 24546, 16609, 20237]</td>\n",
       "      <td>{'6484': 0.5764297552513126, '24546': 0.528694...</td>\n",
       "      <td>[69, 241, 160, 6]</td>\n",
       "      <td>{'69': 0.7494961186292551, '241': 0.5202309440...</td>\n",
       "      <td>[-0.1059953, -0.05622348, 0.04795159, 0.030409...</td>\n",
       "    </tr>\n",
       "    <tr>\n",
       "      <th>106424</th>\n",
       "      <td>63546</td>\n",
       "      <td>539</td>\n",
       "      <td>31</td>\n",
       "      <td>6215.0</td>\n",
       "      <td>2402.0</td>\n",
       "      <td>1</td>\n",
       "      <td>4</td>\n",
       "      <td>3.465736</td>\n",
       "      <td>[]</td>\n",
       "      <td>{}</td>\n",
       "      <td>[202, 160, 23, 6]</td>\n",
       "      <td>{'202': 0.6424700562765455, '160': 0.557534809...</td>\n",
       "      <td>[-0.09239395, 0.00898, 0.02895754, -0.06556854...</td>\n",
       "    </tr>\n",
       "    <tr>\n",
       "      <th>106425</th>\n",
       "      <td>53855</td>\n",
       "      <td>14270</td>\n",
       "      <td>54</td>\n",
       "      <td>12133.0</td>\n",
       "      <td>1911.0</td>\n",
       "      <td>2</td>\n",
       "      <td>6</td>\n",
       "      <td>4.007333</td>\n",
       "      <td>[11586, 17582, 4123, 7715]</td>\n",
       "      <td>{'11586': 0.7738341646336814, '17582': 0.36684...</td>\n",
       "      <td>[81, 269, 159, 6]</td>\n",
       "      <td>{'81': 0.7527997534858163, '269': 0.6545304906...</td>\n",
       "      <td>[-0.06253602, 0.01644758, 0.02445031, 0.017522...</td>\n",
       "    </tr>\n",
       "    <tr>\n",
       "      <th>106426</th>\n",
       "      <td>68878</td>\n",
       "      <td>10334</td>\n",
       "      <td>7</td>\n",
       "      <td>24667.0</td>\n",
       "      <td>10817.0</td>\n",
       "      <td>1</td>\n",
       "      <td>1</td>\n",
       "      <td>2.079442</td>\n",
       "      <td>[14328, 10254, 10844]</td>\n",
       "      <td>{'14328': 0.6872695533059644, '10254': 0.54325...</td>\n",
       "      <td>[157, 202, 160, 23, 6]</td>\n",
       "      <td>{'157': 0.7359004043303234, '202': 0.435009920...</td>\n",
       "      <td>[-0.0586329, -0.08100722, 0.07391258, -0.05769...</td>\n",
       "    </tr>\n",
       "    <tr>\n",
       "      <th>106427</th>\n",
       "      <td>23810</td>\n",
       "      <td>3381</td>\n",
       "      <td>16</td>\n",
       "      <td>NaN</td>\n",
       "      <td>NaN</td>\n",
       "      <td>11</td>\n",
       "      <td>2</td>\n",
       "      <td>2.833213</td>\n",
       "      <td>[]</td>\n",
       "      <td>{}</td>\n",
       "      <td>[68, 241, 160, 332, 16, 6]</td>\n",
       "      <td>{'68': 0.6228402759865189, '241': 0.4907523059...</td>\n",
       "      <td>[-0.05275259, -0.05914531, 0.04524783, 0.08509...</td>\n",
       "    </tr>\n",
       "    <tr>\n",
       "      <th>106428</th>\n",
       "      <td>29805</td>\n",
       "      <td>14270</td>\n",
       "      <td>54</td>\n",
       "      <td>11510.0</td>\n",
       "      <td>8950.0</td>\n",
       "      <td>2</td>\n",
       "      <td>6</td>\n",
       "      <td>4.007333</td>\n",
       "      <td>[21785, 15506, 17582, 7715, 21639]</td>\n",
       "      <td>{'21785': 0.6526641874774896, '15506': 0.35186...</td>\n",
       "      <td>[269, 82, 81, 159, 6]</td>\n",
       "      <td>{'269': 0.7481375835485737, '82': 0.5035844571...</td>\n",
       "      <td>[-0.01955819, 0.03403154, 0.02118728, -0.01804...</td>\n",
       "    </tr>\n",
       "    <tr>\n",
       "      <th>106429</th>\n",
       "      <td>17173</td>\n",
       "      <td>1973</td>\n",
       "      <td>29</td>\n",
       "      <td>6915.0</td>\n",
       "      <td>10796.0</td>\n",
       "      <td>50</td>\n",
       "      <td>3</td>\n",
       "      <td>3.401197</td>\n",
       "      <td>[26486, 113, 24435, 11756, 6297]</td>\n",
       "      <td>{'26486': 0.5299960384379633, '113': 0.5087265...</td>\n",
       "      <td>[322, 41, 266, 13, 159, 6]</td>\n",
       "      <td>{'322': 0.6011999350826526, '41': 0.5735414937...</td>\n",
       "      <td>[-0.0458087, 0.05818289, 0.06412343, -0.013920...</td>\n",
       "    </tr>\n",
       "    <tr>\n",
       "      <th>106430</th>\n",
       "      <td>77912</td>\n",
       "      <td>10889</td>\n",
       "      <td>17</td>\n",
       "      <td>24535.0</td>\n",
       "      <td>14924.0</td>\n",
       "      <td>128</td>\n",
       "      <td>2</td>\n",
       "      <td>2.890372</td>\n",
       "      <td>[9112, 25839, 24125]</td>\n",
       "      <td>{'9112': 0.6100682107745913, '25839': 0.604947...</td>\n",
       "      <td>[192, 267, 159, 6]</td>\n",
       "      <td>{'192': 0.8880871396112547, '267': 0.457620946...</td>\n",
       "      <td>[0.00742496, -0.00337, 0.10657179, 0.00035377,...</td>\n",
       "    </tr>\n",
       "    <tr>\n",
       "      <th>106431</th>\n",
       "      <td>12124</td>\n",
       "      <td>8327</td>\n",
       "      <td>12</td>\n",
       "      <td>18659.0</td>\n",
       "      <td>11703.0</td>\n",
       "      <td>21</td>\n",
       "      <td>2</td>\n",
       "      <td>2.564949</td>\n",
       "      <td>[]</td>\n",
       "      <td>{}</td>\n",
       "      <td>[80, 264, 9, 6]</td>\n",
       "      <td>{'80': 0.7068020753392384, '264': 0.5964411048...</td>\n",
       "      <td>[-0.0539072, -0.05202693, 0.05227587, -0.00637...</td>\n",
       "    </tr>\n",
       "    <tr>\n",
       "      <th>106432</th>\n",
       "      <td>31523</td>\n",
       "      <td>1380</td>\n",
       "      <td>8</td>\n",
       "      <td>4470.0</td>\n",
       "      <td>4169.0</td>\n",
       "      <td>1</td>\n",
       "      <td>1</td>\n",
       "      <td>2.197225</td>\n",
       "      <td>[19991, 1484, 17582, 1197]</td>\n",
       "      <td>{'19991': 0.7640372711468165, '1484': 0.422997...</td>\n",
       "      <td>[82, 269, 159, 6]</td>\n",
       "      <td>{'82': 0.8023547118206074, '269': 0.5959990491...</td>\n",
       "      <td>[0.03325411, 0.04555308, 0.01452211, -0.026979...</td>\n",
       "    </tr>\n",
       "    <tr>\n",
       "      <th>106433</th>\n",
       "      <td>21728</td>\n",
       "      <td>11177</td>\n",
       "      <td>13</td>\n",
       "      <td>NaN</td>\n",
       "      <td>NaN</td>\n",
       "      <td>23</td>\n",
       "      <td>2</td>\n",
       "      <td>2.639057</td>\n",
       "      <td>[7977, 18267, 21770, 3160, 18322]</td>\n",
       "      <td>{'7977': 0.544943301224331, '18267': 0.4333379...</td>\n",
       "      <td>[192, 267, 159, 6]</td>\n",
       "      <td>{'192': 0.8880871396112547, '267': 0.457620946...</td>\n",
       "      <td>[-0.02346523, -0.00686419, 0.14517266, -0.0212...</td>\n",
       "    </tr>\n",
       "    <tr>\n",
       "      <th>106434</th>\n",
       "      <td>93947</td>\n",
       "      <td>17279</td>\n",
       "      <td>8</td>\n",
       "      <td>NaN</td>\n",
       "      <td>NaN</td>\n",
       "      <td>15</td>\n",
       "      <td>1</td>\n",
       "      <td>2.197225</td>\n",
       "      <td>[5562]</td>\n",
       "      <td>{'5562': 1.0}</td>\n",
       "      <td>[342, 237, 10, 159, 6]</td>\n",
       "      <td>{'342': 0.9183635945969486, '237': 0.358232946...</td>\n",
       "      <td>[-0.01341304, 0.01200104, 0.0390487, 0.0193874...</td>\n",
       "    </tr>\n",
       "    <tr>\n",
       "      <th>106435</th>\n",
       "      <td>83271</td>\n",
       "      <td>6792</td>\n",
       "      <td>18</td>\n",
       "      <td>13911.0</td>\n",
       "      <td>3398.0</td>\n",
       "      <td>1</td>\n",
       "      <td>2</td>\n",
       "      <td>2.944439</td>\n",
       "      <td>[15506, 17582, 7715]</td>\n",
       "      <td>{'15506': 0.6350039335784028, '17582': 0.54816...</td>\n",
       "      <td>[81, 269, 159, 6]</td>\n",
       "      <td>{'81': 0.7541818423569444, '269': 0.6557321638...</td>\n",
       "      <td>[-0.02572051, -0.06677152, 0.05561295, 0.02120...</td>\n",
       "    </tr>\n",
       "    <tr>\n",
       "      <th>106436</th>\n",
       "      <td>87317</td>\n",
       "      <td>11907</td>\n",
       "      <td>24</td>\n",
       "      <td>20865.0</td>\n",
       "      <td>1318.0</td>\n",
       "      <td>3</td>\n",
       "      <td>3</td>\n",
       "      <td>3.218876</td>\n",
       "      <td>[348, 18772, 11157, 26054, 5562]</td>\n",
       "      <td>{'348': 0.4169087581170464, '18772': 0.3893363...</td>\n",
       "      <td>[342, 237, 159, 6]</td>\n",
       "      <td>{'342': 0.9313236705093118, '237': 0.363288379...</td>\n",
       "      <td>[0.04407151, -0.01925021, 0.05023227, 0.071989...</td>\n",
       "    </tr>\n",
       "    <tr>\n",
       "      <th>106437</th>\n",
       "      <td>6523</td>\n",
       "      <td>1791</td>\n",
       "      <td>11</td>\n",
       "      <td>22593.0</td>\n",
       "      <td>5313.0</td>\n",
       "      <td>51</td>\n",
       "      <td>2</td>\n",
       "      <td>2.484907</td>\n",
       "      <td>[4745, 5551, 3601, 15476, 19764]</td>\n",
       "      <td>{'4745': 0.48932085534466957, '5551': 0.435964...</td>\n",
       "      <td>[207, 170, 191, 239, 169, 267, 159]</td>\n",
       "      <td>{'207': 0.46130497511294427, '170': 0.45696250...</td>\n",
       "      <td>[-0.06849058, 0.06990878, 0.05221306, -0.00431...</td>\n",
       "    </tr>\n",
       "    <tr>\n",
       "      <th>106438</th>\n",
       "      <td>30855</td>\n",
       "      <td>14353</td>\n",
       "      <td>21</td>\n",
       "      <td>6867.0</td>\n",
       "      <td>13828.0</td>\n",
       "      <td>20</td>\n",
       "      <td>3</td>\n",
       "      <td>3.091042</td>\n",
       "      <td>[15050, 4607, 4249, 16748]</td>\n",
       "      <td>{'15050': 0.6225186619372242, '4607': 0.529970...</td>\n",
       "      <td>[198, 267, 191, 159, 6]</td>\n",
       "      <td>{'198': 0.6833954943542202, '267': 0.585041082...</td>\n",
       "      <td>[-0.04163475, -0.04864525, 0.05778953, -0.0020...</td>\n",
       "    </tr>\n",
       "    <tr>\n",
       "      <th>106439</th>\n",
       "      <td>104384</td>\n",
       "      <td>14898</td>\n",
       "      <td>10</td>\n",
       "      <td>3959.0</td>\n",
       "      <td>8338.0</td>\n",
       "      <td>68</td>\n",
       "      <td>2</td>\n",
       "      <td>2.397895</td>\n",
       "      <td>[10254, 10844, 1197]</td>\n",
       "      <td>{'10254': 0.6241828501236824, '10844': 0.55404...</td>\n",
       "      <td>[24, 271, 202, 23, 159, 6]</td>\n",
       "      <td>{'24': 0.6937153399242091, '271': 0.4987847573...</td>\n",
       "      <td>[0.03622869, 0.04858947, 0.06425355, 0.0580821...</td>\n",
       "    </tr>\n",
       "    <tr>\n",
       "      <th>106440</th>\n",
       "      <td>91514</td>\n",
       "      <td>5356</td>\n",
       "      <td>15</td>\n",
       "      <td>12399.0</td>\n",
       "      <td>8017.0</td>\n",
       "      <td>16</td>\n",
       "      <td>2</td>\n",
       "      <td>2.772589</td>\n",
       "      <td>[]</td>\n",
       "      <td>{}</td>\n",
       "      <td>[61, 14, 9, 6]</td>\n",
       "      <td>{'61': 0.7157350593110133, '14': 0.58640920696...</td>\n",
       "      <td>[-0.04231586, -0.01909175, 0.13438827, -0.0366...</td>\n",
       "    </tr>\n",
       "    <tr>\n",
       "      <th>106441</th>\n",
       "      <td>69742</td>\n",
       "      <td>12148</td>\n",
       "      <td>23</td>\n",
       "      <td>13961.0</td>\n",
       "      <td>14917.0</td>\n",
       "      <td>3</td>\n",
       "      <td>3</td>\n",
       "      <td>3.178054</td>\n",
       "      <td>[18009, 1312, 11411]</td>\n",
       "      <td>{'18009': 0.7018648283582362, '1312': 0.619798...</td>\n",
       "      <td>[179, 262, 159, 6]</td>\n",
       "      <td>{'179': 0.7763660918597458, '262': 0.629620694...</td>\n",
       "      <td>[-0.07966839, -0.12719658, -0.03161635, -0.019...</td>\n",
       "    </tr>\n",
       "    <tr>\n",
       "      <th>106442</th>\n",
       "      <td>61540</td>\n",
       "      <td>14708</td>\n",
       "      <td>43</td>\n",
       "      <td>NaN</td>\n",
       "      <td>NaN</td>\n",
       "      <td>7</td>\n",
       "      <td>5</td>\n",
       "      <td>3.784190</td>\n",
       "      <td>[3212, 17707, 17582]</td>\n",
       "      <td>{'3212': 0.6818467480119231, '17707': 0.619837...</td>\n",
       "      <td>[269, 96, 82, 159, 6]</td>\n",
       "      <td>{'269': 0.6752259124796327, '96': 0.5798232101...</td>\n",
       "      <td>[-0.05995588, -0.02984357, -0.00039262, -0.040...</td>\n",
       "    </tr>\n",
       "    <tr>\n",
       "      <th>106443</th>\n",
       "      <td>89334</td>\n",
       "      <td>15775</td>\n",
       "      <td>32</td>\n",
       "      <td>NaN</td>\n",
       "      <td>NaN</td>\n",
       "      <td>2</td>\n",
       "      <td>4</td>\n",
       "      <td>3.496508</td>\n",
       "      <td>[]</td>\n",
       "      <td>{}</td>\n",
       "      <td>[28, 271, 202, 160, 23, 6]</td>\n",
       "      <td>{'28': 0.6829536401514561, '271': 0.4561313926...</td>\n",
       "      <td>[-0.03350726, 0.01988418, 0.0429678, 0.0230675...</td>\n",
       "    </tr>\n",
       "  </tbody>\n",
       "</table>\n",
       "<p>106444 rows × 13 columns</p>\n",
       "</div>"
      ],
      "text/plain": [
       "        feedid  authorid  videoplayseconds  bgm_song_id  bgm_singer_id  \\\n",
       "0        43549      6165                38      19356.0        11703.0   \n",
       "1        77432      9386                60          NaN            NaN   \n",
       "2        12921      2996                15      10288.0        11354.0   \n",
       "3        34538     12577                18      24435.0        13645.0   \n",
       "4        75414      7185                16      23428.0        10730.0   \n",
       "5        34539      2595                43      16541.0        17296.0   \n",
       "6       101310      8115                15      19367.0        10532.0   \n",
       "7        13769     11696                25          NaN            NaN   \n",
       "8         6311      9533                60          NaN            NaN   \n",
       "9         6801     13501                14          NaN            NaN   \n",
       "10       86878       416                54          NaN            NaN   \n",
       "11       52739     14837                 9          NaN            NaN   \n",
       "12       62699      4315                15          NaN            NaN   \n",
       "13      112517      6803                60          NaN            NaN   \n",
       "14       36502     12151                18       4953.0          747.0   \n",
       "15       75573      6945                20      10413.0        12043.0   \n",
       "16        5779      7739                36          NaN            NaN   \n",
       "17       73133      2739                33          NaN            NaN   \n",
       "18       38443     10671                26      10155.0          387.0   \n",
       "19      106960     18299                22      17350.0        14688.0   \n",
       "20       53804     11838                60       5071.0         9616.0   \n",
       "21       92285     15313                60          NaN            NaN   \n",
       "22      107757      6223                60          NaN            NaN   \n",
       "23       68567     17311                21      22348.0        16086.0   \n",
       "24       75135      1207                60          NaN            NaN   \n",
       "25       57664     12239                12      12332.0        15053.0   \n",
       "26       11575     16021                60      21888.0         8233.0   \n",
       "27       25935      5631                32          NaN            NaN   \n",
       "28       87787      1510                10      16895.0        12203.0   \n",
       "29       66683      2431                 9      15685.0        16720.0   \n",
       "...        ...       ...               ...          ...            ...   \n",
       "106414   90513     18635                28          NaN            NaN   \n",
       "106415   45216      9839                61          NaN            NaN   \n",
       "106416   56769       571                60          NaN            NaN   \n",
       "106417   18300      8306                60          NaN            NaN   \n",
       "106418   55287      7108                60      20075.0        11526.0   \n",
       "106419   86885     17829                27       9348.0        16049.0   \n",
       "106420   20259      2640                35          NaN            NaN   \n",
       "106421   44698     13941                11          NaN            NaN   \n",
       "106422   38556     10889                33          NaN            NaN   \n",
       "106423   91730      7982                15          NaN            NaN   \n",
       "106424   63546       539                31       6215.0         2402.0   \n",
       "106425   53855     14270                54      12133.0         1911.0   \n",
       "106426   68878     10334                 7      24667.0        10817.0   \n",
       "106427   23810      3381                16          NaN            NaN   \n",
       "106428   29805     14270                54      11510.0         8950.0   \n",
       "106429   17173      1973                29       6915.0        10796.0   \n",
       "106430   77912     10889                17      24535.0        14924.0   \n",
       "106431   12124      8327                12      18659.0        11703.0   \n",
       "106432   31523      1380                 8       4470.0         4169.0   \n",
       "106433   21728     11177                13          NaN            NaN   \n",
       "106434   93947     17279                 8          NaN            NaN   \n",
       "106435   83271      6792                18      13911.0         3398.0   \n",
       "106436   87317     11907                24      20865.0         1318.0   \n",
       "106437    6523      1791                11      22593.0         5313.0   \n",
       "106438   30855     14353                21       6867.0        13828.0   \n",
       "106439  104384     14898                10       3959.0         8338.0   \n",
       "106440   91514      5356                15      12399.0         8017.0   \n",
       "106441   69742     12148                23      13961.0        14917.0   \n",
       "106442   61540     14708                43          NaN            NaN   \n",
       "106443   89334     15775                32          NaN            NaN   \n",
       "\n",
       "        author_n_feeds  videolength_bucket  videolength_log  \\\n",
       "0                    1                   4         3.663562   \n",
       "1                    6                   7         4.110874   \n",
       "2                   36                   2         2.772589   \n",
       "3                  193                   2         2.944439   \n",
       "4                    2                   2         2.833213   \n",
       "5                  129                   5         3.784190   \n",
       "6                   18                   2         2.772589   \n",
       "7                   14                   3         3.258097   \n",
       "8                    3                   7         4.110874   \n",
       "9                    4                   2         2.708050   \n",
       "10                  11                   6         4.007333   \n",
       "11                   2                   1         2.302585   \n",
       "12                  11                   2         2.772589   \n",
       "13                  14                   7         4.110874   \n",
       "14                  38                   2         2.944439   \n",
       "15                  11                   3         3.044522   \n",
       "16                   9                   4         3.610918   \n",
       "17                   7                   4         3.526361   \n",
       "18                 120                   3         3.295837   \n",
       "19                  14                   3         3.135494   \n",
       "20                   2                   7         4.110874   \n",
       "21                  26                   7         4.110874   \n",
       "22                   6                   7         4.110874   \n",
       "23                  11                   3         3.091042   \n",
       "24                  41                   7         4.110874   \n",
       "25                  45                   2         2.564949   \n",
       "26                   4                   7         4.110874   \n",
       "27                  43                   4         3.496508   \n",
       "28                   4                   2         2.397895   \n",
       "29                  67                   1         2.302585   \n",
       "...                ...                 ...              ...   \n",
       "106414              29                   3         3.367296   \n",
       "106415               7                   7         4.127134   \n",
       "106416              40                   7         4.110874   \n",
       "106417              22                   7         4.110874   \n",
       "106418               1                   7         4.110874   \n",
       "106419               4                   3         3.332205   \n",
       "106420               1                   4         3.583519   \n",
       "106421             149                   2         2.484907   \n",
       "106422             128                   4         3.526361   \n",
       "106423               1                   2         2.772589   \n",
       "106424               1                   4         3.465736   \n",
       "106425               2                   6         4.007333   \n",
       "106426               1                   1         2.079442   \n",
       "106427              11                   2         2.833213   \n",
       "106428               2                   6         4.007333   \n",
       "106429              50                   3         3.401197   \n",
       "106430             128                   2         2.890372   \n",
       "106431              21                   2         2.564949   \n",
       "106432               1                   1         2.197225   \n",
       "106433              23                   2         2.639057   \n",
       "106434              15                   1         2.197225   \n",
       "106435               1                   2         2.944439   \n",
       "106436               3                   3         3.218876   \n",
       "106437              51                   2         2.484907   \n",
       "106438              20                   3         3.091042   \n",
       "106439              68                   2         2.397895   \n",
       "106440              16                   2         2.772589   \n",
       "106441               3                   3         3.178054   \n",
       "106442               7                   5         3.784190   \n",
       "106443               2                   4         3.496508   \n",
       "\n",
       "                              top5_keywords  \\\n",
       "0        [7715, 18541, 15506, 17582, 26334]   \n",
       "1         [4243, 8199, 18322, 24078, 19924]   \n",
       "2                             [6926, 11696]   \n",
       "3                        [3727, 1197, 5454]   \n",
       "4         [17083, 8058, 15621, 4123, 21639]   \n",
       "5                  [529, 26954, 2666, 9298]   \n",
       "6       [12865, 10664, 13433, 19485, 11002]   \n",
       "7                      [11061, 15752, 8800]   \n",
       "8                            [18428, 17892]   \n",
       "9        [4826, 25500, 15506, 17582, 10844]   \n",
       "10         [21476, 999, 24483, 21855, 3230]   \n",
       "11                                   [1762]   \n",
       "12                     [15073, 23854, 3963]   \n",
       "13         [1722, 27089, 6945, 25821, 1216]   \n",
       "14        [15310, 7884, 13940, 20336, 3071]   \n",
       "15       [15070, 6654, 11292, 15338, 24769]   \n",
       "16                                  [14018]   \n",
       "17       [24802, 13615, 4065, 15655, 18120]   \n",
       "18        [4089, 26765, 22832, 18050, 6934]   \n",
       "19               [3436, 3230, 18428, 17892]   \n",
       "20        [5083, 16285, 10109, 25784, 2793]   \n",
       "21       [17343, 26362, 10379, 10821, 5454]   \n",
       "22             [16472, 25056, 15243, 27033]   \n",
       "23          [23749, 235, 5781, 6125, 22225]   \n",
       "24      [18475, 19989, 21519, 18473, 15653]   \n",
       "25       [17366, 10350, 26617, 5077, 17881]   \n",
       "26      [17876, 14505, 15655, 14281, 12025]   \n",
       "27              [14603, 13074, 8696, 23242]   \n",
       "28       [18056, 15310, 20336, 3071, 10049]   \n",
       "29                     [26508, 6758, 13615]   \n",
       "...                                     ...   \n",
       "106414      [18542, 4372, 14126, 529, 9298]   \n",
       "106415                  [21711, 5461, 6415]   \n",
       "106416   [14761, 12410, 11559, 19658, 5949]   \n",
       "106417                [25016, 18473, 19333]   \n",
       "106418            [7715, 26334, 219, 25209]   \n",
       "106419   [27137, 25273, 16723, 9417, 25602]   \n",
       "106420                  [14855, 11424, 208]   \n",
       "106421                   [14, 19199, 18863]   \n",
       "106422                                   []   \n",
       "106423          [6484, 24546, 16609, 20237]   \n",
       "106424                                   []   \n",
       "106425           [11586, 17582, 4123, 7715]   \n",
       "106426                [14328, 10254, 10844]   \n",
       "106427                                   []   \n",
       "106428   [21785, 15506, 17582, 7715, 21639]   \n",
       "106429     [26486, 113, 24435, 11756, 6297]   \n",
       "106430                 [9112, 25839, 24125]   \n",
       "106431                                   []   \n",
       "106432           [19991, 1484, 17582, 1197]   \n",
       "106433    [7977, 18267, 21770, 3160, 18322]   \n",
       "106434                               [5562]   \n",
       "106435                 [15506, 17582, 7715]   \n",
       "106436     [348, 18772, 11157, 26054, 5562]   \n",
       "106437     [4745, 5551, 3601, 15476, 19764]   \n",
       "106438           [15050, 4607, 4249, 16748]   \n",
       "106439                 [10254, 10844, 1197]   \n",
       "106440                                   []   \n",
       "106441                 [18009, 1312, 11411]   \n",
       "106442                 [3212, 17707, 17582]   \n",
       "106443                                   []   \n",
       "\n",
       "                                    top5_keywords_weights  \\\n",
       "0       {'7715': 0.614992440276734, '18541': 0.4566241...   \n",
       "1       {'4243': 0.6558125797696941, '8199': 0.6165417...   \n",
       "2       {'6926': 0.8718180301112212, '11696': 0.489829...   \n",
       "3       {'3727': 0.7021281302631878, '1197': 0.5196877...   \n",
       "4       {'17083': 0.6390918560719752, '8058': 0.461373...   \n",
       "5       {'529': 0.7689211040691577, '26954': 0.4554645...   \n",
       "6       {'12865': 0.5243636997625173, '10664': 0.45933...   \n",
       "7       {'11061': 0.6469539287181666, '15752': 0.57009...   \n",
       "8       {'18428': 0.7238019284139826, '17892': 0.69000...   \n",
       "9       {'4826': 0.5871899375225033, '25500': 0.439361...   \n",
       "10      {'21476': 0.5506848981858213, '999': 0.5327781...   \n",
       "11                                          {'1762': 1.0}   \n",
       "12      {'15073': 0.6377002477483052, '23854': 0.62323...   \n",
       "13      {'1722': 0.6074097075611431, '27089': 0.549760...   \n",
       "14      {'15310': 0.4227428139242971, '7884': 0.391607...   \n",
       "15      {'15070': 0.5459592018660683, '6654': 0.494142...   \n",
       "16                                         {'14018': 1.0}   \n",
       "17      {'24802': 0.5892960624371922, '13615': 0.51163...   \n",
       "18      {'4089': 0.6294006705503452, '26765': 0.405157...   \n",
       "19      {'3436': 0.5443670111928047, '3230': 0.5059316...   \n",
       "20      {'5083': 0.5086940514403694, '16285': 0.412134...   \n",
       "21      {'17343': 0.7834071534324794, '26362': 0.38004...   \n",
       "22      {'16472': 0.575987272210437, '25056': 0.520429...   \n",
       "23      {'23749': 0.7317273607547292, '235': 0.3904871...   \n",
       "24      {'18475': 0.5236521747215218, '19989': 0.49252...   \n",
       "25      {'17366': 0.6332270136159205, '10350': 0.46322...   \n",
       "26      {'17876': 0.4245554711079738, '14505': 0.39913...   \n",
       "27      {'14603': 0.6973620115844829, '13074': 0.46192...   \n",
       "28      {'18056': 0.46688675208604363, '15310': 0.4443...   \n",
       "29      {'26508': 0.6162183857092166, '6758': 0.601505...   \n",
       "...                                                   ...   \n",
       "106414  {'18542': 0.6049059809073039, '4372': 0.568683...   \n",
       "106415  {'21711': 0.6134748029658604, '5461': 0.578407...   \n",
       "106416  {'14761': 0.5631945740542968, '12410': 0.53637...   \n",
       "106417  {'25016': 0.7691398213137051, '18473': 0.45385...   \n",
       "106418  {'7715': 0.5777611487347678, '26334': 0.543602...   \n",
       "106419  {'27137': 0.6596399217966805, '25273': 0.45135...   \n",
       "106420  {'14855': 0.8592399752217906, '11424': 0.46484...   \n",
       "106421  {'14': 0.6924853738433843, '19199': 0.69248537...   \n",
       "106422                                                 {}   \n",
       "106423  {'6484': 0.5764297552513126, '24546': 0.528694...   \n",
       "106424                                                 {}   \n",
       "106425  {'11586': 0.7738341646336814, '17582': 0.36684...   \n",
       "106426  {'14328': 0.6872695533059644, '10254': 0.54325...   \n",
       "106427                                                 {}   \n",
       "106428  {'21785': 0.6526641874774896, '15506': 0.35186...   \n",
       "106429  {'26486': 0.5299960384379633, '113': 0.5087265...   \n",
       "106430  {'9112': 0.6100682107745913, '25839': 0.604947...   \n",
       "106431                                                 {}   \n",
       "106432  {'19991': 0.7640372711468165, '1484': 0.422997...   \n",
       "106433  {'7977': 0.544943301224331, '18267': 0.4333379...   \n",
       "106434                                      {'5562': 1.0}   \n",
       "106435  {'15506': 0.6350039335784028, '17582': 0.54816...   \n",
       "106436  {'348': 0.4169087581170464, '18772': 0.3893363...   \n",
       "106437  {'4745': 0.48932085534466957, '5551': 0.435964...   \n",
       "106438  {'15050': 0.6225186619372242, '4607': 0.529970...   \n",
       "106439  {'10254': 0.6241828501236824, '10844': 0.55404...   \n",
       "106440                                                 {}   \n",
       "106441  {'18009': 0.7018648283582362, '1312': 0.619798...   \n",
       "106442  {'3212': 0.6818467480119231, '17707': 0.619837...   \n",
       "106443                                                 {}   \n",
       "\n",
       "                                   tag_list  \\\n",
       "0                         [81, 269, 159, 6]   \n",
       "1                        [194, 267, 159, 6]   \n",
       "2                         [202, 23, 160, 6]   \n",
       "3                         [328, 13, 159, 6]   \n",
       "4                         [81, 269, 159, 6]   \n",
       "5                       [45, 239, 169, 159]   \n",
       "6                          [246, 237, 9, 6]   \n",
       "7                            [37, 17, 9, 6]   \n",
       "8                                    [9, 6]   \n",
       "9                         [81, 269, 159, 6]   \n",
       "10                 [340, 235, 169, 10, 159]   \n",
       "11              [178, 205, 269, 160, 23, 6]   \n",
       "12                     [204, 10, 9, 235, 6]   \n",
       "13                         [61, 14, 159, 6]   \n",
       "14                       [246, 237, 219, 6]   \n",
       "15                        [81, 269, 159, 6]   \n",
       "16                                 [219, 6]   \n",
       "17                       [291, 234, 159, 6]   \n",
       "18                     [170, 239, 169, 159]   \n",
       "19                                   [9, 6]   \n",
       "20                     [32, 17, 10, 159, 6]   \n",
       "21                   [328, 13, 212, 159, 6]   \n",
       "22                       [272, 237, 219, 6]   \n",
       "23                       [340, 235, 159, 6]   \n",
       "24                  [194, 267, 212, 159, 6]   \n",
       "25                        [332, 16, 159, 6]   \n",
       "26              [89, 246, 268, 237, 159, 6]   \n",
       "27                    [43, 237, 219, 10, 6]   \n",
       "28                        [39, 266, 159, 6]   \n",
       "29                         [291, 234, 9, 6]   \n",
       "...                                     ...   \n",
       "106414                  [46, 239, 169, 159]   \n",
       "106415              [190, 264, 187, 159, 6]   \n",
       "106416                    [203, 14, 159, 6]   \n",
       "106417              [194, 267, 212, 159, 6]   \n",
       "106418                    [81, 269, 160, 6]   \n",
       "106419                   [246, 237, 159, 6]   \n",
       "106420                    [333, 16, 159, 6]   \n",
       "106421                 [170, 239, 169, 159]   \n",
       "106422                    [328, 13, 160, 6]   \n",
       "106423                    [69, 241, 160, 6]   \n",
       "106424                    [202, 160, 23, 6]   \n",
       "106425                    [81, 269, 159, 6]   \n",
       "106426               [157, 202, 160, 23, 6]   \n",
       "106427           [68, 241, 160, 332, 16, 6]   \n",
       "106428                [269, 82, 81, 159, 6]   \n",
       "106429           [322, 41, 266, 13, 159, 6]   \n",
       "106430                   [192, 267, 159, 6]   \n",
       "106431                      [80, 264, 9, 6]   \n",
       "106432                    [82, 269, 159, 6]   \n",
       "106433                   [192, 267, 159, 6]   \n",
       "106434               [342, 237, 10, 159, 6]   \n",
       "106435                    [81, 269, 159, 6]   \n",
       "106436                   [342, 237, 159, 6]   \n",
       "106437  [207, 170, 191, 239, 169, 267, 159]   \n",
       "106438              [198, 267, 191, 159, 6]   \n",
       "106439           [24, 271, 202, 23, 159, 6]   \n",
       "106440                       [61, 14, 9, 6]   \n",
       "106441                   [179, 262, 159, 6]   \n",
       "106442                [269, 96, 82, 159, 6]   \n",
       "106443           [28, 271, 202, 160, 23, 6]   \n",
       "\n",
       "                                              tag_weights  \\\n",
       "0       {'81': 0.7541818423569444, '269': 0.6557321638...   \n",
       "1       {'194': 0.9115099703843318, '267': 0.409440061...   \n",
       "2       {'202': 0.7338004271707812, '23': 0.6000257252...   \n",
       "3       {'328': 0.746101554312214, '13': 0.65971641287...   \n",
       "4       {'81': 0.7541818423569444, '269': 0.6557321638...   \n",
       "5       {'45': 0.8509458580098415, '239': 0.4728908281...   \n",
       "6       {'246': 0.7746825437492408, '237': 0.470565982...   \n",
       "7       {'37': 0.6725386307097304, '17': 0.58070454840...   \n",
       "8       {'9': 0.9989755474927385, '6': 0.0452532375812...   \n",
       "9       {'81': 0.7541818423569444, '269': 0.6557321638...   \n",
       "10      {'340': 0.7595018151711732, '235': 0.513163274...   \n",
       "11      {'178': 0.7168936200993332, '205': 0.455189436...   \n",
       "12      {'204': 0.6085882206874595, '10': 0.4746759786...   \n",
       "13      {'61': 0.7731276533465554, '14': 0.63343155848...   \n",
       "14      {'246': 0.7659458562372763, '237': 0.465259050...   \n",
       "15      {'81': 0.7541818423569444, '269': 0.6557321638...   \n",
       "16      {'219': 0.9990923162443022, '6': 0.04259746027...   \n",
       "17      {'291': 0.7645092742184847, '234': 0.643753575...   \n",
       "18      {'170': 0.7211713650723001, '239': 0.623695701...   \n",
       "19      {'9': 0.9989755474927385, '6': 0.0452532375812...   \n",
       "20      {'32': 0.8558653616750015, '17': 0.47801333032...   \n",
       "21      {'328': 0.7059784342971128, '13': 0.6242388285...   \n",
       "22      {'272': 0.8457186435423499, '237': 0.386177924...   \n",
       "23      {'340': 0.8251193781187215, '235': 0.557498287...   \n",
       "24      {'194': 0.8724566419124917, '267': 0.391897743...   \n",
       "25      {'332': 0.7403871802891464, '16': 0.6702458975...   \n",
       "26      {'89': 0.659952295316923, '246': 0.50708273980...   \n",
       "27      {'43': 0.850610388385528, '237': 0.31586986490...   \n",
       "28      {'39': 0.8357764858629047, '266': 0.5482492592...   \n",
       "29      {'291': 0.7044266754731259, '234': 0.593161137...   \n",
       "...                                                   ...   \n",
       "106414  {'46': 0.908751172121474, '239': 0.37573384283...   \n",
       "106415  {'190': 0.6588000864552573, '264': 0.613805788...   \n",
       "106416  {'203': 0.7926971016025814, '14': 0.6064855340...   \n",
       "106417  {'194': 0.8724566419124917, '267': 0.391897743...   \n",
       "106418  {'81': 0.7264618067737593, '269': 0.6316306568...   \n",
       "106419  {'246': 0.8523913851190559, '237': 0.517768721...   \n",
       "106420  {'333': 0.9203948290095502, '16': 0.3898648339...   \n",
       "106421  {'170': 0.6392452375382845, '239': 0.552842952...   \n",
       "106422  {'328': 0.704189391071019, '13': 0.62265692434...   \n",
       "106423  {'69': 0.7494961186292551, '241': 0.5202309440...   \n",
       "106424  {'202': 0.6424700562765455, '160': 0.557534809...   \n",
       "106425  {'81': 0.7527997534858163, '269': 0.6545304906...   \n",
       "106426  {'157': 0.7359004043303234, '202': 0.435009920...   \n",
       "106427  {'68': 0.6228402759865189, '241': 0.4907523059...   \n",
       "106428  {'269': 0.7481375835485737, '82': 0.5035844571...   \n",
       "106429  {'322': 0.6011999350826526, '41': 0.5735414937...   \n",
       "106430  {'192': 0.8880871396112547, '267': 0.457620946...   \n",
       "106431  {'80': 0.7068020753392384, '264': 0.5964411048...   \n",
       "106432  {'82': 0.8023547118206074, '269': 0.5959990491...   \n",
       "106433  {'192': 0.8880871396112547, '267': 0.457620946...   \n",
       "106434  {'342': 0.9183635945969486, '237': 0.358232946...   \n",
       "106435  {'81': 0.7541818423569444, '269': 0.6557321638...   \n",
       "106436  {'342': 0.9313236705093118, '237': 0.363288379...   \n",
       "106437  {'207': 0.46130497511294427, '170': 0.45696250...   \n",
       "106438  {'198': 0.6833954943542202, '267': 0.585041082...   \n",
       "106439  {'24': 0.6937153399242091, '271': 0.4987847573...   \n",
       "106440  {'61': 0.7157350593110133, '14': 0.58640920696...   \n",
       "106441  {'179': 0.7763660918597458, '262': 0.629620694...   \n",
       "106442  {'269': 0.6752259124796327, '96': 0.5798232101...   \n",
       "106443  {'28': 0.6829536401514561, '271': 0.4561313926...   \n",
       "\n",
       "                                           feed_embedding  \n",
       "0       [-0.00509984, -0.0590496, -0.01864357, -0.0142...  \n",
       "1       [0.02817863, -0.02137377, 0.06678647, 0.014733...  \n",
       "2       [-0.01880374, 0.03276707, 0.09490133, 0.031316...  \n",
       "3       [-0.05007412, -0.11540501, 0.04330789, -0.0187...  \n",
       "4       [0.05636294, 0.01753669, 0.01241871, 0.0152164...  \n",
       "5       [0.07747091, 0.02647814, 0.0786632, -0.0200964...  \n",
       "6       [-0.01297182, -0.01348432, 0.05005981, 0.00076...  \n",
       "7       [-0.0552958, -0.04448033, 0.02940514, 0.081417...  \n",
       "8       [-0.01446141, -0.00452141, 0.0790388, 0.013322...  \n",
       "9       [-0.02395611, -0.01667979, 0.09536444, 0.00409...  \n",
       "10      [-0.0587603, -0.02358876, 0.05280381, 0.020032...  \n",
       "11      [0.02145624, 0.04112016, 0.0842841, -0.0122663...  \n",
       "12      [-0.02576973, -0.02830306, 0.0167805, -0.01798...  \n",
       "13      [0.02220513, -0.06818736, 0.09101705, 0.012849...  \n",
       "14      [-0.027364, -0.03202737, 0.06013794, 0.0371439...  \n",
       "15      [-0.0251752, 0.05283042, 0.0903274, 0.02380658...  \n",
       "16      [-0.0356744, 0.02923629, 0.02761661, -0.029520...  \n",
       "17      [-0.01984779, -0.06226546, 0.0524077, 0.066094...  \n",
       "18      [0.00482021, 0.0120407, -0.01045148, -0.053889...  \n",
       "19      [-0.02015807, 0.06975326, 0.11600198, 0.058744...  \n",
       "20      [-0.04316035, 0.07144021, 0.1454363, -0.056409...  \n",
       "21      [0.02500373, 0.01447352, 0.07127713, 0.0136165...  \n",
       "22      [0.03830788, -0.04379745, 0.05699548, 0.037793...  \n",
       "23      [-0.03243921, -0.01309207, 0.13506399, -0.0166...  \n",
       "24      [-0.0662453, -0.0315974, 0.06154117, 0.0149325...  \n",
       "25      [-0.05779409, -0.00177992, 0.05889781, 0.01824...  \n",
       "26      [-0.01433878, 0.04549439, 0.13795164, -0.04338...  \n",
       "27      [0.03950502, 0.03091337, -0.00941543, 0.011730...  \n",
       "28      [0.0431443, -0.0346234, 0.00307553, 0.00513335...  \n",
       "29      [0.06365966, -0.08227828, 0.02357581, 0.021905...  \n",
       "...                                                   ...  \n",
       "106414  [-0.03892908, -0.02037035, 0.01229151, 0.03351...  \n",
       "106415  [0.03186298, -0.02604579, 0.04413722, 0.053885...  \n",
       "106416  [0.04548506, -0.01967249, 0.1014293, 0.0156311...  \n",
       "106417  [-0.05967703, 0.02808446, 0.03217231, -0.00236...  \n",
       "106418  [-0.06391368, -0.05852186, 0.01461679, 0.02017...  \n",
       "106419  [0.01973216, -0.03278743, 0.06706285, 0.020617...  \n",
       "106420  [-0.01284783, -0.02181722, 0.09385552, 0.02591...  \n",
       "106421  [0.02602487, -0.02700067, 0.09474729, -0.03612...  \n",
       "106422  [0.04893262, 0.03707115, 0.06935141, -0.006092...  \n",
       "106423  [-0.1059953, -0.05622348, 0.04795159, 0.030409...  \n",
       "106424  [-0.09239395, 0.00898, 0.02895754, -0.06556854...  \n",
       "106425  [-0.06253602, 0.01644758, 0.02445031, 0.017522...  \n",
       "106426  [-0.0586329, -0.08100722, 0.07391258, -0.05769...  \n",
       "106427  [-0.05275259, -0.05914531, 0.04524783, 0.08509...  \n",
       "106428  [-0.01955819, 0.03403154, 0.02118728, -0.01804...  \n",
       "106429  [-0.0458087, 0.05818289, 0.06412343, -0.013920...  \n",
       "106430  [0.00742496, -0.00337, 0.10657179, 0.00035377,...  \n",
       "106431  [-0.0539072, -0.05202693, 0.05227587, -0.00637...  \n",
       "106432  [0.03325411, 0.04555308, 0.01452211, -0.026979...  \n",
       "106433  [-0.02346523, -0.00686419, 0.14517266, -0.0212...  \n",
       "106434  [-0.01341304, 0.01200104, 0.0390487, 0.0193874...  \n",
       "106435  [-0.02572051, -0.06677152, 0.05561295, 0.02120...  \n",
       "106436  [0.04407151, -0.01925021, 0.05023227, 0.071989...  \n",
       "106437  [-0.06849058, 0.06990878, 0.05221306, -0.00431...  \n",
       "106438  [-0.04163475, -0.04864525, 0.05778953, -0.0020...  \n",
       "106439  [0.03622869, 0.04858947, 0.06425355, 0.0580821...  \n",
       "106440  [-0.04231586, -0.01909175, 0.13438827, -0.0366...  \n",
       "106441  [-0.07966839, -0.12719658, -0.03161635, -0.019...  \n",
       "106442  [-0.05995588, -0.02984357, -0.00039262, -0.040...  \n",
       "106443  [-0.03350726, 0.01988418, 0.0429678, 0.0230675...  \n",
       "\n",
       "[106444 rows x 13 columns]"
      ]
     },
     "execution_count": 74,
     "metadata": {},
     "output_type": "execute_result"
    }
   ],
   "source": [
    "feed_info_df"
   ]
  },
  {
   "cell_type": "code",
   "execution_count": 75,
   "metadata": {
    "colab": {
     "base_uri": "https://localhost:8080/"
    },
    "executionInfo": {
     "elapsed": 345,
     "status": "ok",
     "timestamp": 1622177812028,
     "user": {
      "displayName": "Qing Li",
      "photoUrl": "",
      "userId": "14621704085933727451"
     },
     "user_tz": -480
    },
    "id": "zBu7HK8OUbYb",
    "outputId": "4b8c1f4a-a21c-473b-b9bb-16ce66699c84"
   },
   "outputs": [
    {
     "ename": "NameError",
     "evalue": "name 'a' is not defined",
     "output_type": "error",
     "traceback": [
      "\u001b[1;31m---------------------------------------------------------------------------\u001b[0m",
      "\u001b[1;31mNameError\u001b[0m                                 Traceback (most recent call last)",
      "\u001b[1;32m<ipython-input-75-393d3db239ee>\u001b[0m in \u001b[0;36m<module>\u001b[1;34m()\u001b[0m\n\u001b[1;32m----> 1\u001b[1;33m \u001b[0ma\u001b[0m\u001b[1;33m.\u001b[0m\u001b[0msum\u001b[0m\u001b[1;33m(\u001b[0m\u001b[1;33m)\u001b[0m\u001b[1;33m\u001b[0m\u001b[0m\n\u001b[0m",
      "\u001b[1;31mNameError\u001b[0m: name 'a' is not defined"
     ]
    }
   ],
   "source": [
    "a.sum()"
   ]
  },
  {
   "cell_type": "code",
   "execution_count": null,
   "metadata": {
    "colab": {
     "base_uri": "https://localhost:8080/"
    },
    "executionInfo": {
     "elapsed": 275,
     "status": "ok",
     "timestamp": 1622178012237,
     "user": {
      "displayName": "Qing Li",
      "photoUrl": "",
      "userId": "14621704085933727451"
     },
     "user_tz": -480
    },
    "id": "YINIrZAaVQty",
    "outputId": "d1458c21-59e4-464e-80cd-d29ebb0ad0f7"
   },
   "outputs": [],
   "source": [
    "user_action_df[\"date_\"].max()"
   ]
  },
  {
   "cell_type": "code",
   "execution_count": null,
   "metadata": {
    "id": "9yUAn9NJV-N2"
   },
   "outputs": [],
   "source": [
    "test_df = pd.read_csv('./wechat_algo_data1/test_a.csv')"
   ]
  },
  {
   "cell_type": "code",
   "execution_count": null,
   "metadata": {
    "colab": {
     "base_uri": "https://localhost:8080/"
    },
    "executionInfo": {
     "elapsed": 5,
     "status": "ok",
     "timestamp": 1623682882834,
     "user": {
      "displayName": "Qing Li",
      "photoUrl": "",
      "userId": "14621704085933727451"
     },
     "user_tz": -480
    },
    "id": "pTgG3MezCn63",
    "outputId": "903d204a-2a2b-45de-ac50-9e7ce9459b28"
   },
   "outputs": [],
   "source": [
    "test_df.shape"
   ]
  },
  {
   "cell_type": "code",
   "execution_count": null,
   "metadata": {
    "colab": {
     "base_uri": "https://localhost:8080/"
    },
    "executionInfo": {
     "elapsed": 1072,
     "status": "ok",
     "timestamp": 1623685577838,
     "user": {
      "displayName": "Qing Li",
      "photoUrl": "",
      "userId": "14621704085933727451"
     },
     "user_tz": -480
    },
    "id": "JUiCiYXICprp",
    "outputId": "290d3b9e-e663-47fa-89e5-d43c11bd23f1"
   },
   "outputs": [],
   "source": [
    "user_action_df['follow'].value_counts()"
   ]
  },
  {
   "cell_type": "code",
   "execution_count": null,
   "metadata": {
    "colab": {
     "base_uri": "https://localhost:8080/",
     "height": 417
    },
    "executionInfo": {
     "elapsed": 339,
     "status": "ok",
     "timestamp": 1623686001656,
     "user": {
      "displayName": "Qing Li",
      "photoUrl": "",
      "userId": "14621704085933727451"
     },
     "user_tz": -480
    },
    "id": "Q5-opf9sFl46",
    "outputId": "489ab649-f901-46e5-ed0a-fc517ca78a7a"
   },
   "outputs": [],
   "source": [
    "user_action_df[user_action_df['follow'] == 1]"
   ]
  },
  {
   "cell_type": "code",
   "execution_count": null,
   "metadata": {
    "id": "K92RjI1zNxCs"
   },
   "outputs": [],
   "source": [
    "actions = ['read_comment', 'like', 'click_avatar', 'forward', 'comment', 'favorite', 'follow']"
   ]
  },
  {
   "cell_type": "code",
   "execution_count": null,
   "metadata": {
    "colab": {
     "base_uri": "https://localhost:8080/"
    },
    "executionInfo": {
     "elapsed": 1574,
     "status": "ok",
     "timestamp": 1623686227516,
     "user": {
      "displayName": "Qing Li",
      "photoUrl": "",
      "userId": "14621704085933727451"
     },
     "user_tz": -480
    },
    "id": "KorSSERtNWWq",
    "outputId": "d8ca200e-4eda-47a6-ced7-1fa342388571"
   },
   "outputs": [],
   "source": [
    "action_nums = {}\n",
    "for action in actions:\n",
    "  action_nums[action] = user_action_df[action].sum()\n",
    "  print(\"while %s is decided:\"%action)\n",
    "  for other_action in actions:\n",
    "    if other_action == action:\n",
    "      continue\n",
    "    else:\n",
    "      print(\"%s rate is %f\"%(other_action,user_action_df[user_action_df[action] == 1][other_action].sum() / action_nums[action]))\n",
    "  print(\"--------------------------------------------------------------------\")"
   ]
  },
  {
   "cell_type": "code",
   "execution_count": null,
   "metadata": {
    "id": "RQPDOobtPKOk"
   },
   "outputs": [],
   "source": []
  }
 ],
 "metadata": {
  "colab": {
   "authorship_tag": "ABX9TyMwPPqcrsajAB+H2Pa51nA6",
   "collapsed_sections": [],
   "mount_file_id": "1q0P4MSHIW1Xdhy9WBrmiNco7OCJQSnHk",
   "name": "Datapreprocessing1.ipynb",
   "provenance": []
  },
  "kernelspec": {
   "display_name": "Python 3",
   "language": "python",
   "name": "python3"
  },
  "language_info": {
   "codemirror_mode": {
    "name": "ipython",
    "version": 3
   },
   "file_extension": ".py",
   "mimetype": "text/x-python",
   "name": "python",
   "nbconvert_exporter": "python",
   "pygments_lexer": "ipython3",
   "version": "3.6.5"
  }
 },
 "nbformat": 4,
 "nbformat_minor": 1
}
