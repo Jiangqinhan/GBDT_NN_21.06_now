{
 "cells": [
  {
   "cell_type": "code",
   "execution_count": 30,
   "metadata": {
    "id": "Gd5GcqEhZKtn"
   },
   "outputs": [],
   "source": [
    "import pandas as pd\n",
    "import numpy as np\n",
    "from ast import literal_eval\n",
    "import os\n",
    "from scipy.spatial import distance"
   ]
  },
  {
   "cell_type": "code",
   "execution_count": 31,
   "metadata": {
    "id": "hgVt8o_kZTLB"
   },
   "outputs": [],
   "source": [
    "user_action_path = \"./wechat_algo_data1/user_action.csv\"\n",
    "feed_info_modified_path = \"./feed_info_modified1.csv\"\n",
    "test_data_path = \"./wechat_algo_data1/test_a.csv\"\n",
    "feed_info_path = \"./wechat_algo_data1/feed_info.csv\"\n",
    "feed_embedding_path = \"./wechat_algo_data1/feed_embeddings.csv\""
   ]
  },
  {
   "cell_type": "code",
   "execution_count": 32,
   "metadata": {
    "id": "4a_IOl2dZU2j"
   },
   "outputs": [],
   "source": [
    "feed_info_modified_df = pd.read_csv(feed_info_modified_path)\n",
    "feed_info_df = pd.read_csv(feed_info_path)\n",
    "feed_embedding_df = pd.read_csv(feed_embedding_path)"
   ]
  },
  {
   "cell_type": "code",
   "execution_count": 33,
   "metadata": {
    "colab": {
     "base_uri": "https://localhost:8080/"
    },
    "executionInfo": {
     "elapsed": 28,
     "status": "ok",
     "timestamp": 1624597148556,
     "user": {
      "displayName": "Qing Li",
      "photoUrl": "",
      "userId": "14621704085933727451"
     },
     "user_tz": -480
    },
    "id": "hsGVRwkiZ2nq",
    "outputId": "36b72b06-d4f7-4a0b-884d-10677374fb22"
   },
   "outputs": [
    {
     "data": {
      "text/plain": [
       "Index(['feedid', 'authorid', 'videoplayseconds', 'bgm_song_id',\n",
       "       'bgm_singer_id', 'author_n_feeds', 'videolength_bucket',\n",
       "       'videolength_log', 'top5_keywords', 'top5_keywords_weights', 'tag_list',\n",
       "       'tag_weights', 'feed_embedding'],\n",
       "      dtype='object')"
      ]
     },
     "execution_count": 33,
     "metadata": {},
     "output_type": "execute_result"
    }
   ],
   "source": [
    "feed_info_modified_df.columns"
   ]
  },
  {
   "cell_type": "code",
   "execution_count": 34,
   "metadata": {
    "colab": {
     "base_uri": "https://localhost:8080/"
    },
    "executionInfo": {
     "elapsed": 23,
     "status": "ok",
     "timestamp": 1624597148556,
     "user": {
      "displayName": "Qing Li",
      "photoUrl": "",
      "userId": "14621704085933727451"
     },
     "user_tz": -480
    },
    "id": "30HZ3X5gZ69Z",
    "outputId": "f574c3b5-acf6-4656-a25d-3e5f11bb12af"
   },
   "outputs": [
    {
     "data": {
      "text/plain": [
       "Index(['feedid', 'authorid', 'videoplayseconds', 'description', 'ocr', 'asr',\n",
       "       'bgm_song_id', 'bgm_singer_id', 'manual_keyword_list',\n",
       "       'machine_keyword_list', 'manual_tag_list', 'machine_tag_list',\n",
       "       'description_char', 'ocr_char', 'asr_char'],\n",
       "      dtype='object')"
      ]
     },
     "execution_count": 34,
     "metadata": {},
     "output_type": "execute_result"
    }
   ],
   "source": [
    "feed_info_df.columns"
   ]
  },
  {
   "cell_type": "code",
   "execution_count": 35,
   "metadata": {
    "colab": {
     "base_uri": "https://localhost:8080/",
     "height": 475
    },
    "executionInfo": {
     "elapsed": 22,
     "status": "ok",
     "timestamp": 1624597148557,
     "user": {
      "displayName": "Qing Li",
      "photoUrl": "",
      "userId": "14621704085933727451"
     },
     "user_tz": -480
    },
    "id": "b8QQ0UF1Z78T",
    "outputId": "dae784e1-b20e-480b-c4bf-f231b82d04f9"
   },
   "outputs": [
    {
     "data": {
      "text/html": [
       "<div>\n",
       "<style scoped>\n",
       "    .dataframe tbody tr th:only-of-type {\n",
       "        vertical-align: middle;\n",
       "    }\n",
       "\n",
       "    .dataframe tbody tr th {\n",
       "        vertical-align: top;\n",
       "    }\n",
       "\n",
       "    .dataframe thead th {\n",
       "        text-align: right;\n",
       "    }\n",
       "</style>\n",
       "<table border=\"1\" class=\"dataframe\">\n",
       "  <thead>\n",
       "    <tr style=\"text-align: right;\">\n",
       "      <th></th>\n",
       "      <th>feedid</th>\n",
       "      <th>feed_embedding</th>\n",
       "    </tr>\n",
       "  </thead>\n",
       "  <tbody>\n",
       "    <tr>\n",
       "      <th>0</th>\n",
       "      <td>46022</td>\n",
       "      <td>-0.02032269 0.06095614 0.11057708 0.03385210 0...</td>\n",
       "    </tr>\n",
       "    <tr>\n",
       "      <th>1</th>\n",
       "      <td>73903</td>\n",
       "      <td>-0.07594238 0.01796364 -0.00135112 -0.00333468...</td>\n",
       "    </tr>\n",
       "    <tr>\n",
       "      <th>2</th>\n",
       "      <td>88646</td>\n",
       "      <td>-0.05067272 -0.08208735 -0.01929738 -0.0150182...</td>\n",
       "    </tr>\n",
       "    <tr>\n",
       "      <th>3</th>\n",
       "      <td>24381</td>\n",
       "      <td>-0.06976026 0.00218324 0.04416835 0.06146711 -...</td>\n",
       "    </tr>\n",
       "    <tr>\n",
       "      <th>4</th>\n",
       "      <td>41542</td>\n",
       "      <td>-0.04981736 -0.03523079 0.03022859 0.06672543 ...</td>\n",
       "    </tr>\n",
       "  </tbody>\n",
       "</table>\n",
       "</div>"
      ],
      "text/plain": [
       "   feedid                                     feed_embedding\n",
       "0   46022  -0.02032269 0.06095614 0.11057708 0.03385210 0...\n",
       "1   73903  -0.07594238 0.01796364 -0.00135112 -0.00333468...\n",
       "2   88646  -0.05067272 -0.08208735 -0.01929738 -0.0150182...\n",
       "3   24381  -0.06976026 0.00218324 0.04416835 0.06146711 -...\n",
       "4   41542  -0.04981736 -0.03523079 0.03022859 0.06672543 ..."
      ]
     },
     "execution_count": 35,
     "metadata": {},
     "output_type": "execute_result"
    }
   ],
   "source": [
    "feed_embedding_df.head()"
   ]
  },
  {
   "cell_type": "code",
   "execution_count": 7,
   "metadata": {
    "colab": {
     "base_uri": "https://localhost:8080/"
    },
    "executionInfo": {
     "elapsed": 24,
     "status": "ok",
     "timestamp": 1624597148560,
     "user": {
      "displayName": "Qing Li",
      "photoUrl": "",
      "userId": "14621704085933727451"
     },
     "user_tz": -480
    },
    "id": "dvA_6BTIaJfR",
    "outputId": "14bdb14a-b85a-44c0-80d2-015ef86d4f51"
   },
   "outputs": [
    {
     "data": {
      "text/plain": [
       "(106444, 13)"
      ]
     },
     "execution_count": 7,
     "metadata": {},
     "output_type": "execute_result"
    }
   ],
   "source": [
    "feed_info_modified_df.shape"
   ]
  },
  {
   "cell_type": "code",
   "execution_count": 36,
   "metadata": {},
   "outputs": [
    {
     "name": "stdout",
     "output_type": "stream",
     "text": [
      "Index(['feedid', 'authorid', 'videoplayseconds', 'bgm_song_id',\n",
      "       'bgm_singer_id', 'author_n_feeds', 'videolength_bucket',\n",
      "       'videolength_log', 'top5_keywords', 'top5_keywords_weights', 'tag_list',\n",
      "       'tag_weights', 'feed_embedding'],\n",
      "      dtype='object')\n"
     ]
    }
   ],
   "source": [
    "print(feed_info_modified_df.columns)"
   ]
  },
  {
   "cell_type": "code",
   "execution_count": 37,
   "metadata": {
    "colab": {
     "base_uri": "https://localhost:8080/"
    },
    "executionInfo": {
     "elapsed": 23,
     "status": "ok",
     "timestamp": 1624597148561,
     "user": {
      "displayName": "Qing Li",
      "photoUrl": "",
      "userId": "14621704085933727451"
     },
     "user_tz": -480
    },
    "id": "8EJJEgkddrOX",
    "outputId": "1adcc5c1-06fe-4ccb-8c8d-a15c4aa0f768"
   },
   "outputs": [
    {
     "data": {
      "text/plain": [
       "(106444, 15)"
      ]
     },
     "execution_count": 37,
     "metadata": {},
     "output_type": "execute_result"
    }
   ],
   "source": [
    "feed_info_df.shape"
   ]
  },
  {
   "cell_type": "code",
   "execution_count": 38,
   "metadata": {
    "colab": {
     "base_uri": "https://localhost:8080/"
    },
    "executionInfo": {
     "elapsed": 21,
     "status": "ok",
     "timestamp": 1624597148562,
     "user": {
      "displayName": "Qing Li",
      "photoUrl": "",
      "userId": "14621704085933727451"
     },
     "user_tz": -480
    },
    "id": "GlHyWgIEds7q",
    "outputId": "14a6afa3-190c-4878-b5f6-d312c907470d"
   },
   "outputs": [
    {
     "data": {
      "text/plain": [
       "(106444, 2)"
      ]
     },
     "execution_count": 38,
     "metadata": {},
     "output_type": "execute_result"
    }
   ],
   "source": [
    "feed_embedding_df.shape"
   ]
  },
  {
   "cell_type": "code",
   "execution_count": 39,
   "metadata": {
    "id": "3tmx-dPrdvzN"
   },
   "outputs": [],
   "source": [
    "feed_info_modified_df.drop(columns=['top5_keywords', 'tag_list', 'top5_keywords_weights', 'tag_weights'], inplace=True)"
   ]
  },
  {
   "cell_type": "code",
   "execution_count": 40,
   "metadata": {
    "id": "g0249-HtfnAQ"
   },
   "outputs": [],
   "source": [
    "feed_info_modified_df[['machine_tag_list', 'manual_tag_list', 'machine_keyword_list', 'manual_keyword_list']] = feed_info_df[['machine_tag_list', 'manual_tag_list', 'machine_keyword_list', 'manual_keyword_list']]"
   ]
  },
  {
   "cell_type": "code",
   "execution_count": 41,
   "metadata": {
    "id": "C3-cRAmisYSI"
   },
   "outputs": [],
   "source": [
    "# 关于标签，用户打的标签和机器打的标签是不一样的\n",
    "# 机器打的标签有置信度的信息，可以只将置信度足够高的进行处理，而对于置信度太低的则不处理\n",
    "# 只将置信度高于 0.5 的作为新增的标签，而置信度低于 0.5 的直接舍弃掉\n",
    "def get_machine_tag_list(feed_info):\n",
    "  original_tags = feed_info['machine_tag_list'].values\n",
    "  topn_machine_tags = []\n",
    "  for i in range(len(original_tags)):\n",
    "    if(type(original_tags[i]) == str):\n",
    "      tags = []\n",
    "      tag_with_weights = original_tags[i].split(';')\n",
    "      for tag_weight in tag_with_weights:\n",
    "        tag = tag_weight.split(' ')[0]\n",
    "        weight = float(tag_weight.split(' ')[1])\n",
    "        if weight >= 0.5:\n",
    "          tags.append(tag)\n",
    "      topn_machine_tags.append(tags)\n",
    "    else:\n",
    "      topn_machine_tags.append([])\n",
    "  return topn_machine_tags"
   ]
  },
  {
   "cell_type": "code",
   "execution_count": 42,
   "metadata": {
    "id": "K6pamGwqsZuw"
   },
   "outputs": [],
   "source": [
    "valid_machine_tags = get_machine_tag_list(feed_info_modified_df)\n",
    "feed_info_modified_df['machine_tag_list'] = valid_machine_tags\n",
    "#print(feed_info_modifeed_df.columns)"
   ]
  },
  {
   "cell_type": "code",
   "execution_count": 43,
   "metadata": {
    "id": "bbSANKP-fqAJ"
   },
   "outputs": [],
   "source": [
    "feed_info_modified_df['manual_tag_list'] = feed_info_modified_df['manual_tag_list'].apply(lambda x: x.split(';') if type(x) == str else [])\n",
    "feed_info_modified_df['machine_keyword_list'] = feed_info_modified_df['machine_keyword_list'].apply(lambda x: x.split(';') if type(x) == str else [])\n",
    "feed_info_modified_df['manual_keyword_list'] = feed_info_modified_df['manual_keyword_list'].apply(lambda x: x.split(';') if type(x) == str else [])"
   ]
  },
  {
   "cell_type": "code",
   "execution_count": 44,
   "metadata": {
    "id": "LXmfNyV5sFqN"
   },
   "outputs": [],
   "source": [
    "feed_info_modified_df['tag_list'] = feed_info_modified_df['manual_tag_list'] + feed_info_modified_df['machine_tag_list']\n",
    "feed_info_modified_df['keyword_list'] = feed_info_modified_df['machine_keyword_list'] + feed_info_modified_df['manual_keyword_list']"
   ]
  },
  {
   "cell_type": "code",
   "execution_count": 45,
   "metadata": {
    "id": "gkrrtlV7s2qG"
   },
   "outputs": [],
   "source": [
    "feed_info_modified_df.drop(columns=['machine_tag_list', 'manual_tag_list', 'machine_keyword_list', 'manual_keyword_list'], inplace=True)"
   ]
  },
  {
   "cell_type": "code",
   "execution_count": 47,
   "metadata": {
    "id": "oTrIkQELIMwb"
   },
   "outputs": [
    {
     "name": "stdout",
     "output_type": "stream",
     "text": [
      "Index(['feedid', 'authorid', 'videoplayseconds', 'bgm_song_id',\n",
      "       'bgm_singer_id', 'author_n_feeds', 'videolength_bucket',\n",
      "       'videolength_log', 'feed_embedding', 'tag_list', 'keyword_list'],\n",
      "      dtype='object')\n"
     ]
    }
   ],
   "source": [
    "#去重\n",
    "feed_info_modified_df['tag_list'] = feed_info_modified_df['tag_list'].apply(lambda x: list(set(x)))\n",
    "feed_info_modified_df['keyword_list'] = feed_info_modified_df['keyword_list'].apply(lambda x: list(set(x)))\n",
    "print(feed_info_modified_df.columns)"
   ]
  },
  {
   "cell_type": "code",
   "execution_count": 52,
   "metadata": {
    "colab": {
     "background_save": true
    },
    "id": "L8C2X6FGtfj5"
   },
   "outputs": [
    {
     "name": "stdout",
     "output_type": "stream",
     "text": [
      "<class 'float'>\n"
     ]
    }
   ],
   "source": [
    "from ast import literal_eval\n",
    "import numpy as np\n",
    "#feed_info_modified_df['feed_embedding'] = feed_info_modified_df['feed_embedding'].apply(lambda x: literal_eval(x))\n",
    "print(type(feed_info_modified_df.loc[0,'feed_embedding'][0]))"
   ]
  },
  {
   "cell_type": "code",
   "execution_count": 53,
   "metadata": {
    "colab": {
     "background_save": true
    },
    "id": "FPi1DndZvepM"
   },
   "outputs": [],
   "source": [
    "feed_info_modified_df['feed_embedding'] = feed_info_modified_df['feed_embedding'].apply(lambda x: np.array(x, np.float32))"
   ]
  },
  {
   "cell_type": "code",
   "execution_count": 54,
   "metadata": {
    "colab": {
     "background_save": true
    },
    "id": "gPDm0FGfw7kR"
   },
   "outputs": [],
   "source": [
    "feed_embeddings = []\n",
    "\n",
    "for embedding in feed_info_modified_df['feed_embedding'].values:\n",
    "  feed_embeddings.append(embedding.tolist())\n",
    "\n",
    "feed_embeddings = np.array(feed_embeddings, np.float32)"
   ]
  },
  {
   "cell_type": "code",
   "execution_count": 55,
   "metadata": {
    "colab": {
     "background_save": true
    },
    "id": "MtUCV0vUtkEJ"
   },
   "outputs": [],
   "source": [
    "# 使用 PCA 对embeddig进行降维，降到 32 维试试？     \n",
    "# 结果发现降到32维度，方差占比太低，已经没有多少有用信息了，不过直接作为 lgb 的输入还是由提升"
   ]
  },
  {
   "cell_type": "code",
   "execution_count": 56,
   "metadata": {
    "colab": {
     "background_save": true
    },
    "id": "Z2M0qksr70wc"
   },
   "outputs": [],
   "source": [
    "from sklearn.preprocessing import StandardScaler"
   ]
  },
  {
   "cell_type": "code",
   "execution_count": 57,
   "metadata": {
    "colab": {
     "background_save": true
    },
    "id": "j09lnWod8AQX"
   },
   "outputs": [],
   "source": [
    "feed_embeddings_scaled = StandardScaler().fit_transform(feed_embeddings)"
   ]
  },
  {
   "cell_type": "code",
   "execution_count": 58,
   "metadata": {
    "colab": {
     "background_save": true
    },
    "id": "ezuwRwTjvhEI"
   },
   "outputs": [],
   "source": [
    "from sklearn.decomposition import PCA"
   ]
  },
  {
   "cell_type": "code",
   "execution_count": 59,
   "metadata": {
    "colab": {
     "background_save": true
    },
    "id": "yZ7DA5DZhS70",
    "outputId": "45951d04-c0c2-487a-a6eb-32da58fa2281"
   },
   "outputs": [
    {
     "data": {
      "text/plain": [
       "PCA(copy=True, iterated_power='auto', n_components=32, random_state=None,\n",
       "  svd_solver='auto', tol=0.0, whiten=False)"
      ]
     },
     "execution_count": 59,
     "metadata": {},
     "output_type": "execute_result"
    }
   ],
   "source": [
    "#对embedding简答做一下降维之后作为新的特征试试\n",
    "pca_model = PCA(n_components=32)\n",
    "\n",
    "pca_model.fit(feed_embeddings_scaled)"
   ]
  },
  {
   "cell_type": "code",
   "execution_count": 60,
   "metadata": {
    "colab": {
     "background_save": true
    },
    "id": "dt0ALMNvyMzQ"
   },
   "outputs": [],
   "source": [
    "feed_embeddings_scaled = pca_model.transform(feed_embeddings_scaled)"
   ]
  },
  {
   "cell_type": "code",
   "execution_count": 61,
   "metadata": {
    "colab": {
     "background_save": true
    },
    "id": "cWWM2ijZhwoG"
   },
   "outputs": [],
   "source": [
    "for i in range(32):\n",
    "  feed_info_modified_df['embedding_' + str(i)] = feed_embeddings_scaled[:, i]"
   ]
  },
  {
   "cell_type": "code",
   "execution_count": 62,
   "metadata": {
    "colab": {
     "background_save": true
    },
    "id": "hsxKh3sGyV-w"
   },
   "outputs": [],
   "source": [
    "feed_info_modified_df.drop(columns=['videolength_log'], inplace=True)"
   ]
  },
  {
   "cell_type": "code",
   "execution_count": 96,
   "metadata": {
    "colab": {
     "background_save": true
    },
    "id": "qbsN9OnWJGve"
   },
   "outputs": [
    {
     "name": "stdout",
     "output_type": "stream",
     "text": [
      "Index(['feedid', 'authorid', 'videoplayseconds', 'bgm_song_id',\n",
      "       'bgm_singer_id', 'author_n_feeds', 'videolength_bucket',\n",
      "       'feed_embedding', 'tag_list', 'keyword_list', 'embedding_0',\n",
      "       'embedding_1', 'embedding_2', 'embedding_3', 'embedding_4',\n",
      "       'embedding_5', 'embedding_6', 'embedding_7', 'embedding_8',\n",
      "       'embedding_9', 'embedding_10', 'embedding_11', 'embedding_12',\n",
      "       'embedding_13', 'embedding_14', 'embedding_15', 'embedding_16',\n",
      "       'embedding_17', 'embedding_18', 'embedding_19', 'embedding_20',\n",
      "       'embedding_21', 'embedding_22', 'embedding_23', 'embedding_24',\n",
      "       'embedding_25', 'embedding_26', 'embedding_27', 'embedding_28',\n",
      "       'embedding_29', 'embedding_30', 'embedding_31'],\n",
      "      dtype='object')\n"
     ]
    }
   ],
   "source": [
    "# 开始对用户的历史行为数据进行挖掘\n",
    "# 可以选择用户全量的历史行为数据，挖掘用户的兴趣\n",
    "print(feed_info_modified_df.columns)"
   ]
  },
  {
   "cell_type": "code",
   "execution_count": 97,
   "metadata": {
    "colab": {
     "background_save": true
    },
    "id": "qsmVCzPM-8ZJ"
   },
   "outputs": [
    {
     "name": "stdout",
     "output_type": "stream",
     "text": [
      "Index(['userid', 'feedid', 'date_', 'device', 'read_comment', 'comment',\n",
      "       'like', 'play', 'stay', 'click_avatar', 'forward', 'follow',\n",
      "       'favorite'],\n",
      "      dtype='object')\n"
     ]
    }
   ],
   "source": [
    "user_action_df = pd.read_csv(user_action_path)\n",
    "print(user_action_df.columns)"
   ]
  },
  {
   "cell_type": "code",
   "execution_count": 98,
   "metadata": {
    "colab": {
     "background_save": true
    },
    "id": "vTZtF7GU-_Xi"
   },
   "outputs": [
    {
     "name": "stdout",
     "output_type": "stream",
     "text": [
      "Index(['userid', 'feedid', 'date_', 'device', 'read_comment', 'comment',\n",
      "       'like', 'play', 'stay', 'click_avatar', 'forward', 'follow', 'favorite',\n",
      "       'feedback', 'authorid', 'videoplayseconds', 'bgm_song_id',\n",
      "       'bgm_singer_id', 'author_n_feeds', 'videolength_bucket',\n",
      "       'feed_embedding', 'tag_list', 'keyword_list', 'embedding_0',\n",
      "       'embedding_1', 'embedding_2', 'embedding_3', 'embedding_4',\n",
      "       'embedding_5', 'embedding_6', 'embedding_7', 'embedding_8',\n",
      "       'embedding_9', 'embedding_10', 'embedding_11', 'embedding_12',\n",
      "       'embedding_13', 'embedding_14', 'embedding_15', 'embedding_16',\n",
      "       'embedding_17', 'embedding_18', 'embedding_19', 'embedding_20',\n",
      "       'embedding_21', 'embedding_22', 'embedding_23', 'embedding_24',\n",
      "       'embedding_25', 'embedding_26', 'embedding_27', 'embedding_28',\n",
      "       'embedding_29', 'embedding_30', 'embedding_31'],\n",
      "      dtype='object')\n"
     ]
    }
   ],
   "source": [
    "# 查看是否是用户的行为都是完播的\n",
    "LABEL_COLUMNS = ['click_avatar', 'forward', 'follow', 'favorite', 'read_comment', 'comment', 'like']\n",
    "ACTION_LIST = ['click_avatar', 'forward', 'follow', 'favorite', 'read_comment', 'comment', 'like', 'is_stay', 'is_finished', 'feedback']\n",
    "user_action_df['feedback'] = (user_action_df[LABEL_COLUMNS].sum(axis=1) > 0).astype(np.int)\n",
    "\n",
    "user_action_df = pd.merge(user_action_df, feed_info_modified_df, on='feedid')\n",
    "print(user_action_df.columns)"
   ]
  },
  {
   "cell_type": "code",
   "execution_count": 99,
   "metadata": {
    "colab": {
     "background_save": true
    },
    "id": "_Y86f7GNqqOT"
   },
   "outputs": [],
   "source": [
    "user_action_df['play'] = user_action_df['play'] / 1000.0\n",
    "user_action_df['stay'] = user_action_df['stay'] / 1000.0"
   ]
  },
  {
   "cell_type": "code",
   "execution_count": 100,
   "metadata": {
    "colab": {
     "background_save": true
    },
    "id": "O32Foeuhp6tN"
   },
   "outputs": [],
   "source": [
    "user_action_df['is_finished'] = (user_action_df['play'] >= user_action_df['videoplayseconds'] * 0.9).astype(np.int)\n",
    "user_action_df['is_stay'] = (user_action_df['stay'] - user_action_df['videoplayseconds'] >= 10).astype(np.int)"
   ]
  },
  {
   "cell_type": "code",
   "execution_count": 101,
   "metadata": {
    "colab": {
     "background_save": true
    },
    "id": "mLM014v7J9MZ"
   },
   "outputs": [],
   "source": [
    "user_action_df['interested'] = (user_action_df[['favorite', 'read_comment', 'comment', 'like']].sum(axis=1) > 0).astype(np.int)"
   ]
  },
  {
   "cell_type": "code",
   "execution_count": 102,
   "metadata": {
    "colab": {
     "background_save": true
    },
    "id": "P8VD32PXoOxr",
    "outputId": "26c0812c-e167-41c8-d8bb-755c55dd72f6"
   },
   "outputs": [
    {
     "name": "stdout",
     "output_type": "stream",
     "text": [
      "用户行为： click_avatar\n",
      "行为数量： 55128\n",
      "完播数量： 21493 完播率： 0.38987447395153096\n",
      "停留长时间的数量L:  18513 长时间停留率： 0.33581845885938183\n",
      "----------------------------------------------------\n",
      "用户行为： forward\n",
      "行为数量： 27963\n",
      "完播数量： 13326 完播率： 0.4765583091942925\n",
      "停留长时间的数量L:  10436 长时间停留率： 0.37320745270536065\n",
      "----------------------------------------------------\n",
      "用户行为： follow\n",
      "行为数量： 5277\n",
      "完播数量： 1766 完播率： 0.33465984460867915\n",
      "停留长时间的数量L:  1359 长时间停留率： 0.25753268902785675\n",
      "----------------------------------------------------\n",
      "用户行为： favorite\n",
      "行为数量： 9824\n",
      "完播数量： 6769 完播率： 0.6890268729641694\n",
      "停留长时间的数量L:  4962 长时间停留率： 0.5050895765472313\n",
      "----------------------------------------------------\n",
      "用户行为： read_comment\n",
      "行为数量： 256242\n",
      "完播数量： 195418 完播率： 0.7626306382248031\n",
      "停留长时间的数量L:  149980 长时间停留率： 0.585306077848284\n",
      "----------------------------------------------------\n",
      "用户行为： comment\n",
      "行为数量： 2961\n",
      "完播数量： 2258 完播率： 0.7625802093887201\n",
      "停留长时间的数量L:  2429 长时间停留率： 0.8203309692671394\n",
      "----------------------------------------------------\n",
      "用户行为： like\n",
      "行为数量： 188837\n",
      "完播数量： 120214 完播率： 0.6366019371203736\n",
      "停留长时间的数量L:  75439 长时间停留率： 0.39949268416676814\n",
      "----------------------------------------------------\n",
      "用户行为： interested\n",
      "行为数量： 436170\n",
      "完播数量： 308769 完播率： 0.7079097599559805\n",
      "停留长时间的数量L:  219719 长时间停留率： 0.5037462457298759\n",
      "----------------------------------------------------\n"
     ]
    }
   ],
   "source": [
    "for column in LABEL_COLUMNS + ['interested']:\n",
    "  user_column_df = user_action_df[user_action_df[column] == 1]\n",
    "  print(\"用户行为：\", column)\n",
    "  print(\"行为数量：\", user_column_df.shape[0])\n",
    "  print(\"完播数量：\", user_column_df['is_finished'].sum(), \"完播率：\", user_column_df['is_finished'].sum() / user_column_df.shape[0])\n",
    "  print(\"停留长时间的数量L: \", user_column_df['is_stay'].sum(), \"长时间停留率：\", user_column_df['is_stay'].sum() / user_column_df.shape[0])\n",
    "  print(\"----------------------------------------------------\")"
   ]
  },
  {
   "cell_type": "code",
   "execution_count": 103,
   "metadata": {
    "colab": {
     "background_save": true
    },
    "id": "veZrYiMCPcXV",
    "outputId": "0a6435d7-38fd-4e04-822c-41966dfbf58f"
   },
   "outputs": [
    {
     "data": {
      "text/plain": [
       "20000"
      ]
     },
     "execution_count": 103,
     "metadata": {},
     "output_type": "execute_result"
    }
   ],
   "source": [
    "# 计算用户历史兴趣中的视频关键词tf-idf和tag的tf-idf,作为用户的兴趣表示（基于标签的冷启动策略）\n",
    "# 但是实际的应用都是按照滑动窗口的情况去计算的\n",
    "user_action_df['userid'].nunique()"
   ]
  },
  {
   "cell_type": "code",
   "execution_count": 104,
   "metadata": {
    "colab": {
     "background_save": true
    },
    "id": "SXyxBC4nQRd8",
    "outputId": "aa0dda8b-796c-496e-e7fa-2bb5398ea90b"
   },
   "outputs": [
    {
     "data": {
      "text/plain": [
       "19975"
      ]
     },
     "execution_count": 104,
     "metadata": {},
     "output_type": "execute_result"
    }
   ],
   "source": [
    "user_action_df[user_action_df['is_finished'] > 0]['userid'].nunique()"
   ]
  },
  {
   "cell_type": "code",
   "execution_count": 106,
   "metadata": {
    "colab": {
     "background_save": true
    },
    "id": "QUlFlY_KSLSk",
    "outputId": "497f3ddd-a671-4b81-bbdf-0470e838f310"
   },
   "outputs": [
    {
     "data": {
      "text/plain": [
       "Index(['userid', 'feedid', 'date_', 'device', 'read_comment', 'comment',\n",
       "       'like', 'play', 'stay', 'click_avatar', 'forward', 'follow', 'favorite',\n",
       "       'feedback', 'authorid', 'videoplayseconds', 'bgm_song_id',\n",
       "       'bgm_singer_id', 'author_n_feeds', 'videolength_bucket',\n",
       "       'feed_embedding', 'tag_list', 'keyword_list', 'embedding_0',\n",
       "       'embedding_1', 'embedding_2', 'embedding_3', 'embedding_4',\n",
       "       'embedding_5', 'embedding_6', 'embedding_7', 'embedding_8',\n",
       "       'embedding_9', 'embedding_10', 'embedding_11', 'embedding_12',\n",
       "       'embedding_13', 'embedding_14', 'embedding_15', 'embedding_16',\n",
       "       'embedding_17', 'embedding_18', 'embedding_19', 'embedding_20',\n",
       "       'embedding_21', 'embedding_22', 'embedding_23', 'embedding_24',\n",
       "       'embedding_25', 'embedding_26', 'embedding_27', 'embedding_28',\n",
       "       'embedding_29', 'embedding_30', 'embedding_31', 'is_finished',\n",
       "       'is_stay', 'interested'],\n",
       "      dtype='object')"
      ]
     },
     "execution_count": 106,
     "metadata": {},
     "output_type": "execute_result"
    }
   ],
   "source": [
    "user_action_df.columns"
   ]
  },
  {
   "cell_type": "code",
   "execution_count": 107,
   "metadata": {
    "colab": {
     "background_save": true
    },
    "id": "iNclZySV_hg5"
   },
   "outputs": [],
   "source": [
    "user_interested_df = user_action_df[user_action_df['interested'] > 0].groupby('userid')[['keyword_list', 'tag_list']].sum().reset_index()"
   ]
  },
  {
   "cell_type": "code",
   "execution_count": 108,
   "metadata": {
    "colab": {
     "background_save": true
    },
    "id": "WlPTOAE4VeZe"
   },
   "outputs": [
    {
     "name": "stderr",
     "output_type": "stream",
     "text": [
      "D:\\anacanda\\lib\\site-packages\\gensim\\similarities\\__init__.py:15: UserWarning: The gensim.similarities.levenshtein submodule is disabled, because the optional Levenshtein package <https://pypi.org/project/python-Levenshtein/> is unavailable. Install Levenhstein (e.g. `pip install python-Levenshtein`) to suppress this warning.\n",
      "  warnings.warn(msg)\n"
     ]
    }
   ],
   "source": [
    "from gensim.models import TfidfModel\n",
    "from gensim.corpora import Dictionary\n",
    "\n",
    "def create_feed_keyword_profile(feed_info):\n",
    "  dataset = feed_info['keyword_list'].values\n",
    "  from gensim.corpora import Dictionary\n",
    "  dct = Dictionary(dataset)\n",
    "  corpus = [dct.doc2bow(line) for line in dataset]\n",
    "  model = TfidfModel(corpus)\n",
    "  _feed_keywords = []\n",
    "  _feed_keywords_weights = []\n",
    "  for i in range(len(corpus)):\n",
    "    vector = model[corpus[i]]\n",
    "    feed_keywords = sorted(vector, key=lambda x: x[1], reverse=True)\n",
    "    keywords_weights = dict(map(lambda x: (dct[x[0]], x[1]), feed_keywords))\n",
    "    keywords = [i[0] for i in keywords_weights.items()]\n",
    "    _feed_keywords.append(keywords)\n",
    "    _feed_keywords_weights.append(keywords_weights)\n",
    "  return _feed_keywords, _feed_keywords_weights"
   ]
  },
  {
   "cell_type": "code",
   "execution_count": 109,
   "metadata": {
    "colab": {
     "background_save": true
    },
    "id": "kICCDJt_VkXc"
   },
   "outputs": [],
   "source": [
    "# 分别计算feed的各个tag_list的权重\n",
    "def create_feed_tags_profile(feed_info):\n",
    "  dataset = feed_info['tag_list'].values\n",
    "  from gensim.corpora import Dictionary\n",
    "  dct = Dictionary(dataset)\n",
    "  corpus = [dct.doc2bow(line) for line in dataset]\n",
    "  model = TfidfModel(corpus)\n",
    "  _tags = []\n",
    "  _tags_weights = []\n",
    "  for i in range(len(corpus)):\n",
    "    vector = model[corpus[i]]\n",
    "    feed_tags = sorted(vector, key=lambda x: x[1], reverse=True)\n",
    "    tags_weights = dict(map(lambda x: (dct[x[0]], x[1]), feed_tags))\n",
    "    tags = [i[0] for i in tags_weights.items()]\n",
    "    _tags.append(tags)\n",
    "    _tags_weights.append(tags_weights)\n",
    "  return _tags, _tags_weights"
   ]
  },
  {
   "cell_type": "code",
   "execution_count": 110,
   "metadata": {
    "colab": {
     "background_save": true
    },
    "id": "q3GDnWgiXOKV"
   },
   "outputs": [],
   "source": [
    "_feed_keywords, _feed_keywords_weights = create_feed_keyword_profile(user_interested_df)"
   ]
  },
  {
   "cell_type": "code",
   "execution_count": 111,
   "metadata": {
    "colab": {
     "background_save": true
    },
    "id": "50509JVLXPg0"
   },
   "outputs": [],
   "source": [
    "user_interested_df['hist_keywords'] = _feed_keywords\n",
    "user_interested_df['hist_keywords_weights'] = _feed_keywords_weights"
   ]
  },
  {
   "cell_type": "code",
   "execution_count": 115,
   "metadata": {
    "colab": {
     "background_save": true
    },
    "id": "O2B0uFW_X8vU"
   },
   "outputs": [],
   "source": [
    "tags, tags_weights = create_feed_tags_profile(user_interested_df)\n",
    "user_interested_df['tag_list'] = tags\n",
    "user_interested_df['tag_weights'] = tags_weights"
   ]
  },
  {
   "cell_type": "code",
   "execution_count": 116,
   "metadata": {
    "colab": {
     "background_save": true
    },
    "id": "6HmssdBuYrNZ",
    "outputId": "35d9981a-99a2-46b8-eba8-aeeb8c1e2878"
   },
   "outputs": [
    {
     "data": {
      "text/html": [
       "<div>\n",
       "<style scoped>\n",
       "    .dataframe tbody tr th:only-of-type {\n",
       "        vertical-align: middle;\n",
       "    }\n",
       "\n",
       "    .dataframe tbody tr th {\n",
       "        vertical-align: top;\n",
       "    }\n",
       "\n",
       "    .dataframe thead th {\n",
       "        text-align: right;\n",
       "    }\n",
       "</style>\n",
       "<table border=\"1\" class=\"dataframe\">\n",
       "  <thead>\n",
       "    <tr style=\"text-align: right;\">\n",
       "      <th></th>\n",
       "      <th>userid</th>\n",
       "      <th>keyword_list</th>\n",
       "      <th>tag_list</th>\n",
       "      <th>hist_keywords</th>\n",
       "      <th>hist_keywords_weights</th>\n",
       "      <th>tag_weights</th>\n",
       "    </tr>\n",
       "  </thead>\n",
       "  <tbody>\n",
       "    <tr>\n",
       "      <th>0</th>\n",
       "      <td>8</td>\n",
       "      <td>[7978, 9680, 17918, 24390, 131, 22816, 14546, ...</td>\n",
       "      <td>[339, 28, 157, 100, 132, 41, 101, 127, 271, 31...</td>\n",
       "      <td>[17918, 22816, 19660, 131, 7978, 12224, 11696,...</td>\n",
       "      <td>{'17918': 0.3770519071810268, '22816': 0.35289...</td>\n",
       "      <td>{'339': 0.4666739187470669, '28': 0.2877431080...</td>\n",
       "    </tr>\n",
       "    <tr>\n",
       "      <th>1</th>\n",
       "      <td>12</td>\n",
       "      <td>[7095, 6969, 9709, 6344, 18863, 13338, 8120, 1...</td>\n",
       "      <td>[42, 309, 243, 217, 53, 38, 292, 66, 199, 100,...</td>\n",
       "      <td>[2786, 15902, 23340, 6224, 21455, 18659, 24277...</td>\n",
       "      <td>{'2786': 0.34337765959725347, '15902': 0.24686...</td>\n",
       "      <td>{'42': 0.26569851068585965, '309': 0.263572362...</td>\n",
       "    </tr>\n",
       "    <tr>\n",
       "      <th>2</th>\n",
       "      <td>13</td>\n",
       "      <td>[6934, 6969, 11411, 2451, 13152, 7377, 18863, ...</td>\n",
       "      <td>[302, 115, 343, 310, 53, 22, 150, 308, 247, 32...</td>\n",
       "      <td>[6969, 15770, 18863, 7377, 21020, 7094, 5618, ...</td>\n",
       "      <td>{'6969': 0.23972037974277463, '15770': 0.20679...</td>\n",
       "      <td>{'302': 0.30492043900991217, '115': 0.28752518...</td>\n",
       "    </tr>\n",
       "    <tr>\n",
       "      <th>3</th>\n",
       "      <td>25</td>\n",
       "      <td>[15615, 7043, 14535, 17370, 15133, 7094, 4881,...</td>\n",
       "      <td>[156, 317, 125, 101, 192, 221, 220, 328, 170, ...</td>\n",
       "      <td>[4881, 24208, 17969, 15615, 19652, 15133, 7043...</td>\n",
       "      <td>{'4881': 0.30548319466768925, '24208': 0.29837...</td>\n",
       "      <td>{'156': 0.49653632099255307, '317': 0.38988590...</td>\n",
       "    </tr>\n",
       "    <tr>\n",
       "      <th>4</th>\n",
       "      <td>71</td>\n",
       "      <td>[21358, 17582, 5004, 25007, 24346, 5062, 22312...</td>\n",
       "      <td>[64, 88, 82, 8, 19, 269, 241, 212, 207, 10, 15...</td>\n",
       "      <td>[5004, 21358, 1802, 24346, 5062, 17582, 22312,...</td>\n",
       "      <td>{'5004': 0.47923891424426807, '21358': 0.40477...</td>\n",
       "      <td>{'64': 0.4944578167192278, '88': 0.44175065243...</td>\n",
       "    </tr>\n",
       "    <tr>\n",
       "      <th>5</th>\n",
       "      <td>76</td>\n",
       "      <td>[25209, 10257, 16288, 19105, 4676, 27166, 1663...</td>\n",
       "      <td>[29, 289, 271, 81, 8, 234, 269, 118, 49, 235, ...</td>\n",
       "      <td>[4676, 9347, 21229, 16634, 27166, 16105, 19760...</td>\n",
       "      <td>{'4676': 0.3141158787154243, '9347': 0.2808933...</td>\n",
       "      <td>{'29': 0.5081459864141487, '289': 0.3866033015...</td>\n",
       "    </tr>\n",
       "    <tr>\n",
       "      <th>6</th>\n",
       "      <td>96</td>\n",
       "      <td>[4045, 25007, 24346, 940, 22312, 4218, 23139, ...</td>\n",
       "      <td>[69, 11, 142, 241, 17, 219, 159, 6]</td>\n",
       "      <td>[13963, 14859, 23139, 940, 24346, 19686, 5062,...</td>\n",
       "      <td>{'13963': 0.5451843583182836, '14859': 0.39204...</td>\n",
       "      <td>{'69': 0.5517487833771282, '11': 0.54824390003...</td>\n",
       "    </tr>\n",
       "    <tr>\n",
       "      <th>7</th>\n",
       "      <td>99</td>\n",
       "      <td>[24676, 3963, 10814, 27257, 999, 22548, 3436, ...</td>\n",
       "      <td>[119, 38, 273, 265, 28, 179, 125, 222, 67, 82,...</td>\n",
       "      <td>[16041, 22611, 7206, 14053, 22258, 1369, 1531,...</td>\n",
       "      <td>{'16041': 0.2881098855028171, '22611': 0.27423...</td>\n",
       "      <td>{'119': 0.29297376653059876, '38': 0.277802350...</td>\n",
       "    </tr>\n",
       "    <tr>\n",
       "      <th>8</th>\n",
       "      <td>129</td>\n",
       "      <td>[13662, 20696, 1371, 22376, 4045, 10215, 10207...</td>\n",
       "      <td>[214, 11, 142, 98, 37, 49, 340, 17, 212, 219, ...</td>\n",
       "      <td>[20348, 13662, 20696, 10207, 22376, 7263, 2294...</td>\n",
       "      <td>{'20348': 0.475670222692859, '13662': 0.435444...</td>\n",
       "      <td>{'214': 0.48960772731668667, '11': 0.471198259...</td>\n",
       "    </tr>\n",
       "    <tr>\n",
       "      <th>9</th>\n",
       "      <td>130</td>\n",
       "      <td>[26617, 10350, 23733, 11450, 22984, 20613, 12834]</td>\n",
       "      <td>[98, 332, 16, 207, 267, 10, 159, 6]</td>\n",
       "      <td>[11450, 22984, 12834, 23733, 10350, 20613, 26617]</td>\n",
       "      <td>{'11450': 0.4909129908390098, '22984': 0.47798...</td>\n",
       "      <td>{'98': 0.6460351038440703, '332': 0.4363612866...</td>\n",
       "    </tr>\n",
       "    <tr>\n",
       "      <th>10</th>\n",
       "      <td>135</td>\n",
       "      <td>[13615, 8346, 15770, 6969, 11076, 208, 26215, ...</td>\n",
       "      <td>[282, 107, 33, 53, 163, 24, 152, 44, 29, 120, ...</td>\n",
       "      <td>[6969, 26215, 15770, 5077, 17881, 208, 16183, ...</td>\n",
       "      <td>{'6969': 0.21299522676706678, '26215': 0.20885...</td>\n",
       "      <td>{'282': 0.30844507823739753, '107': 0.30344425...</td>\n",
       "    </tr>\n",
       "    <tr>\n",
       "      <th>11</th>\n",
       "      <td>168</td>\n",
       "      <td>[17881, 5077, 16341, 25008, 10350, 23733, 2173...</td>\n",
       "      <td>[65, 240, 202, 332, 23, 16, 207, 10, 159, 6]</td>\n",
       "      <td>[8228, 2341, 9199, 19549, 1665, 2429, 26099, 2...</td>\n",
       "      <td>{'8228': 0.49812656678257256, '2341': 0.387098...</td>\n",
       "      <td>{'65': 0.7550961130730067, '240': 0.4550730142...</td>\n",
       "    </tr>\n",
       "    <tr>\n",
       "      <th>12</th>\n",
       "      <td>172</td>\n",
       "      <td>[7095, 6969, 9709, 6344, 18863, 13338, 8120, 9...</td>\n",
       "      <td>[186, 327, 66, 326, 100, 132, 32, 312, 120, 32...</td>\n",
       "      <td>[10869, 11813, 23851, 21455, 7094, 24844, 2614...</td>\n",
       "      <td>{'10869': 0.4803394852948886, '11813': 0.33785...</td>\n",
       "      <td>{'186': 0.2902295889297806, '327': 0.230750929...</td>\n",
       "    </tr>\n",
       "    <tr>\n",
       "      <th>13</th>\n",
       "      <td>179</td>\n",
       "      <td>[17098, 17881, 5077, 11076, 21613, 12270, 2237...</td>\n",
       "      <td>[193, 104, 86, 80, 326, 230, 264, 161, 252, 10...</td>\n",
       "      <td>[25486, 662, 11656, 17324, 25903, 12104, 9852,...</td>\n",
       "      <td>{'25486': 0.23132953134099596, '662': 0.188049...</td>\n",
       "      <td>{'193': 0.4970228755348907, '104': 0.378166318...</td>\n",
       "    </tr>\n",
       "    <tr>\n",
       "      <th>14</th>\n",
       "      <td>196</td>\n",
       "      <td>[16341, 5077, 17881, 10844, 1699, 18600, 21476...</td>\n",
       "      <td>[306, 260, 214, 11, 203, 246, 83, 14, 220, 118...</td>\n",
       "      <td>[15073, 23854, 18428, 17892, 3230, 3963, 126, ...</td>\n",
       "      <td>{'15073': 0.5500564233435989, '23854': 0.46945...</td>\n",
       "      <td>{'306': 0.4984549711533564, '260': 0.458564838...</td>\n",
       "    </tr>\n",
       "    <tr>\n",
       "      <th>15</th>\n",
       "      <td>200</td>\n",
       "      <td>[18011, 19495, 18142, 2546, 9232, 24816]</td>\n",
       "      <td>[26, 270, 245, 202, 160, 23, 237, 159, 6]</td>\n",
       "      <td>[18142, 2546, 24816, 9232, 19495, 18011]</td>\n",
       "      <td>{'18142': 0.5682212698714959, '2546': 0.565908...</td>\n",
       "      <td>{'26': 0.6777102105519358, '270': 0.5192638454...</td>\n",
       "    </tr>\n",
       "    <tr>\n",
       "      <th>16</th>\n",
       "      <td>213</td>\n",
       "      <td>[26617, 16341, 17881, 2990, 5077, 25008, 12319...</td>\n",
       "      <td>[42, 26, 258, 119, 270, 131, 99, 308, 194, 120...</td>\n",
       "      <td>[14687, 20235, 7933, 19410, 21731, 19559, 8828...</td>\n",
       "      <td>{'14687': 0.2144782910678956, '20235': 0.19120...</td>\n",
       "      <td>{'42': 0.30628305329494127, '26': 0.3014676809...</td>\n",
       "    </tr>\n",
       "    <tr>\n",
       "      <th>17</th>\n",
       "      <td>237</td>\n",
       "      <td>[25007, 5062, 22312, 5004, 7130, 1197, 2798, 1...</td>\n",
       "      <td>[178, 130, 342, 290, 88, 291, 82, 289, 81, 19,...</td>\n",
       "      <td>[26163, 24778, 3037, 763, 21368, 579, 18678, 2...</td>\n",
       "      <td>{'26163': 0.30825363511087334, '24778': 0.2980...</td>\n",
       "      <td>{'178': 0.529664020079547, '130': 0.3780320950...</td>\n",
       "    </tr>\n",
       "    <tr>\n",
       "      <th>18</th>\n",
       "      <td>249</td>\n",
       "      <td>[1252, 24390, 1197, 131, 22816, 6355, 764, 130...</td>\n",
       "      <td>[228, 12, 340, 145, 235, 159, 6]</td>\n",
       "      <td>[1252, 26528, 24666, 764, 131, 13727, 6355, 17...</td>\n",
       "      <td>{'1252': 0.41014568029265774, '26528': 0.34683...</td>\n",
       "      <td>{'228': 0.6806820587160315, '12': 0.5904524289...</td>\n",
       "    </tr>\n",
       "    <tr>\n",
       "      <th>19</th>\n",
       "      <td>252</td>\n",
       "      <td>[2798, 7130, 15248, 1802, 2294, 20856, 15949, ...</td>\n",
       "      <td>[64, 214, 121, 328, 98, 118, 37, 241, 202, 13,...</td>\n",
       "      <td>[5644, 16181, 3230, 10104, 11430, 16826, 4456,...</td>\n",
       "      <td>{'5644': 0.27487513036565014, '16181': 0.23386...</td>\n",
       "      <td>{'64': 0.46606850496512, '214': 0.388503552426...</td>\n",
       "    </tr>\n",
       "    <tr>\n",
       "      <th>20</th>\n",
       "      <td>271</td>\n",
       "      <td>[3963, 23854, 9666, 15073, 16521, 22225, 23854...</td>\n",
       "      <td>[341, 118, 340, 204, 237, 207, 145, 235, 159, 6]</td>\n",
       "      <td>[16521, 5242, 15073, 23854, 2568, 13168, 21386...</td>\n",
       "      <td>{'16521': 0.42230902999962, '5242': 0.38868722...</td>\n",
       "      <td>{'341': 0.801505766211825, '118': 0.3345026416...</td>\n",
       "    </tr>\n",
       "    <tr>\n",
       "      <th>21</th>\n",
       "      <td>273</td>\n",
       "      <td>[7978, 9680, 11696, 10254, 1197, 12224, 11204,...</td>\n",
       "      <td>[326, 100, 41, 8, 198, 266, 14, 118, 202, 160,...</td>\n",
       "      <td>[12224, 19660, 11696, 7941, 9680, 26000, 10254...</td>\n",
       "      <td>{'12224': 0.5533172870617328, '19660': 0.53105...</td>\n",
       "      <td>{'326': 0.42311095549112354, '100': 0.42157228...</td>\n",
       "    </tr>\n",
       "    <tr>\n",
       "      <th>22</th>\n",
       "      <td>284</td>\n",
       "      <td>[17918, 22816, 131, 13032, 2483, 465, 2152, 22...</td>\n",
       "      <td>[100, 132, 41, 179, 230, 180, 147, 228, 61, 20...</td>\n",
       "      <td>[17918, 26140, 1769, 23007, 5452, 5498, 22816,...</td>\n",
       "      <td>{'17918': 0.23445618613246616, '26140': 0.2332...</td>\n",
       "      <td>{'100': 0.3013892046748137, '132': 0.299222657...</td>\n",
       "    </tr>\n",
       "    <tr>\n",
       "      <th>23</th>\n",
       "      <td>307</td>\n",
       "      <td>[23854, 15073, 12393, 3856, 15881, 3436, 3963,...</td>\n",
       "      <td>[98, 49, 340, 204, 207, 219, 145, 267, 10, 235...</td>\n",
       "      <td>[12495, 19162, 22548, 15881, 3856, 12393, 1151...</td>\n",
       "      <td>{'12495': 0.43362570045651627, '19162': 0.3678...</td>\n",
       "      <td>{'98': 0.4958499548861041, '49': 0.44639528268...</td>\n",
       "    </tr>\n",
       "    <tr>\n",
       "      <th>24</th>\n",
       "      <td>318</td>\n",
       "      <td>[23318, 5663, 25007, 4641, 17892, 18428, 13691]</td>\n",
       "      <td>[11, 220, 37, 17, 204, 219, 9, 10, 235, 6]</td>\n",
       "      <td>[4641, 23318, 5663, 25007, 13691, 18428, 17892]</td>\n",
       "      <td>{'4641': 0.678685478221686, '23318': 0.5281578...</td>\n",
       "      <td>{'11': 0.666263731518553, '220': 0.40151334753...</td>\n",
       "    </tr>\n",
       "    <tr>\n",
       "      <th>25</th>\n",
       "      <td>334</td>\n",
       "      <td>[4775, 26215, 15770, 6969, 10433, 12413, 11358...</td>\n",
       "      <td>[259, 250, 251, 258, 80, 247, 230, 264, 125, 4...</td>\n",
       "      <td>[12335, 25276, 17625, 27132, 11316, 547, 24619...</td>\n",
       "      <td>{'12335': 0.2706565754438637, '25276': 0.23038...</td>\n",
       "      <td>{'259': 0.36972438180222345, '250': 0.32811682...</td>\n",
       "    </tr>\n",
       "    <tr>\n",
       "      <th>26</th>\n",
       "      <td>336</td>\n",
       "      <td>[19549, 15364, 18973, 1665, 7130, 2593, 21494,...</td>\n",
       "      <td>[65, 45, 211, 240, 68, 98, 118, 241, 49, 239, ...</td>\n",
       "      <td>[22081, 11141, 11661, 9251, 26175, 13238, 3374...</td>\n",
       "      <td>{'22081': 0.2603423530243745, '11141': 0.24382...</td>\n",
       "      <td>{'65': 0.509622301187043, '45': 0.370028941245...</td>\n",
       "    </tr>\n",
       "    <tr>\n",
       "      <th>27</th>\n",
       "      <td>354</td>\n",
       "      <td>[24079, 22371, 4388, 5615, 19399, 19166, 18356...</td>\n",
       "      <td>[339, 117, 28, 150, 308, 322, 179, 125, 161, 3...</td>\n",
       "      <td>[4199, 20448, 19399, 15770, 7193, 8974, 6003, ...</td>\n",
       "      <td>{'4199': 0.2162711121875169, '20448': 0.197709...</td>\n",
       "      <td>{'339': 0.42264155536681147, '117': 0.26606917...</td>\n",
       "    </tr>\n",
       "    <tr>\n",
       "      <th>28</th>\n",
       "      <td>359</td>\n",
       "      <td>[18356, 16280, 6969, 19764, 17018, 13225, 1151...</td>\n",
       "      <td>[213, 216, 221, 98, 118, 37, 170, 160, 17, 239...</td>\n",
       "      <td>[12548, 22692, 4459, 4638, 22446, 1453, 19373,...</td>\n",
       "      <td>{'12548': 0.2544361212877904, '22692': 0.24341...</td>\n",
       "      <td>{'213': 0.4158947525260316, '216': 0.376316632...</td>\n",
       "    </tr>\n",
       "    <tr>\n",
       "      <th>29</th>\n",
       "      <td>361</td>\n",
       "      <td>[6829, 3249, 5573, 12486, 8521, 16992, 87, 949...</td>\n",
       "      <td>[300, 94, 119, 40, 92, 39, 88, 222, 291, 211, ...</td>\n",
       "      <td>[1948, 25209, 3071, 9001, 10049, 21229, 219, 8...</td>\n",
       "      <td>{'1948': 0.21863752400889067, '25209': 0.21491...</td>\n",
       "      <td>{'300': 0.4179460926467684, '94': 0.2890017249...</td>\n",
       "    </tr>\n",
       "    <tr>\n",
       "      <th>...</th>\n",
       "      <td>...</td>\n",
       "      <td>...</td>\n",
       "      <td>...</td>\n",
       "      <td>...</td>\n",
       "      <td>...</td>\n",
       "      <td>...</td>\n",
       "    </tr>\n",
       "    <tr>\n",
       "      <th>18093</th>\n",
       "      <td>249867</td>\n",
       "      <td>[18582, 11411, 2774, 20352, 24125, 20197, 4638...</td>\n",
       "      <td>[81, 269, 191, 212, 145, 267, 159, 6]</td>\n",
       "      <td>[12762, 24871, 7715, 26334, 18582, 8326, 2092,...</td>\n",
       "      <td>{'12762': 0.5184620464541845, '24871': 0.48181...</td>\n",
       "      <td>{'81': 0.6653483798303914, '269': 0.5587698013...</td>\n",
       "    </tr>\n",
       "    <tr>\n",
       "      <th>18094</th>\n",
       "      <td>249869</td>\n",
       "      <td>[7095, 26215, 18234, 15770, 6969, 3361, 8974, ...</td>\n",
       "      <td>[88, 19, 207, 9, 159, 6]</td>\n",
       "      <td>[3361, 5062, 7095, 18234, 22312, 26215, 25007,...</td>\n",
       "      <td>{'3361': 0.5460426974033694, '5062': 0.3609606...</td>\n",
       "      <td>{'88': 0.7801682010857464, '19': 0.56113101892...</td>\n",
       "    </tr>\n",
       "    <tr>\n",
       "      <th>18095</th>\n",
       "      <td>249896</td>\n",
       "      <td>[17918, 24390, 131, 22816, 14546, 7095, 6969, ...</td>\n",
       "      <td>[199, 295, 132, 308, 312, 179, 230, 125, 211, ...</td>\n",
       "      <td>[22816, 131, 17918, 24390, 332, 4795, 16342, 1...</td>\n",
       "      <td>{'22816': 0.42838218853420346, '131': 0.411116...</td>\n",
       "      <td>{'199': 0.24032760461280966, '295': 0.23812830...</td>\n",
       "    </tr>\n",
       "    <tr>\n",
       "      <th>18096</th>\n",
       "      <td>249908</td>\n",
       "      <td>[15221, 3535, 6256, 6100, 166, 25629, 11719, 1...</td>\n",
       "      <td>[284, 247, 321, 266, 13, 237, 159, 6]</td>\n",
       "      <td>[10572, 166, 25249, 14783, 21740, 11719, 24079...</td>\n",
       "      <td>{'10572': 0.37869961731328794, '166': 0.332843...</td>\n",
       "      <td>{'284': 0.646191428418807, '247': 0.5036571003...</td>\n",
       "    </tr>\n",
       "    <tr>\n",
       "      <th>18097</th>\n",
       "      <td>249911</td>\n",
       "      <td>[13691, 22548, 18600, 1151, 1699, 9330, 25856,...</td>\n",
       "      <td>[137, 309, 318, 261, 129, 89, 131, 40, 199, 19...</td>\n",
       "      <td>[25602, 16946, 219, 11866, 22450, 16616, 4123,...</td>\n",
       "      <td>{'25602': 0.16375687000272374, '16946': 0.1597...</td>\n",
       "      <td>{'137': 0.3586881866519679, '309': 0.286299567...</td>\n",
       "    </tr>\n",
       "    <tr>\n",
       "      <th>18098</th>\n",
       "      <td>249924</td>\n",
       "      <td>[26617, 17881, 5077, 16341, 25008, 21731, 1133...</td>\n",
       "      <td>[228, 12, 37, 340, 17, 204, 124, 332, 16, 207,...</td>\n",
       "      <td>[18291, 17892, 18428, 22609, 13646, 11198, 254...</td>\n",
       "      <td>{'18291': 0.30292515287117755, '17892': 0.2874...</td>\n",
       "      <td>{'228': 0.5013203785297417, '12': 0.4348665157...</td>\n",
       "    </tr>\n",
       "    <tr>\n",
       "      <th>18099</th>\n",
       "      <td>249934</td>\n",
       "      <td>[10861, 20613, 2535, 3617, 24676, 1699, 10992,...</td>\n",
       "      <td>[15, 65, 47, 155, 246, 98, 170, 239, 212, 332,...</td>\n",
       "      <td>[5252, 24549, 22366, 1706, 24043, 18786, 2436,...</td>\n",
       "      <td>{'5252': 0.3232233362370624, '24549': 0.252086...</td>\n",
       "      <td>{'15': 0.5225501833526663, '65': 0.48299291881...</td>\n",
       "    </tr>\n",
       "    <tr>\n",
       "      <th>18100</th>\n",
       "      <td>249943</td>\n",
       "      <td>[21788, 25007, 26433, 940, 4218, 14487, 2079, ...</td>\n",
       "      <td>[163, 341, 247, 321, 19, 13, 191, 237, 145, 26...</td>\n",
       "      <td>[10547, 11508, 26133, 9214, 2079, 24345, 14487...</td>\n",
       "      <td>{'10547': 0.34965945655847064, '11508': 0.3496...</td>\n",
       "      <td>{'163': 0.5644706286148892, '341': 0.481149383...</td>\n",
       "    </tr>\n",
       "    <tr>\n",
       "      <th>18101</th>\n",
       "      <td>249990</td>\n",
       "      <td>[25007, 24346, 22312, 16900, 5062, 27004, 2122...</td>\n",
       "      <td>[153, 319, 318, 250, 24, 292, 341, 29, 66, 295...</td>\n",
       "      <td>[7715, 26334, 219, 18568, 4123, 25209, 18457, ...</td>\n",
       "      <td>{'7715': 0.27986656396570414, '26334': 0.26308...</td>\n",
       "      <td>{'153': 0.3907744597109985, '319': 0.289233146...</td>\n",
       "    </tr>\n",
       "    <tr>\n",
       "      <th>18102</th>\n",
       "      <td>249993</td>\n",
       "      <td>[4240, 20448, 6969, 11411, 11358, 19764, 15476...</td>\n",
       "      <td>[170, 239, 169, 159]</td>\n",
       "      <td>[19064, 20448, 15476, 10459, 3601, 11358, 4240...</td>\n",
       "      <td>{'19064': 0.47351833417087286, '20448': 0.4144...</td>\n",
       "      <td>{'170': 0.664663145278229, '239': 0.5672018389...</td>\n",
       "    </tr>\n",
       "    <tr>\n",
       "      <th>18103</th>\n",
       "      <td>250007</td>\n",
       "      <td>[4775, 26215, 15770, 6969, 10433, 12413, 11358...</td>\n",
       "      <td>[193, 323, 164, 186, 254, 182, 22, 284, 38, 27...</td>\n",
       "      <td>[6969, 27119, 18234, 8974, 15770, 18863, 26215...</td>\n",
       "      <td>{'6969': 0.23237355162901244, '27119': 0.18766...</td>\n",
       "      <td>{'193': 0.3146164343860747, '323': 0.264348556...</td>\n",
       "    </tr>\n",
       "    <tr>\n",
       "      <th>18104</th>\n",
       "      <td>250008</td>\n",
       "      <td>[24079, 19126, 7846, 22371, 2294, 17170, 18600...</td>\n",
       "      <td>[38, 211, 266, 220, 37, 49, 340, 17, 204, 124,...</td>\n",
       "      <td>[3436, 3963, 3230, 3377, 21177, 13630, 15324, ...</td>\n",
       "      <td>{'3436': 0.29750255568154876, '3963': 0.294088...</td>\n",
       "      <td>{'38': 0.6001599926431163, '211': 0.4355754955...</td>\n",
       "    </tr>\n",
       "    <tr>\n",
       "      <th>18105</th>\n",
       "      <td>250025</td>\n",
       "      <td>[25911, 8445, 18600, 6754, 3963, 22548, 3436, ...</td>\n",
       "      <td>[243, 152, 80, 290, 264, 63, 19, 98, 241, 49, ...</td>\n",
       "      <td>[16406, 19609, 2573, 19950, 16162, 8445, 2273,...</td>\n",
       "      <td>{'16406': 0.2874961124439448, '19609': 0.28620...</td>\n",
       "      <td>{'243': 0.5261343729851532, '152': 0.386120753...</td>\n",
       "    </tr>\n",
       "    <tr>\n",
       "      <th>18106</th>\n",
       "      <td>250069</td>\n",
       "      <td>[24965, 2092, 12, 17617, 21639, 219, 25209, 15...</td>\n",
       "      <td>[272, 67, 289, 180, 81, 262, 234, 269, 98, 237...</td>\n",
       "      <td>[22573, 26574, 20813, 12, 24385, 2092, 26007, ...</td>\n",
       "      <td>{'22573': 0.34366329701654036, '26574': 0.2820...</td>\n",
       "      <td>{'272': 0.463972113423423, '67': 0.37973255113...</td>\n",
       "    </tr>\n",
       "    <tr>\n",
       "      <th>18107</th>\n",
       "      <td>250077</td>\n",
       "      <td>[13374, 17881, 5077, 11076, 25008, 16061, 2173...</td>\n",
       "      <td>[302, 120, 291, 263, 8, 331, 234, 202, 49, 160...</td>\n",
       "      <td>[2899, 26241, 13374, 12365, 26099, 24111, 2302...</td>\n",
       "      <td>{'2899': 0.4112410308428863, '26241': 0.338478...</td>\n",
       "      <td>{'302': 0.630968147456833, '120': 0.3366031781...</td>\n",
       "    </tr>\n",
       "    <tr>\n",
       "      <th>18108</th>\n",
       "      <td>250079</td>\n",
       "      <td>[22665, 2734, 4638, 3963, 22225, 3230, 235, 21...</td>\n",
       "      <td>[194, 328, 98, 13, 340, 191, 145, 267, 9, 235,...</td>\n",
       "      <td>[7692, 235, 11838, 3535, 21327, 2545, 22225, 8...</td>\n",
       "      <td>{'7692': 0.4688416788755161, '235': 0.35096780...</td>\n",
       "      <td>{'194': 0.6944757830486621, '328': 0.347750066...</td>\n",
       "    </tr>\n",
       "    <tr>\n",
       "      <th>18109</th>\n",
       "      <td>250089</td>\n",
       "      <td>[26617, 17881, 5077, 877, 2429, 208, 10215, 22...</td>\n",
       "      <td>[291, 234, 198, 328, 13, 340, 332, 16, 145, 26...</td>\n",
       "      <td>[15571, 6902, 5606, 24255, 26508, 12797, 877, ...</td>\n",
       "      <td>{'15571': 0.46844893883059935, '6902': 0.38474...</td>\n",
       "      <td>{'291': 0.5676704209331033, '234': 0.399205246...</td>\n",
       "    </tr>\n",
       "    <tr>\n",
       "      <th>18110</th>\n",
       "      <td>250090</td>\n",
       "      <td>[3012, 17892, 26389, 14736, 18428, 26587, 8159...</td>\n",
       "      <td>[4, 310, 66, 247, 45, 155, 203, 321, 198, 14, ...</td>\n",
       "      <td>[431, 18292, 17472, 24532, 7085, 20649, 20057,...</td>\n",
       "      <td>{'431': 0.2260941543860714, '18292': 0.1939304...</td>\n",
       "      <td>{'4': 0.4523661100441407, '310': 0.41689318109...</td>\n",
       "    </tr>\n",
       "    <tr>\n",
       "      <th>18111</th>\n",
       "      <td>250126</td>\n",
       "      <td>[18428, 17892, 18017, 21855, 126, 1868, 20118,...</td>\n",
       "      <td>[247, 83, 192, 204, 237, 207, 219, 267, 9, 10,...</td>\n",
       "      <td>[11457, 26723, 23085, 818, 12950, 16587, 7735,...</td>\n",
       "      <td>{'11457': 0.4553928917681839, '26723': 0.42550...</td>\n",
       "      <td>{'247': 0.6314474676044148, '83': 0.4971790877...</td>\n",
       "    </tr>\n",
       "    <tr>\n",
       "      <th>18112</th>\n",
       "      <td>250129</td>\n",
       "      <td>[5048, 24566, 18621, 13032, 22209, 2377, 13379...</td>\n",
       "      <td>[42, 343, 286, 27, 72, 162, 284, 270, 24, 38, ...</td>\n",
       "      <td>[6297, 25995, 26673, 26486, 7978, 2438, 7144, ...</td>\n",
       "      <td>{'6297': 0.182206347249467, '25995': 0.1466069...</td>\n",
       "      <td>{'42': 0.2527505953088143, '343': 0.2507280575...</td>\n",
       "    </tr>\n",
       "    <tr>\n",
       "      <th>18113</th>\n",
       "      <td>250142</td>\n",
       "      <td>[26617, 17881, 5077, 25008, 21731, 25641, 2609...</td>\n",
       "      <td>[221, 118, 202, 160, 204, 124, 191, 332, 23, 1...</td>\n",
       "      <td>[17249, 17391, 16205, 18428, 17892, 7732, 7694...</td>\n",
       "      <td>{'17249': 0.3973164276891493, '17391': 0.35456...</td>\n",
       "      <td>{'221': 0.435762754443036, '118': 0.3564329831...</td>\n",
       "    </tr>\n",
       "    <tr>\n",
       "      <th>18114</th>\n",
       "      <td>250144</td>\n",
       "      <td>[25007, 24346, 940, 22312, 4218, 23139, 19686,...</td>\n",
       "      <td>[29, 69, 271, 241, 124, 191, 267, 9, 10, 159, 6]</td>\n",
       "      <td>[16854, 9604, 24427, 10284, 14859, 23139, 7098...</td>\n",
       "      <td>{'16854': 0.48293497065462276, '9604': 0.48293...</td>\n",
       "      <td>{'29': 0.632408990804561, '69': 0.475447017305...</td>\n",
       "    </tr>\n",
       "    <tr>\n",
       "      <th>18115</th>\n",
       "      <td>250160</td>\n",
       "      <td>[26617, 17881, 5077, 877, 2429, 208, 26617, 17...</td>\n",
       "      <td>[332, 16, 159, 6]</td>\n",
       "      <td>[2990, 26617, 877, 2429, 26099, 5077, 17881, 2...</td>\n",
       "      <td>{'2990': 0.4474510788413303, '26617': 0.368423...</td>\n",
       "      <td>{'332': 0.76786045532728, '16': 0.639811984043...</td>\n",
       "    </tr>\n",
       "    <tr>\n",
       "      <th>18116</th>\n",
       "      <td>250168</td>\n",
       "      <td>[17918, 24390, 131, 3608, 22816, 21071, 14546,...</td>\n",
       "      <td>[34, 215, 91, 345, 28, 322, 41, 211, 161, 155,...</td>\n",
       "      <td>[27219, 25995, 26486, 13350, 22816, 131, 8223,...</td>\n",
       "      <td>{'27219': 0.19676023734627984, '25995': 0.1816...</td>\n",
       "      <td>{'34': 0.3597709705286656, '215': 0.3576269435...</td>\n",
       "    </tr>\n",
       "    <tr>\n",
       "      <th>18117</th>\n",
       "      <td>250197</td>\n",
       "      <td>[2798, 7130, 18598, 26617, 11696, 2535, 25852,...</td>\n",
       "      <td>[332, 16, 219, 159, 6]</td>\n",
       "      <td>[13074, 25852, 8696, 2535, 23242, 11696, 18598...</td>\n",
       "      <td>{'13074': 0.46242524000567975, '25852': 0.3700...</td>\n",
       "      <td>{'332': 0.6845949196313904, '16': 0.5704318157...</td>\n",
       "    </tr>\n",
       "    <tr>\n",
       "      <th>18118</th>\n",
       "      <td>250199</td>\n",
       "      <td>[13003, 4045, 22225, 20007, 23854, 15073, 6125...</td>\n",
       "      <td>[99, 268, 142, 340, 17, 219, 145, 235, 159, 6]</td>\n",
       "      <td>[22712, 2785, 4831, 9073, 24874, 13003, 15073,...</td>\n",
       "      <td>{'22712': 0.3954517846619528, '2785': 0.367427...</td>\n",
       "      <td>{'99': 0.6823197053475295, '268': 0.4391865567...</td>\n",
       "    </tr>\n",
       "    <tr>\n",
       "      <th>18119</th>\n",
       "      <td>250207</td>\n",
       "      <td>[7095, 6969, 9709, 6344, 18863, 13338, 8120, 1...</td>\n",
       "      <td>[352, 60, 346, 250, 251, 24, 129, 50, 157, 290...</td>\n",
       "      <td>[10869, 11813, 21455, 26140, 14412, 23473, 248...</td>\n",
       "      <td>{'10869': 0.5127883136860724, '11813': 0.38604...</td>\n",
       "      <td>{'352': 0.32038798008388475, '60': 0.276904705...</td>\n",
       "    </tr>\n",
       "    <tr>\n",
       "      <th>18120</th>\n",
       "      <td>250221</td>\n",
       "      <td>[17098, 7732, 10350, 23733, 20736, 2429, 7095,...</td>\n",
       "      <td>[98, 49, 170, 340, 239, 212, 332, 169, 16, 207...</td>\n",
       "      <td>[767, 5187, 2643, 7134, 8593, 13691, 23626, 24...</td>\n",
       "      <td>{'767': 0.7234395642423621, '5187': 0.37856555...</td>\n",
       "      <td>{'98': 0.40305315656110197, '49': 0.3628537745...</td>\n",
       "    </tr>\n",
       "    <tr>\n",
       "      <th>18121</th>\n",
       "      <td>250224</td>\n",
       "      <td>[19320, 3027, 21358, 17582, 5004, 1371, 8800, ...</td>\n",
       "      <td>[151, 226, 208, 128, 217, 154, 162, 119, 284, ...</td>\n",
       "      <td>[20613, 19764, 15476, 18116, 9959, 23763, 2545...</td>\n",
       "      <td>{'20613': 0.20093403829587853, '19764': 0.1607...</td>\n",
       "      <td>{'151': 0.3135835388716072, '226': 0.258096125...</td>\n",
       "    </tr>\n",
       "    <tr>\n",
       "      <th>18122</th>\n",
       "      <td>250236</td>\n",
       "      <td>[17918, 24390, 131, 3608, 22816, 21071, 14546,...</td>\n",
       "      <td>[342, 89, 50, 131, 292, 29, 99, 157, 92, 326, ...</td>\n",
       "      <td>[25209, 13615, 15438, 13181, 5109, 17426, 1967...</td>\n",
       "      <td>{'25209': 0.21675566062106022, '13615': 0.1806...</td>\n",
       "      <td>{'342': 0.26420196850011674, '89': 0.223559313...</td>\n",
       "    </tr>\n",
       "  </tbody>\n",
       "</table>\n",
       "<p>18123 rows × 6 columns</p>\n",
       "</div>"
      ],
      "text/plain": [
       "       userid                                       keyword_list  \\\n",
       "0           8  [7978, 9680, 17918, 24390, 131, 22816, 14546, ...   \n",
       "1          12  [7095, 6969, 9709, 6344, 18863, 13338, 8120, 1...   \n",
       "2          13  [6934, 6969, 11411, 2451, 13152, 7377, 18863, ...   \n",
       "3          25  [15615, 7043, 14535, 17370, 15133, 7094, 4881,...   \n",
       "4          71  [21358, 17582, 5004, 25007, 24346, 5062, 22312...   \n",
       "5          76  [25209, 10257, 16288, 19105, 4676, 27166, 1663...   \n",
       "6          96  [4045, 25007, 24346, 940, 22312, 4218, 23139, ...   \n",
       "7          99  [24676, 3963, 10814, 27257, 999, 22548, 3436, ...   \n",
       "8         129  [13662, 20696, 1371, 22376, 4045, 10215, 10207...   \n",
       "9         130  [26617, 10350, 23733, 11450, 22984, 20613, 12834]   \n",
       "10        135  [13615, 8346, 15770, 6969, 11076, 208, 26215, ...   \n",
       "11        168  [17881, 5077, 16341, 25008, 10350, 23733, 2173...   \n",
       "12        172  [7095, 6969, 9709, 6344, 18863, 13338, 8120, 9...   \n",
       "13        179  [17098, 17881, 5077, 11076, 21613, 12270, 2237...   \n",
       "14        196  [16341, 5077, 17881, 10844, 1699, 18600, 21476...   \n",
       "15        200           [18011, 19495, 18142, 2546, 9232, 24816]   \n",
       "16        213  [26617, 16341, 17881, 2990, 5077, 25008, 12319...   \n",
       "17        237  [25007, 5062, 22312, 5004, 7130, 1197, 2798, 1...   \n",
       "18        249  [1252, 24390, 1197, 131, 22816, 6355, 764, 130...   \n",
       "19        252  [2798, 7130, 15248, 1802, 2294, 20856, 15949, ...   \n",
       "20        271  [3963, 23854, 9666, 15073, 16521, 22225, 23854...   \n",
       "21        273  [7978, 9680, 11696, 10254, 1197, 12224, 11204,...   \n",
       "22        284  [17918, 22816, 131, 13032, 2483, 465, 2152, 22...   \n",
       "23        307  [23854, 15073, 12393, 3856, 15881, 3436, 3963,...   \n",
       "24        318    [23318, 5663, 25007, 4641, 17892, 18428, 13691]   \n",
       "25        334  [4775, 26215, 15770, 6969, 10433, 12413, 11358...   \n",
       "26        336  [19549, 15364, 18973, 1665, 7130, 2593, 21494,...   \n",
       "27        354  [24079, 22371, 4388, 5615, 19399, 19166, 18356...   \n",
       "28        359  [18356, 16280, 6969, 19764, 17018, 13225, 1151...   \n",
       "29        361  [6829, 3249, 5573, 12486, 8521, 16992, 87, 949...   \n",
       "...       ...                                                ...   \n",
       "18093  249867  [18582, 11411, 2774, 20352, 24125, 20197, 4638...   \n",
       "18094  249869  [7095, 26215, 18234, 15770, 6969, 3361, 8974, ...   \n",
       "18095  249896  [17918, 24390, 131, 22816, 14546, 7095, 6969, ...   \n",
       "18096  249908  [15221, 3535, 6256, 6100, 166, 25629, 11719, 1...   \n",
       "18097  249911  [13691, 22548, 18600, 1151, 1699, 9330, 25856,...   \n",
       "18098  249924  [26617, 17881, 5077, 16341, 25008, 21731, 1133...   \n",
       "18099  249934  [10861, 20613, 2535, 3617, 24676, 1699, 10992,...   \n",
       "18100  249943  [21788, 25007, 26433, 940, 4218, 14487, 2079, ...   \n",
       "18101  249990  [25007, 24346, 22312, 16900, 5062, 27004, 2122...   \n",
       "18102  249993  [4240, 20448, 6969, 11411, 11358, 19764, 15476...   \n",
       "18103  250007  [4775, 26215, 15770, 6969, 10433, 12413, 11358...   \n",
       "18104  250008  [24079, 19126, 7846, 22371, 2294, 17170, 18600...   \n",
       "18105  250025  [25911, 8445, 18600, 6754, 3963, 22548, 3436, ...   \n",
       "18106  250069  [24965, 2092, 12, 17617, 21639, 219, 25209, 15...   \n",
       "18107  250077  [13374, 17881, 5077, 11076, 25008, 16061, 2173...   \n",
       "18108  250079  [22665, 2734, 4638, 3963, 22225, 3230, 235, 21...   \n",
       "18109  250089  [26617, 17881, 5077, 877, 2429, 208, 10215, 22...   \n",
       "18110  250090  [3012, 17892, 26389, 14736, 18428, 26587, 8159...   \n",
       "18111  250126  [18428, 17892, 18017, 21855, 126, 1868, 20118,...   \n",
       "18112  250129  [5048, 24566, 18621, 13032, 22209, 2377, 13379...   \n",
       "18113  250142  [26617, 17881, 5077, 25008, 21731, 25641, 2609...   \n",
       "18114  250144  [25007, 24346, 940, 22312, 4218, 23139, 19686,...   \n",
       "18115  250160  [26617, 17881, 5077, 877, 2429, 208, 26617, 17...   \n",
       "18116  250168  [17918, 24390, 131, 3608, 22816, 21071, 14546,...   \n",
       "18117  250197  [2798, 7130, 18598, 26617, 11696, 2535, 25852,...   \n",
       "18118  250199  [13003, 4045, 22225, 20007, 23854, 15073, 6125...   \n",
       "18119  250207  [7095, 6969, 9709, 6344, 18863, 13338, 8120, 1...   \n",
       "18120  250221  [17098, 7732, 10350, 23733, 20736, 2429, 7095,...   \n",
       "18121  250224  [19320, 3027, 21358, 17582, 5004, 1371, 8800, ...   \n",
       "18122  250236  [17918, 24390, 131, 3608, 22816, 21071, 14546,...   \n",
       "\n",
       "                                                tag_list  \\\n",
       "0      [339, 28, 157, 100, 132, 41, 101, 127, 271, 31...   \n",
       "1      [42, 309, 243, 217, 53, 38, 292, 66, 199, 100,...   \n",
       "2      [302, 115, 343, 310, 53, 22, 150, 308, 247, 32...   \n",
       "3      [156, 317, 125, 101, 192, 221, 220, 328, 170, ...   \n",
       "4      [64, 88, 82, 8, 19, 269, 241, 212, 207, 10, 15...   \n",
       "5      [29, 289, 271, 81, 8, 234, 269, 118, 49, 235, ...   \n",
       "6                    [69, 11, 142, 241, 17, 219, 159, 6]   \n",
       "7      [119, 38, 273, 265, 28, 179, 125, 222, 67, 82,...   \n",
       "8      [214, 11, 142, 98, 37, 49, 340, 17, 212, 219, ...   \n",
       "9                    [98, 332, 16, 207, 267, 10, 159, 6]   \n",
       "10     [282, 107, 33, 53, 163, 24, 152, 44, 29, 120, ...   \n",
       "11          [65, 240, 202, 332, 23, 16, 207, 10, 159, 6]   \n",
       "12     [186, 327, 66, 326, 100, 132, 32, 312, 120, 32...   \n",
       "13     [193, 104, 86, 80, 326, 230, 264, 161, 252, 10...   \n",
       "14     [306, 260, 214, 11, 203, 246, 83, 14, 220, 118...   \n",
       "15             [26, 270, 245, 202, 160, 23, 237, 159, 6]   \n",
       "16     [42, 26, 258, 119, 270, 131, 99, 308, 194, 120...   \n",
       "17     [178, 130, 342, 290, 88, 291, 82, 289, 81, 19,...   \n",
       "18                      [228, 12, 340, 145, 235, 159, 6]   \n",
       "19     [64, 214, 121, 328, 98, 118, 37, 241, 202, 13,...   \n",
       "20      [341, 118, 340, 204, 237, 207, 145, 235, 159, 6]   \n",
       "21     [326, 100, 41, 8, 198, 266, 14, 118, 202, 160,...   \n",
       "22     [100, 132, 41, 179, 230, 180, 147, 228, 61, 20...   \n",
       "23     [98, 49, 340, 204, 207, 219, 145, 267, 10, 235...   \n",
       "24            [11, 220, 37, 17, 204, 219, 9, 10, 235, 6]   \n",
       "25     [259, 250, 251, 258, 80, 247, 230, 264, 125, 4...   \n",
       "26     [65, 45, 211, 240, 68, 98, 118, 241, 49, 239, ...   \n",
       "27     [339, 117, 28, 150, 308, 322, 179, 125, 161, 3...   \n",
       "28     [213, 216, 221, 98, 118, 37, 170, 160, 17, 239...   \n",
       "29     [300, 94, 119, 40, 92, 39, 88, 222, 291, 211, ...   \n",
       "...                                                  ...   \n",
       "18093              [81, 269, 191, 212, 145, 267, 159, 6]   \n",
       "18094                           [88, 19, 207, 9, 159, 6]   \n",
       "18095  [199, 295, 132, 308, 312, 179, 230, 125, 211, ...   \n",
       "18096              [284, 247, 321, 266, 13, 237, 159, 6]   \n",
       "18097  [137, 309, 318, 261, 129, 89, 131, 40, 199, 19...   \n",
       "18098  [228, 12, 37, 340, 17, 204, 124, 332, 16, 207,...   \n",
       "18099  [15, 65, 47, 155, 246, 98, 170, 239, 212, 332,...   \n",
       "18100  [163, 341, 247, 321, 19, 13, 191, 237, 145, 26...   \n",
       "18101  [153, 319, 318, 250, 24, 292, 341, 29, 66, 295...   \n",
       "18102                               [170, 239, 169, 159]   \n",
       "18103  [193, 323, 164, 186, 254, 182, 22, 284, 38, 27...   \n",
       "18104  [38, 211, 266, 220, 37, 49, 340, 17, 204, 124,...   \n",
       "18105  [243, 152, 80, 290, 264, 63, 19, 98, 241, 49, ...   \n",
       "18106  [272, 67, 289, 180, 81, 262, 234, 269, 98, 237...   \n",
       "18107  [302, 120, 291, 263, 8, 331, 234, 202, 49, 160...   \n",
       "18108  [194, 328, 98, 13, 340, 191, 145, 267, 9, 235,...   \n",
       "18109  [291, 234, 198, 328, 13, 340, 332, 16, 145, 26...   \n",
       "18110  [4, 310, 66, 247, 45, 155, 203, 321, 198, 14, ...   \n",
       "18111  [247, 83, 192, 204, 237, 207, 219, 267, 9, 10,...   \n",
       "18112  [42, 343, 286, 27, 72, 162, 284, 270, 24, 38, ...   \n",
       "18113  [221, 118, 202, 160, 204, 124, 191, 332, 23, 1...   \n",
       "18114   [29, 69, 271, 241, 124, 191, 267, 9, 10, 159, 6]   \n",
       "18115                                  [332, 16, 159, 6]   \n",
       "18116  [34, 215, 91, 345, 28, 322, 41, 211, 161, 155,...   \n",
       "18117                             [332, 16, 219, 159, 6]   \n",
       "18118     [99, 268, 142, 340, 17, 219, 145, 235, 159, 6]   \n",
       "18119  [352, 60, 346, 250, 251, 24, 129, 50, 157, 290...   \n",
       "18120  [98, 49, 170, 340, 239, 212, 332, 169, 16, 207...   \n",
       "18121  [151, 226, 208, 128, 217, 154, 162, 119, 284, ...   \n",
       "18122  [342, 89, 50, 131, 292, 29, 99, 157, 92, 326, ...   \n",
       "\n",
       "                                           hist_keywords  \\\n",
       "0      [17918, 22816, 19660, 131, 7978, 12224, 11696,...   \n",
       "1      [2786, 15902, 23340, 6224, 21455, 18659, 24277...   \n",
       "2      [6969, 15770, 18863, 7377, 21020, 7094, 5618, ...   \n",
       "3      [4881, 24208, 17969, 15615, 19652, 15133, 7043...   \n",
       "4      [5004, 21358, 1802, 24346, 5062, 17582, 22312,...   \n",
       "5      [4676, 9347, 21229, 16634, 27166, 16105, 19760...   \n",
       "6      [13963, 14859, 23139, 940, 24346, 19686, 5062,...   \n",
       "7      [16041, 22611, 7206, 14053, 22258, 1369, 1531,...   \n",
       "8      [20348, 13662, 20696, 10207, 22376, 7263, 2294...   \n",
       "9      [11450, 22984, 12834, 23733, 10350, 20613, 26617]   \n",
       "10     [6969, 26215, 15770, 5077, 17881, 208, 16183, ...   \n",
       "11     [8228, 2341, 9199, 19549, 1665, 2429, 26099, 2...   \n",
       "12     [10869, 11813, 23851, 21455, 7094, 24844, 2614...   \n",
       "13     [25486, 662, 11656, 17324, 25903, 12104, 9852,...   \n",
       "14     [15073, 23854, 18428, 17892, 3230, 3963, 126, ...   \n",
       "15              [18142, 2546, 24816, 9232, 19495, 18011]   \n",
       "16     [14687, 20235, 7933, 19410, 21731, 19559, 8828...   \n",
       "17     [26163, 24778, 3037, 763, 21368, 579, 18678, 2...   \n",
       "18     [1252, 26528, 24666, 764, 131, 13727, 6355, 17...   \n",
       "19     [5644, 16181, 3230, 10104, 11430, 16826, 4456,...   \n",
       "20     [16521, 5242, 15073, 23854, 2568, 13168, 21386...   \n",
       "21     [12224, 19660, 11696, 7941, 9680, 26000, 10254...   \n",
       "22     [17918, 26140, 1769, 23007, 5452, 5498, 22816,...   \n",
       "23     [12495, 19162, 22548, 15881, 3856, 12393, 1151...   \n",
       "24       [4641, 23318, 5663, 25007, 13691, 18428, 17892]   \n",
       "25     [12335, 25276, 17625, 27132, 11316, 547, 24619...   \n",
       "26     [22081, 11141, 11661, 9251, 26175, 13238, 3374...   \n",
       "27     [4199, 20448, 19399, 15770, 7193, 8974, 6003, ...   \n",
       "28     [12548, 22692, 4459, 4638, 22446, 1453, 19373,...   \n",
       "29     [1948, 25209, 3071, 9001, 10049, 21229, 219, 8...   \n",
       "...                                                  ...   \n",
       "18093  [12762, 24871, 7715, 26334, 18582, 8326, 2092,...   \n",
       "18094  [3361, 5062, 7095, 18234, 22312, 26215, 25007,...   \n",
       "18095  [22816, 131, 17918, 24390, 332, 4795, 16342, 1...   \n",
       "18096  [10572, 166, 25249, 14783, 21740, 11719, 24079...   \n",
       "18097  [25602, 16946, 219, 11866, 22450, 16616, 4123,...   \n",
       "18098  [18291, 17892, 18428, 22609, 13646, 11198, 254...   \n",
       "18099  [5252, 24549, 22366, 1706, 24043, 18786, 2436,...   \n",
       "18100  [10547, 11508, 26133, 9214, 2079, 24345, 14487...   \n",
       "18101  [7715, 26334, 219, 18568, 4123, 25209, 18457, ...   \n",
       "18102  [19064, 20448, 15476, 10459, 3601, 11358, 4240...   \n",
       "18103  [6969, 27119, 18234, 8974, 15770, 18863, 26215...   \n",
       "18104  [3436, 3963, 3230, 3377, 21177, 13630, 15324, ...   \n",
       "18105  [16406, 19609, 2573, 19950, 16162, 8445, 2273,...   \n",
       "18106  [22573, 26574, 20813, 12, 24385, 2092, 26007, ...   \n",
       "18107  [2899, 26241, 13374, 12365, 26099, 24111, 2302...   \n",
       "18108  [7692, 235, 11838, 3535, 21327, 2545, 22225, 8...   \n",
       "18109  [15571, 6902, 5606, 24255, 26508, 12797, 877, ...   \n",
       "18110  [431, 18292, 17472, 24532, 7085, 20649, 20057,...   \n",
       "18111  [11457, 26723, 23085, 818, 12950, 16587, 7735,...   \n",
       "18112  [6297, 25995, 26673, 26486, 7978, 2438, 7144, ...   \n",
       "18113  [17249, 17391, 16205, 18428, 17892, 7732, 7694...   \n",
       "18114  [16854, 9604, 24427, 10284, 14859, 23139, 7098...   \n",
       "18115  [2990, 26617, 877, 2429, 26099, 5077, 17881, 2...   \n",
       "18116  [27219, 25995, 26486, 13350, 22816, 131, 8223,...   \n",
       "18117  [13074, 25852, 8696, 2535, 23242, 11696, 18598...   \n",
       "18118  [22712, 2785, 4831, 9073, 24874, 13003, 15073,...   \n",
       "18119  [10869, 11813, 21455, 26140, 14412, 23473, 248...   \n",
       "18120  [767, 5187, 2643, 7134, 8593, 13691, 23626, 24...   \n",
       "18121  [20613, 19764, 15476, 18116, 9959, 23763, 2545...   \n",
       "18122  [25209, 13615, 15438, 13181, 5109, 17426, 1967...   \n",
       "\n",
       "                                   hist_keywords_weights  \\\n",
       "0      {'17918': 0.3770519071810268, '22816': 0.35289...   \n",
       "1      {'2786': 0.34337765959725347, '15902': 0.24686...   \n",
       "2      {'6969': 0.23972037974277463, '15770': 0.20679...   \n",
       "3      {'4881': 0.30548319466768925, '24208': 0.29837...   \n",
       "4      {'5004': 0.47923891424426807, '21358': 0.40477...   \n",
       "5      {'4676': 0.3141158787154243, '9347': 0.2808933...   \n",
       "6      {'13963': 0.5451843583182836, '14859': 0.39204...   \n",
       "7      {'16041': 0.2881098855028171, '22611': 0.27423...   \n",
       "8      {'20348': 0.475670222692859, '13662': 0.435444...   \n",
       "9      {'11450': 0.4909129908390098, '22984': 0.47798...   \n",
       "10     {'6969': 0.21299522676706678, '26215': 0.20885...   \n",
       "11     {'8228': 0.49812656678257256, '2341': 0.387098...   \n",
       "12     {'10869': 0.4803394852948886, '11813': 0.33785...   \n",
       "13     {'25486': 0.23132953134099596, '662': 0.188049...   \n",
       "14     {'15073': 0.5500564233435989, '23854': 0.46945...   \n",
       "15     {'18142': 0.5682212698714959, '2546': 0.565908...   \n",
       "16     {'14687': 0.2144782910678956, '20235': 0.19120...   \n",
       "17     {'26163': 0.30825363511087334, '24778': 0.2980...   \n",
       "18     {'1252': 0.41014568029265774, '26528': 0.34683...   \n",
       "19     {'5644': 0.27487513036565014, '16181': 0.23386...   \n",
       "20     {'16521': 0.42230902999962, '5242': 0.38868722...   \n",
       "21     {'12224': 0.5533172870617328, '19660': 0.53105...   \n",
       "22     {'17918': 0.23445618613246616, '26140': 0.2332...   \n",
       "23     {'12495': 0.43362570045651627, '19162': 0.3678...   \n",
       "24     {'4641': 0.678685478221686, '23318': 0.5281578...   \n",
       "25     {'12335': 0.2706565754438637, '25276': 0.23038...   \n",
       "26     {'22081': 0.2603423530243745, '11141': 0.24382...   \n",
       "27     {'4199': 0.2162711121875169, '20448': 0.197709...   \n",
       "28     {'12548': 0.2544361212877904, '22692': 0.24341...   \n",
       "29     {'1948': 0.21863752400889067, '25209': 0.21491...   \n",
       "...                                                  ...   \n",
       "18093  {'12762': 0.5184620464541845, '24871': 0.48181...   \n",
       "18094  {'3361': 0.5460426974033694, '5062': 0.3609606...   \n",
       "18095  {'22816': 0.42838218853420346, '131': 0.411116...   \n",
       "18096  {'10572': 0.37869961731328794, '166': 0.332843...   \n",
       "18097  {'25602': 0.16375687000272374, '16946': 0.1597...   \n",
       "18098  {'18291': 0.30292515287117755, '17892': 0.2874...   \n",
       "18099  {'5252': 0.3232233362370624, '24549': 0.252086...   \n",
       "18100  {'10547': 0.34965945655847064, '11508': 0.3496...   \n",
       "18101  {'7715': 0.27986656396570414, '26334': 0.26308...   \n",
       "18102  {'19064': 0.47351833417087286, '20448': 0.4144...   \n",
       "18103  {'6969': 0.23237355162901244, '27119': 0.18766...   \n",
       "18104  {'3436': 0.29750255568154876, '3963': 0.294088...   \n",
       "18105  {'16406': 0.2874961124439448, '19609': 0.28620...   \n",
       "18106  {'22573': 0.34366329701654036, '26574': 0.2820...   \n",
       "18107  {'2899': 0.4112410308428863, '26241': 0.338478...   \n",
       "18108  {'7692': 0.4688416788755161, '235': 0.35096780...   \n",
       "18109  {'15571': 0.46844893883059935, '6902': 0.38474...   \n",
       "18110  {'431': 0.2260941543860714, '18292': 0.1939304...   \n",
       "18111  {'11457': 0.4553928917681839, '26723': 0.42550...   \n",
       "18112  {'6297': 0.182206347249467, '25995': 0.1466069...   \n",
       "18113  {'17249': 0.3973164276891493, '17391': 0.35456...   \n",
       "18114  {'16854': 0.48293497065462276, '9604': 0.48293...   \n",
       "18115  {'2990': 0.4474510788413303, '26617': 0.368423...   \n",
       "18116  {'27219': 0.19676023734627984, '25995': 0.1816...   \n",
       "18117  {'13074': 0.46242524000567975, '25852': 0.3700...   \n",
       "18118  {'22712': 0.3954517846619528, '2785': 0.367427...   \n",
       "18119  {'10869': 0.5127883136860724, '11813': 0.38604...   \n",
       "18120  {'767': 0.7234395642423621, '5187': 0.37856555...   \n",
       "18121  {'20613': 0.20093403829587853, '19764': 0.1607...   \n",
       "18122  {'25209': 0.21675566062106022, '13615': 0.1806...   \n",
       "\n",
       "                                             tag_weights  \n",
       "0      {'339': 0.4666739187470669, '28': 0.2877431080...  \n",
       "1      {'42': 0.26569851068585965, '309': 0.263572362...  \n",
       "2      {'302': 0.30492043900991217, '115': 0.28752518...  \n",
       "3      {'156': 0.49653632099255307, '317': 0.38988590...  \n",
       "4      {'64': 0.4944578167192278, '88': 0.44175065243...  \n",
       "5      {'29': 0.5081459864141487, '289': 0.3866033015...  \n",
       "6      {'69': 0.5517487833771282, '11': 0.54824390003...  \n",
       "7      {'119': 0.29297376653059876, '38': 0.277802350...  \n",
       "8      {'214': 0.48960772731668667, '11': 0.471198259...  \n",
       "9      {'98': 0.6460351038440703, '332': 0.4363612866...  \n",
       "10     {'282': 0.30844507823739753, '107': 0.30344425...  \n",
       "11     {'65': 0.7550961130730067, '240': 0.4550730142...  \n",
       "12     {'186': 0.2902295889297806, '327': 0.230750929...  \n",
       "13     {'193': 0.4970228755348907, '104': 0.378166318...  \n",
       "14     {'306': 0.4984549711533564, '260': 0.458564838...  \n",
       "15     {'26': 0.6777102105519358, '270': 0.5192638454...  \n",
       "16     {'42': 0.30628305329494127, '26': 0.3014676809...  \n",
       "17     {'178': 0.529664020079547, '130': 0.3780320950...  \n",
       "18     {'228': 0.6806820587160315, '12': 0.5904524289...  \n",
       "19     {'64': 0.46606850496512, '214': 0.388503552426...  \n",
       "20     {'341': 0.801505766211825, '118': 0.3345026416...  \n",
       "21     {'326': 0.42311095549112354, '100': 0.42157228...  \n",
       "22     {'100': 0.3013892046748137, '132': 0.299222657...  \n",
       "23     {'98': 0.4958499548861041, '49': 0.44639528268...  \n",
       "24     {'11': 0.666263731518553, '220': 0.40151334753...  \n",
       "25     {'259': 0.36972438180222345, '250': 0.32811682...  \n",
       "26     {'65': 0.509622301187043, '45': 0.370028941245...  \n",
       "27     {'339': 0.42264155536681147, '117': 0.26606917...  \n",
       "28     {'213': 0.4158947525260316, '216': 0.376316632...  \n",
       "29     {'300': 0.4179460926467684, '94': 0.2890017249...  \n",
       "...                                                  ...  \n",
       "18093  {'81': 0.6653483798303914, '269': 0.5587698013...  \n",
       "18094  {'88': 0.7801682010857464, '19': 0.56113101892...  \n",
       "18095  {'199': 0.24032760461280966, '295': 0.23812830...  \n",
       "18096  {'284': 0.646191428418807, '247': 0.5036571003...  \n",
       "18097  {'137': 0.3586881866519679, '309': 0.286299567...  \n",
       "18098  {'228': 0.5013203785297417, '12': 0.4348665157...  \n",
       "18099  {'15': 0.5225501833526663, '65': 0.48299291881...  \n",
       "18100  {'163': 0.5644706286148892, '341': 0.481149383...  \n",
       "18101  {'153': 0.3907744597109985, '319': 0.289233146...  \n",
       "18102  {'170': 0.664663145278229, '239': 0.5672018389...  \n",
       "18103  {'193': 0.3146164343860747, '323': 0.264348556...  \n",
       "18104  {'38': 0.6001599926431163, '211': 0.4355754955...  \n",
       "18105  {'243': 0.5261343729851532, '152': 0.386120753...  \n",
       "18106  {'272': 0.463972113423423, '67': 0.37973255113...  \n",
       "18107  {'302': 0.630968147456833, '120': 0.3366031781...  \n",
       "18108  {'194': 0.6944757830486621, '328': 0.347750066...  \n",
       "18109  {'291': 0.5676704209331033, '234': 0.399205246...  \n",
       "18110  {'4': 0.4523661100441407, '310': 0.41689318109...  \n",
       "18111  {'247': 0.6314474676044148, '83': 0.4971790877...  \n",
       "18112  {'42': 0.2527505953088143, '343': 0.2507280575...  \n",
       "18113  {'221': 0.435762754443036, '118': 0.3564329831...  \n",
       "18114  {'29': 0.632408990804561, '69': 0.475447017305...  \n",
       "18115  {'332': 0.76786045532728, '16': 0.639811984043...  \n",
       "18116  {'34': 0.3597709705286656, '215': 0.3576269435...  \n",
       "18117  {'332': 0.6845949196313904, '16': 0.5704318157...  \n",
       "18118  {'99': 0.6823197053475295, '268': 0.4391865567...  \n",
       "18119  {'352': 0.32038798008388475, '60': 0.276904705...  \n",
       "18120  {'98': 0.40305315656110197, '49': 0.3628537745...  \n",
       "18121  {'151': 0.3135835388716072, '226': 0.258096125...  \n",
       "18122  {'342': 0.26420196850011674, '89': 0.223559313...  \n",
       "\n",
       "[18123 rows x 6 columns]"
      ]
     },
     "execution_count": 116,
     "metadata": {},
     "output_type": "execute_result"
    }
   ],
   "source": [
    "user_interested_df"
   ]
  },
  {
   "cell_type": "code",
   "execution_count": 117,
   "metadata": {
    "colab": {
     "background_save": true
    },
    "id": "ADSmF5-3TujX"
   },
   "outputs": [
    {
     "name": "stdout",
     "output_type": "stream",
     "text": [
      "Index(['userid', 'device'], dtype='object')\n"
     ]
    }
   ],
   "source": [
    "user_id_unique_df = user_action_df.groupby('userid')['device'].min().reset_index()\n",
    "print(user_id_unique_df.columns)"
   ]
  },
  {
   "cell_type": "code",
   "execution_count": 118,
   "metadata": {
    "colab": {
     "background_save": true
    },
    "id": "ebe4Wlayb8Zd"
   },
   "outputs": [],
   "source": [
    "user_interest_df = pd.merge(user_id_unique_df, user_interested_df, on='userid', how='left')"
   ]
  },
  {
   "cell_type": "code",
   "execution_count": null,
   "metadata": {
    "colab": {
     "background_save": true
    },
    "id": "A5A8bWkcc0eD",
    "outputId": "b8d72ed5-c416-4cd0-d307-f36d78bfcad4"
   },
   "outputs": [
    {
     "data": {
      "text/html": [
       "<div>\n",
       "<style scoped>\n",
       "    .dataframe tbody tr th:only-of-type {\n",
       "        vertical-align: middle;\n",
       "    }\n",
       "\n",
       "    .dataframe tbody tr th {\n",
       "        vertical-align: top;\n",
       "    }\n",
       "\n",
       "    .dataframe thead th {\n",
       "        text-align: right;\n",
       "    }\n",
       "</style>\n",
       "<table border=\"1\" class=\"dataframe\">\n",
       "  <thead>\n",
       "    <tr style=\"text-align: right;\">\n",
       "      <th></th>\n",
       "      <th>userid</th>\n",
       "      <th>device</th>\n",
       "      <th>keyword_list</th>\n",
       "      <th>tag_list</th>\n",
       "      <th>hist_keywords</th>\n",
       "      <th>hist_keywords_weights</th>\n",
       "      <th>tag_weights</th>\n",
       "    </tr>\n",
       "  </thead>\n",
       "  <tbody>\n",
       "    <tr>\n",
       "      <th>0</th>\n",
       "      <td>8</td>\n",
       "      <td>1</td>\n",
       "      <td>[9680, 7978, 6355, 131, 14546, 22816, 17918, 2...</td>\n",
       "      <td>[41, 228, 12, 202, 266, 100, 23, 157, 340, 339...</td>\n",
       "      <td>[17918, 22816, 19660, 131, 7978, 12224, 11696,...</td>\n",
       "      <td>{'17918': 0.3770519071810268, '22816': 0.35289...</td>\n",
       "      <td>{'41': 0.47123872627268903, '228': 0.455873984...</td>\n",
       "    </tr>\n",
       "    <tr>\n",
       "      <th>1</th>\n",
       "      <td>12</td>\n",
       "      <td>2</td>\n",
       "      <td>[7095, 8120, 18863, 6344, 6969, 9709, 13338, 1...</td>\n",
       "      <td>[328, 13, 66, 239, 170, 16, 169, 267, 212, 191...</td>\n",
       "      <td>[2786, 15902, 23340, 6224, 21455, 18659, 24277...</td>\n",
       "      <td>{'2786': 0.34337765959725347, '15902': 0.24686...</td>\n",
       "      <td>{'328': 0.5025362696536249, '13': 0.4173037037...</td>\n",
       "    </tr>\n",
       "    <tr>\n",
       "      <th>2</th>\n",
       "      <td>13</td>\n",
       "      <td>2</td>\n",
       "      <td>[3963, 7377, 18863, 412, 6969, 2451, 6934, 131...</td>\n",
       "      <td>[170, 239, 169, 328, 213, 13, 192, 267, 191, 1...</td>\n",
       "      <td>[6969, 15770, 18863, 7377, 21020, 7094, 5618, ...</td>\n",
       "      <td>{'6969': 0.23972037974277463, '15770': 0.20679...</td>\n",
       "      <td>{'170': 0.4383352051520778, '239': 0.436404453...</td>\n",
       "    </tr>\n",
       "    <tr>\n",
       "      <th>3</th>\n",
       "      <td>25</td>\n",
       "      <td>2</td>\n",
       "      <td>[17370, 7043, 15615, 15133, 14535, 7094, 24208...</td>\n",
       "      <td>[156, 192, 317, 125, 101, 221, 9, 220, 328, 17...</td>\n",
       "      <td>[4881, 24208, 17969, 15615, 19652, 15133, 7043...</td>\n",
       "      <td>{'4881': 0.30548319466768925, '24208': 0.29837...</td>\n",
       "      <td>{'156': 0.4434659960939803, '192': 0.434737723...</td>\n",
       "    </tr>\n",
       "    <tr>\n",
       "      <th>4</th>\n",
       "      <td>37</td>\n",
       "      <td>1</td>\n",
       "      <td>NaN</td>\n",
       "      <td>NaN</td>\n",
       "      <td>NaN</td>\n",
       "      <td>NaN</td>\n",
       "      <td>NaN</td>\n",
       "    </tr>\n",
       "    <tr>\n",
       "      <th>...</th>\n",
       "      <td>...</td>\n",
       "      <td>...</td>\n",
       "      <td>...</td>\n",
       "      <td>...</td>\n",
       "      <td>...</td>\n",
       "      <td>...</td>\n",
       "      <td>...</td>\n",
       "    </tr>\n",
       "    <tr>\n",
       "      <th>19995</th>\n",
       "      <td>250207</td>\n",
       "      <td>2</td>\n",
       "      <td>[7095, 8120, 18863, 6344, 6969, 9709, 13338, 1...</td>\n",
       "      <td>[328, 13, 100, 192, 61, 267, 14, 23, 202, 191,...</td>\n",
       "      <td>[10869, 11813, 21455, 26140, 14412, 23473, 248...</td>\n",
       "      <td>{'10869': 0.5127883136860724, '11813': 0.38604...</td>\n",
       "      <td>{'328': 0.6407291365906322, '13': 0.5320583964...</td>\n",
       "    </tr>\n",
       "    <tr>\n",
       "      <th>19996</th>\n",
       "      <td>250221</td>\n",
       "      <td>2</td>\n",
       "      <td>[20736, 10350, 17098, 2429, 7732, 23733, 7095,...</td>\n",
       "      <td>[170, 169, 239, 212, 98, 49, 340, 10, 235, 332...</td>\n",
       "      <td>[767, 5187, 2643, 7134, 8593, 13691, 23626, 24...</td>\n",
       "      <td>{'767': 0.7234395642423621, '5187': 0.37856555...</td>\n",
       "      <td>{'170': 0.5257610111061418, '169': 0.512445982...</td>\n",
       "    </tr>\n",
       "    <tr>\n",
       "      <th>19997</th>\n",
       "      <td>250224</td>\n",
       "      <td>2</td>\n",
       "      <td>[3027, 19320, 5004, 17582, 21358, 8800, 1371, ...</td>\n",
       "      <td>[98, 267, 11, 239, 49, 169, 88, 207, 45, 19, 1...</td>\n",
       "      <td>[20613, 19764, 15476, 18116, 9959, 23763, 2545...</td>\n",
       "      <td>{'20613': 0.20093403829587853, '19764': 0.1607...</td>\n",
       "      <td>{'98': 0.371188774554157, '267': 0.24168053824...</td>\n",
       "    </tr>\n",
       "    <tr>\n",
       "      <th>19998</th>\n",
       "      <td>250229</td>\n",
       "      <td>1</td>\n",
       "      <td>NaN</td>\n",
       "      <td>NaN</td>\n",
       "      <td>NaN</td>\n",
       "      <td>NaN</td>\n",
       "      <td>NaN</td>\n",
       "    </tr>\n",
       "    <tr>\n",
       "      <th>19999</th>\n",
       "      <td>250236</td>\n",
       "      <td>2</td>\n",
       "      <td>[131, 22816, 14546, 17918, 3608, 21071, 13350,...</td>\n",
       "      <td>[234, 291, 268, 292, 289, 92, 342, 219, 101, 3...</td>\n",
       "      <td>[25209, 13615, 15438, 13181, 5109, 17426, 1967...</td>\n",
       "      <td>{'25209': 0.21675566062106022, '13615': 0.1806...</td>\n",
       "      <td>{'234': 0.5208360058072279, '291': 0.308595637...</td>\n",
       "    </tr>\n",
       "  </tbody>\n",
       "</table>\n",
       "<p>20000 rows × 7 columns</p>\n",
       "</div>"
      ],
      "text/plain": [
       "       userid  ...                                        tag_weights\n",
       "0           8  ...  {'41': 0.47123872627268903, '228': 0.455873984...\n",
       "1          12  ...  {'328': 0.5025362696536249, '13': 0.4173037037...\n",
       "2          13  ...  {'170': 0.4383352051520778, '239': 0.436404453...\n",
       "3          25  ...  {'156': 0.4434659960939803, '192': 0.434737723...\n",
       "4          37  ...                                                NaN\n",
       "...       ...  ...                                                ...\n",
       "19995  250207  ...  {'328': 0.6407291365906322, '13': 0.5320583964...\n",
       "19996  250221  ...  {'170': 0.5257610111061418, '169': 0.512445982...\n",
       "19997  250224  ...  {'98': 0.371188774554157, '267': 0.24168053824...\n",
       "19998  250229  ...                                                NaN\n",
       "19999  250236  ...  {'234': 0.5208360058072279, '291': 0.308595637...\n",
       "\n",
       "[20000 rows x 7 columns]"
      ]
     },
     "execution_count": 0,
     "metadata": {
      "tags": []
     },
     "output_type": "execute_result"
    }
   ],
   "source": [
    "user_interest_df"
   ]
  },
  {
   "cell_type": "code",
   "execution_count": 119,
   "metadata": {
    "colab": {
     "background_save": true
    },
    "id": "vQv3wi9XcapL"
   },
   "outputs": [],
   "source": [
    "user_interest_df.drop(columns=['keyword_list'], inplace=True)"
   ]
  },
  {
   "cell_type": "code",
   "execution_count": 120,
   "metadata": {
    "colab": {
     "background_save": true
    },
    "id": "pGp84JHogXU0"
   },
   "outputs": [],
   "source": [
    "user_interest_df.rename(columns={'tag_list': 'hist_tag', 'tag_weights': 'hist_tag_weights'}, inplace=True)"
   ]
  },
  {
   "cell_type": "code",
   "execution_count": 121,
   "metadata": {
    "colab": {
     "background_save": true
    },
    "id": "abNssF1-dZvQ"
   },
   "outputs": [],
   "source": [
    "user_interest_df.drop(columns=['device'], inplace=True)"
   ]
  },
  {
   "cell_type": "code",
   "execution_count": 122,
   "metadata": {
    "colab": {
     "background_save": true
    },
    "id": "UpgT9_yUR5Jq"
   },
   "outputs": [],
   "source": [
    "user_interest_df['hist_tag'] = user_interest_df['hist_tag'].apply(lambda x: x if type(x) != float else [])"
   ]
  },
  {
   "cell_type": "code",
   "execution_count": 123,
   "metadata": {
    "colab": {
     "background_save": true
    },
    "id": "KL9I4kdftDZk"
   },
   "outputs": [],
   "source": [
    "user_interest_df['hist_keywords'] = user_interest_df['hist_keywords'].apply(lambda x: x if type(x) != float else [])"
   ]
  },
  {
   "cell_type": "code",
   "execution_count": 124,
   "metadata": {
    "colab": {
     "background_save": true
    },
    "id": "nU-2ZUntEJAj"
   },
   "outputs": [],
   "source": [
    "user_interest_df['hist_keywords_weights'] = user_interest_df['hist_keywords_weights'].apply(lambda x: x if type(x) != float else {})"
   ]
  },
  {
   "cell_type": "code",
   "execution_count": 125,
   "metadata": {
    "colab": {
     "background_save": true
    },
    "id": "iKb4OvW0Z8z5"
   },
   "outputs": [],
   "source": [
    "user_interest_df['hist_tag_weights'] = user_interest_df['hist_tag_weights'].apply(lambda x: x if type(x) != float else {})"
   ]
  },
  {
   "cell_type": "code",
   "execution_count": 128,
   "metadata": {},
   "outputs": [
    {
     "name": "stdout",
     "output_type": "stream",
     "text": [
      "Index(['userid', 'hist_tag', 'hist_keywords', 'hist_keywords_weights',\n",
      "       'hist_tag_weights'],\n",
      "      dtype='object')\n"
     ]
    }
   ],
   "source": [
    "print(user_interest_df.columns)"
   ]
  },
  {
   "cell_type": "code",
   "execution_count": 129,
   "metadata": {
    "colab": {
     "background_save": true
    },
    "id": "4HGIYuIVuODg"
   },
   "outputs": [],
   "source": [
    "import pickle\n",
    "with open(\"user_interest.pkl\",'wb') as file:\n",
    "\tpickle.dump(user_interest_df,file)"
   ]
  },
  {
   "cell_type": "code",
   "execution_count": 130,
   "metadata": {
    "colab": {
     "background_save": true
    },
    "id": "-cBTRDgLvU5D"
   },
   "outputs": [],
   "source": [
    "with open('user_interest.pkl', 'rb') as file:\n",
    "\tnew_df =pickle.load(file)"
   ]
  },
  {
   "cell_type": "code",
   "execution_count": 131,
   "metadata": {
    "colab": {
     "background_save": true
    },
    "id": "MhdZW09XQRKS",
    "outputId": "d0d30b85-39a9-4a71-ae77-68207da448d4"
   },
   "outputs": [
    {
     "data": {
      "text/plain": [
       "Index(['feedid', 'authorid', 'videoplayseconds', 'bgm_song_id',\n",
       "       'bgm_singer_id', 'author_n_feeds', 'videolength_bucket',\n",
       "       'feed_embedding', 'tag_list', 'keyword_list', 'embedding_0',\n",
       "       'embedding_1', 'embedding_2', 'embedding_3', 'embedding_4',\n",
       "       'embedding_5', 'embedding_6', 'embedding_7', 'embedding_8',\n",
       "       'embedding_9', 'embedding_10', 'embedding_11', 'embedding_12',\n",
       "       'embedding_13', 'embedding_14', 'embedding_15', 'embedding_16',\n",
       "       'embedding_17', 'embedding_18', 'embedding_19', 'embedding_20',\n",
       "       'embedding_21', 'embedding_22', 'embedding_23', 'embedding_24',\n",
       "       'embedding_25', 'embedding_26', 'embedding_27', 'embedding_28',\n",
       "       'embedding_29', 'embedding_30', 'embedding_31'],\n",
       "      dtype='object')"
      ]
     },
     "execution_count": 131,
     "metadata": {},
     "output_type": "execute_result"
    }
   ],
   "source": [
    "feed_info_modified_df.columns"
   ]
  },
  {
   "cell_type": "code",
   "execution_count": 132,
   "metadata": {
    "id": "9c84pmpLSV1x"
   },
   "outputs": [],
   "source": [
    "feed_info_modified_df['videolength_bucket'] = feed_info_modified_df['videolength_bucket'].apply(lambda x: x if x < 8 else 7)"
   ]
  },
  {
   "cell_type": "code",
   "execution_count": 133,
   "metadata": {
    "id": "C-pT0vadSV43"
   },
   "outputs": [
    {
     "data": {
      "text/plain": [
       "<matplotlib.axes._subplots.AxesSubplot at 0x19dac016a58>"
      ]
     },
     "execution_count": 133,
     "metadata": {},
     "output_type": "execute_result"
    }
   ],
   "source": [
    "feed_info_modified_df['author_n_feeds'].hist(bins=200)"
   ]
  },
  {
   "cell_type": "code",
   "execution_count": 134,
   "metadata": {
    "id": "UI_XRyrWSV60"
   },
   "outputs": [
    {
     "ename": "AttributeError",
     "evalue": "module 'seaborn' has no attribute 'displot'",
     "output_type": "error",
     "traceback": [
      "\u001b[1;31m---------------------------------------------------------------------------\u001b[0m",
      "\u001b[1;31mAttributeError\u001b[0m                            Traceback (most recent call last)",
      "\u001b[1;32m<ipython-input-134-f0a67718943f>\u001b[0m in \u001b[0;36m<module>\u001b[1;34m()\u001b[0m\n\u001b[0;32m      3\u001b[0m \u001b[1;33m\u001b[0m\u001b[0m\n\u001b[0;32m      4\u001b[0m \u001b[0mfeed_info_modified_df\u001b[0m\u001b[1;33m[\u001b[0m\u001b[1;34m'author_n_feeds_bucket'\u001b[0m\u001b[1;33m]\u001b[0m \u001b[1;33m=\u001b[0m \u001b[0mround\u001b[0m\u001b[1;33m(\u001b[0m\u001b[0mnp\u001b[0m\u001b[1;33m.\u001b[0m\u001b[0mlog\u001b[0m\u001b[1;33m(\u001b[0m\u001b[0mfeed_info_modified_df\u001b[0m\u001b[1;33m[\u001b[0m\u001b[1;34m'author_n_feeds'\u001b[0m\u001b[1;33m]\u001b[0m\u001b[1;33m)\u001b[0m\u001b[1;33m)\u001b[0m\u001b[1;33m\u001b[0m\u001b[0m\n\u001b[1;32m----> 5\u001b[1;33m \u001b[0msns\u001b[0m\u001b[1;33m.\u001b[0m\u001b[0mdisplot\u001b[0m\u001b[1;33m(\u001b[0m\u001b[0mfeed_info_modified_df\u001b[0m\u001b[1;33m[\u001b[0m\u001b[1;34m'author_n_feeds_bucket'\u001b[0m\u001b[1;33m]\u001b[0m\u001b[1;33m)\u001b[0m\u001b[1;33m\u001b[0m\u001b[0m\n\u001b[0m\u001b[0;32m      6\u001b[0m \u001b[0mplt\u001b[0m\u001b[1;33m.\u001b[0m\u001b[0mtitle\u001b[0m\u001b[1;33m(\u001b[0m\u001b[1;34m'author_n_feed distribution'\u001b[0m\u001b[1;33m)\u001b[0m\u001b[1;33m\u001b[0m\u001b[0m\n",
      "\u001b[1;31mAttributeError\u001b[0m: module 'seaborn' has no attribute 'displot'"
     ]
    }
   ],
   "source": [
    "import seaborn as sns\n",
    "from matplotlib import pyplot as plt\n",
    "\n",
    "feed_info_modified_df['author_n_feeds_bucket'] = round(np.log(feed_info_modified_df['author_n_feeds']))\n",
    "sns.displot(feed_info_modified_df['author_n_feeds_bucket'])\n",
    "plt.title('author_n_feed distribution')"
   ]
  },
  {
   "cell_type": "code",
   "execution_count": 135,
   "metadata": {
    "id": "JeSRNmVG6jKG"
   },
   "outputs": [],
   "source": [
    "with open(\"feed_info_modified2.pkl\",'wb') as file:\n",
    "\tpickle.dump(feed_info_modified_df, file)"
   ]
  },
  {
   "cell_type": "code",
   "execution_count": 136,
   "metadata": {
    "colab": {
     "background_save": true
    },
    "id": "eMlaA21FHGS5"
   },
   "outputs": [],
   "source": [
    "user_watch_sum_df = user_action_df.groupby('userid')['feedid'].nunique().reset_index()"
   ]
  },
  {
   "cell_type": "code",
   "execution_count": 137,
   "metadata": {
    "id": "fcsGrAwWGEjV"
   },
   "outputs": [],
   "source": [
    "user_stay_sum_df = user_action_df.groupby('userid')['stay'].sum().reset_index()"
   ]
  },
  {
   "cell_type": "code",
   "execution_count": 138,
   "metadata": {
    "colab": {
     "base_uri": "https://localhost:8080/",
     "height": 402
    },
    "executionInfo": {
     "elapsed": 1003,
     "status": "ok",
     "timestamp": 1624594138909,
     "user": {
      "displayName": "Qing Li",
      "photoUrl": "",
      "userId": "14621704085933727451"
     },
     "user_tz": -480
    },
    "id": "rE3UCYSoWqGW",
    "outputId": "adf5c28f-c861-44c1-b61b-b1d35c384954"
   },
   "outputs": [
    {
     "ename": "AttributeError",
     "evalue": "module 'seaborn' has no attribute 'displot'",
     "output_type": "error",
     "traceback": [
      "\u001b[1;31m---------------------------------------------------------------------------\u001b[0m",
      "\u001b[1;31mAttributeError\u001b[0m                            Traceback (most recent call last)",
      "\u001b[1;32m<ipython-input-138-4569c80278a9>\u001b[0m in \u001b[0;36m<module>\u001b[1;34m()\u001b[0m\n\u001b[0;32m      1\u001b[0m \u001b[1;31m# 用户总的观看数目，是不是可以用来分桶处理呢\u001b[0m\u001b[1;33m\u001b[0m\u001b[1;33m\u001b[0m\u001b[0m\n\u001b[1;32m----> 2\u001b[1;33m \u001b[0msns\u001b[0m\u001b[1;33m.\u001b[0m\u001b[0mdisplot\u001b[0m\u001b[1;33m(\u001b[0m\u001b[0muser_watch_sum_df\u001b[0m\u001b[1;33m[\u001b[0m\u001b[1;34m'feedid'\u001b[0m\u001b[1;33m]\u001b[0m\u001b[1;33m)\u001b[0m\u001b[1;33m\u001b[0m\u001b[0m\n\u001b[0m\u001b[0;32m      3\u001b[0m \u001b[0mplt\u001b[0m\u001b[1;33m.\u001b[0m\u001b[0mtitle\u001b[0m\u001b[1;33m(\u001b[0m\u001b[1;34m'user_watch_sum distribution'\u001b[0m\u001b[1;33m)\u001b[0m\u001b[1;33m\u001b[0m\u001b[0m\n",
      "\u001b[1;31mAttributeError\u001b[0m: module 'seaborn' has no attribute 'displot'"
     ]
    }
   ],
   "source": [
    "# 用户总的观看数目，是不是可以用来分桶处理呢\n",
    "sns.displot(user_watch_sum_df['feedid'])\n",
    "plt.title('user_watch_sum distribution')"
   ]
  },
  {
   "cell_type": "code",
   "execution_count": 139,
   "metadata": {
    "id": "VSeLn2R0XcSS"
   },
   "outputs": [
    {
     "ename": "AttributeError",
     "evalue": "module 'seaborn' has no attribute 'displot'",
     "output_type": "error",
     "traceback": [
      "\u001b[1;31m---------------------------------------------------------------------------\u001b[0m",
      "\u001b[1;31mAttributeError\u001b[0m                            Traceback (most recent call last)",
      "\u001b[1;32m<ipython-input-139-65f658376647>\u001b[0m in \u001b[0;36m<module>\u001b[1;34m()\u001b[0m\n\u001b[1;32m----> 1\u001b[1;33m \u001b[0msns\u001b[0m\u001b[1;33m.\u001b[0m\u001b[0mdisplot\u001b[0m\u001b[1;33m(\u001b[0m\u001b[1;36m1.2\u001b[0m\u001b[1;33m**\u001b[0m\u001b[1;33m(\u001b[0m\u001b[0muser_watch_sum_df\u001b[0m\u001b[1;33m[\u001b[0m\u001b[1;34m'feedid'\u001b[0m\u001b[1;33m]\u001b[0m\u001b[1;33m.\u001b[0m\u001b[0mmax\u001b[0m\u001b[1;33m(\u001b[0m\u001b[1;33m)\u001b[0m \u001b[1;33m+\u001b[0m \u001b[1;36m1\u001b[0m \u001b[1;33m-\u001b[0m \u001b[0muser_watch_sum_df\u001b[0m\u001b[1;33m[\u001b[0m\u001b[1;34m'feedid'\u001b[0m\u001b[1;33m]\u001b[0m\u001b[1;33m)\u001b[0m\u001b[1;33m)\u001b[0m\u001b[1;33m\u001b[0m\u001b[0m\n\u001b[0m\u001b[0;32m      2\u001b[0m \u001b[0mplt\u001b[0m\u001b[1;33m.\u001b[0m\u001b[0mtitle\u001b[0m\u001b[1;33m(\u001b[0m\u001b[1;34m'user_watch_log_sum distribution'\u001b[0m\u001b[1;33m)\u001b[0m\u001b[1;33m\u001b[0m\u001b[0m\n",
      "\u001b[1;31mAttributeError\u001b[0m: module 'seaborn' has no attribute 'displot'"
     ]
    }
   ],
   "source": [
    "sns.displot(1.2**(user_watch_sum_df['feedid'].max() + 1 - user_watch_sum_df['feedid']))\n",
    "plt.title('user_watch_log_sum distribution')"
   ]
  },
  {
   "cell_type": "code",
   "execution_count": 140,
   "metadata": {
    "colab": {
     "base_uri": "https://localhost:8080/",
     "height": 402
    },
    "executionInfo": {
     "elapsed": 1242,
     "status": "ok",
     "timestamp": 1624594208591,
     "user": {
      "displayName": "Qing Li",
      "photoUrl": "",
      "userId": "14621704085933727451"
     },
     "user_tz": -480
    },
    "id": "73GMEmRaWgQr",
    "outputId": "bebd64d0-5bb7-4477-e855-68cd0833a83a"
   },
   "outputs": [
    {
     "ename": "AttributeError",
     "evalue": "module 'seaborn' has no attribute 'displot'",
     "output_type": "error",
     "traceback": [
      "\u001b[1;31m---------------------------------------------------------------------------\u001b[0m",
      "\u001b[1;31mAttributeError\u001b[0m                            Traceback (most recent call last)",
      "\u001b[1;32m<ipython-input-140-12278f2478a3>\u001b[0m in \u001b[0;36m<module>\u001b[1;34m()\u001b[0m\n\u001b[0;32m      1\u001b[0m \u001b[1;31m# 用户停留时长总数，是不是也可以用来分桶呢\u001b[0m\u001b[1;33m\u001b[0m\u001b[1;33m\u001b[0m\u001b[0m\n\u001b[1;32m----> 2\u001b[1;33m \u001b[0msns\u001b[0m\u001b[1;33m.\u001b[0m\u001b[0mdisplot\u001b[0m\u001b[1;33m(\u001b[0m\u001b[0muser_stay_sum_df\u001b[0m\u001b[1;33m[\u001b[0m\u001b[1;34m'stay'\u001b[0m\u001b[1;33m]\u001b[0m\u001b[1;33m)\u001b[0m\u001b[1;33m\u001b[0m\u001b[0m\n\u001b[0m\u001b[0;32m      3\u001b[0m \u001b[0mplt\u001b[0m\u001b[1;33m.\u001b[0m\u001b[0mtitle\u001b[0m\u001b[1;33m(\u001b[0m\u001b[1;34m'user_stay_sum distribution'\u001b[0m\u001b[1;33m)\u001b[0m\u001b[1;33m\u001b[0m\u001b[0m\n",
      "\u001b[1;31mAttributeError\u001b[0m: module 'seaborn' has no attribute 'displot'"
     ]
    }
   ],
   "source": [
    "# 用户停留时长总数，是不是也可以用来分桶呢\n",
    "sns.displot(user_stay_sum_df['stay'])\n",
    "plt.title('user_stay_sum distribution')"
   ]
  },
  {
   "cell_type": "code",
   "execution_count": 141,
   "metadata": {
    "colab": {
     "base_uri": "https://localhost:8080/",
     "height": 402
    },
    "executionInfo": {
     "elapsed": 795,
     "status": "ok",
     "timestamp": 1624594421118,
     "user": {
      "displayName": "Qing Li",
      "photoUrl": "",
      "userId": "14621704085933727451"
     },
     "user_tz": -480
    },
    "id": "FLCHPvrwX15b",
    "outputId": "c21f02a0-3237-41eb-f20b-3683dc172693"
   },
   "outputs": [
    {
     "ename": "AttributeError",
     "evalue": "module 'seaborn' has no attribute 'displot'",
     "output_type": "error",
     "traceback": [
      "\u001b[1;31m---------------------------------------------------------------------------\u001b[0m",
      "\u001b[1;31mAttributeError\u001b[0m                            Traceback (most recent call last)",
      "\u001b[1;32m<ipython-input-141-5680a6b966ce>\u001b[0m in \u001b[0;36m<module>\u001b[1;34m()\u001b[0m\n\u001b[1;32m----> 1\u001b[1;33m \u001b[0msns\u001b[0m\u001b[1;33m.\u001b[0m\u001b[0mdisplot\u001b[0m\u001b[1;33m(\u001b[0m\u001b[0mnp\u001b[0m\u001b[1;33m.\u001b[0m\u001b[0mlog\u001b[0m\u001b[1;33m(\u001b[0m\u001b[0muser_stay_sum_df\u001b[0m\u001b[1;33m[\u001b[0m\u001b[1;34m'stay'\u001b[0m\u001b[1;33m]\u001b[0m\u001b[1;33m)\u001b[0m\u001b[1;33m)\u001b[0m\u001b[1;33m\u001b[0m\u001b[0m\n\u001b[0m\u001b[0;32m      2\u001b[0m \u001b[0mplt\u001b[0m\u001b[1;33m.\u001b[0m\u001b[0mtitle\u001b[0m\u001b[1;33m(\u001b[0m\u001b[1;34m'user_stay_log_sum distribution'\u001b[0m\u001b[1;33m)\u001b[0m\u001b[1;33m\u001b[0m\u001b[0m\n",
      "\u001b[1;31mAttributeError\u001b[0m: module 'seaborn' has no attribute 'displot'"
     ]
    }
   ],
   "source": [
    "sns.displot(np.log(user_stay_sum_df['stay']))\n",
    "plt.title('user_stay_log_sum distribution')"
   ]
  },
  {
   "cell_type": "code",
   "execution_count": 142,
   "metadata": {
    "colab": {
     "base_uri": "https://localhost:8080/",
     "height": 417
    },
    "executionInfo": {
     "elapsed": 322,
     "status": "ok",
     "timestamp": 1624594081287,
     "user": {
      "displayName": "Qing Li",
      "photoUrl": "",
      "userId": "14621704085933727451"
     },
     "user_tz": -480
    },
    "id": "9AHKXlQjWj-I",
    "outputId": "b9612e5a-0718-47dd-b6f4-cd15cfebfd61"
   },
   "outputs": [
    {
     "data": {
      "text/html": [
       "<div>\n",
       "<style scoped>\n",
       "    .dataframe tbody tr th:only-of-type {\n",
       "        vertical-align: middle;\n",
       "    }\n",
       "\n",
       "    .dataframe tbody tr th {\n",
       "        vertical-align: top;\n",
       "    }\n",
       "\n",
       "    .dataframe thead th {\n",
       "        text-align: right;\n",
       "    }\n",
       "</style>\n",
       "<table border=\"1\" class=\"dataframe\">\n",
       "  <thead>\n",
       "    <tr style=\"text-align: right;\">\n",
       "      <th></th>\n",
       "      <th>userid</th>\n",
       "      <th>stay</th>\n",
       "    </tr>\n",
       "  </thead>\n",
       "  <tbody>\n",
       "    <tr>\n",
       "      <th>0</th>\n",
       "      <td>8</td>\n",
       "      <td>1414.126</td>\n",
       "    </tr>\n",
       "    <tr>\n",
       "      <th>1</th>\n",
       "      <td>12</td>\n",
       "      <td>36224.720</td>\n",
       "    </tr>\n",
       "    <tr>\n",
       "      <th>2</th>\n",
       "      <td>13</td>\n",
       "      <td>6862.555</td>\n",
       "    </tr>\n",
       "    <tr>\n",
       "      <th>3</th>\n",
       "      <td>25</td>\n",
       "      <td>1098.564</td>\n",
       "    </tr>\n",
       "    <tr>\n",
       "      <th>4</th>\n",
       "      <td>37</td>\n",
       "      <td>18121.411</td>\n",
       "    </tr>\n",
       "    <tr>\n",
       "      <th>5</th>\n",
       "      <td>71</td>\n",
       "      <td>3618.812</td>\n",
       "    </tr>\n",
       "    <tr>\n",
       "      <th>6</th>\n",
       "      <td>76</td>\n",
       "      <td>10509.285</td>\n",
       "    </tr>\n",
       "    <tr>\n",
       "      <th>7</th>\n",
       "      <td>96</td>\n",
       "      <td>2805.687</td>\n",
       "    </tr>\n",
       "    <tr>\n",
       "      <th>8</th>\n",
       "      <td>99</td>\n",
       "      <td>7078.888</td>\n",
       "    </tr>\n",
       "    <tr>\n",
       "      <th>9</th>\n",
       "      <td>108</td>\n",
       "      <td>3973.201</td>\n",
       "    </tr>\n",
       "    <tr>\n",
       "      <th>10</th>\n",
       "      <td>129</td>\n",
       "      <td>17953.340</td>\n",
       "    </tr>\n",
       "    <tr>\n",
       "      <th>11</th>\n",
       "      <td>130</td>\n",
       "      <td>4524.783</td>\n",
       "    </tr>\n",
       "    <tr>\n",
       "      <th>12</th>\n",
       "      <td>135</td>\n",
       "      <td>7719.474</td>\n",
       "    </tr>\n",
       "    <tr>\n",
       "      <th>13</th>\n",
       "      <td>137</td>\n",
       "      <td>6370.218</td>\n",
       "    </tr>\n",
       "    <tr>\n",
       "      <th>14</th>\n",
       "      <td>154</td>\n",
       "      <td>6359.103</td>\n",
       "    </tr>\n",
       "    <tr>\n",
       "      <th>15</th>\n",
       "      <td>168</td>\n",
       "      <td>3410.767</td>\n",
       "    </tr>\n",
       "    <tr>\n",
       "      <th>16</th>\n",
       "      <td>172</td>\n",
       "      <td>14462.894</td>\n",
       "    </tr>\n",
       "    <tr>\n",
       "      <th>17</th>\n",
       "      <td>175</td>\n",
       "      <td>5945.721</td>\n",
       "    </tr>\n",
       "    <tr>\n",
       "      <th>18</th>\n",
       "      <td>179</td>\n",
       "      <td>12656.530</td>\n",
       "    </tr>\n",
       "    <tr>\n",
       "      <th>19</th>\n",
       "      <td>196</td>\n",
       "      <td>10640.240</td>\n",
       "    </tr>\n",
       "    <tr>\n",
       "      <th>20</th>\n",
       "      <td>200</td>\n",
       "      <td>1154.997</td>\n",
       "    </tr>\n",
       "    <tr>\n",
       "      <th>21</th>\n",
       "      <td>213</td>\n",
       "      <td>27627.903</td>\n",
       "    </tr>\n",
       "    <tr>\n",
       "      <th>22</th>\n",
       "      <td>237</td>\n",
       "      <td>5537.705</td>\n",
       "    </tr>\n",
       "    <tr>\n",
       "      <th>23</th>\n",
       "      <td>249</td>\n",
       "      <td>1517.209</td>\n",
       "    </tr>\n",
       "    <tr>\n",
       "      <th>24</th>\n",
       "      <td>252</td>\n",
       "      <td>18184.422</td>\n",
       "    </tr>\n",
       "    <tr>\n",
       "      <th>25</th>\n",
       "      <td>271</td>\n",
       "      <td>5762.872</td>\n",
       "    </tr>\n",
       "    <tr>\n",
       "      <th>26</th>\n",
       "      <td>273</td>\n",
       "      <td>591.846</td>\n",
       "    </tr>\n",
       "    <tr>\n",
       "      <th>27</th>\n",
       "      <td>275</td>\n",
       "      <td>5949.610</td>\n",
       "    </tr>\n",
       "    <tr>\n",
       "      <th>28</th>\n",
       "      <td>284</td>\n",
       "      <td>3953.064</td>\n",
       "    </tr>\n",
       "    <tr>\n",
       "      <th>29</th>\n",
       "      <td>307</td>\n",
       "      <td>14970.844</td>\n",
       "    </tr>\n",
       "    <tr>\n",
       "      <th>...</th>\n",
       "      <td>...</td>\n",
       "      <td>...</td>\n",
       "    </tr>\n",
       "    <tr>\n",
       "      <th>19970</th>\n",
       "      <td>249908</td>\n",
       "      <td>19047.527</td>\n",
       "    </tr>\n",
       "    <tr>\n",
       "      <th>19971</th>\n",
       "      <td>249911</td>\n",
       "      <td>6722.582</td>\n",
       "    </tr>\n",
       "    <tr>\n",
       "      <th>19972</th>\n",
       "      <td>249924</td>\n",
       "      <td>5268.585</td>\n",
       "    </tr>\n",
       "    <tr>\n",
       "      <th>19973</th>\n",
       "      <td>249934</td>\n",
       "      <td>4300.830</td>\n",
       "    </tr>\n",
       "    <tr>\n",
       "      <th>19974</th>\n",
       "      <td>249943</td>\n",
       "      <td>11319.250</td>\n",
       "    </tr>\n",
       "    <tr>\n",
       "      <th>19975</th>\n",
       "      <td>249990</td>\n",
       "      <td>18253.738</td>\n",
       "    </tr>\n",
       "    <tr>\n",
       "      <th>19976</th>\n",
       "      <td>249993</td>\n",
       "      <td>1893.597</td>\n",
       "    </tr>\n",
       "    <tr>\n",
       "      <th>19977</th>\n",
       "      <td>250007</td>\n",
       "      <td>14595.576</td>\n",
       "    </tr>\n",
       "    <tr>\n",
       "      <th>19978</th>\n",
       "      <td>250008</td>\n",
       "      <td>1122.300</td>\n",
       "    </tr>\n",
       "    <tr>\n",
       "      <th>19979</th>\n",
       "      <td>250024</td>\n",
       "      <td>12316.327</td>\n",
       "    </tr>\n",
       "    <tr>\n",
       "      <th>19980</th>\n",
       "      <td>250025</td>\n",
       "      <td>14063.419</td>\n",
       "    </tr>\n",
       "    <tr>\n",
       "      <th>19981</th>\n",
       "      <td>250069</td>\n",
       "      <td>22276.687</td>\n",
       "    </tr>\n",
       "    <tr>\n",
       "      <th>19982</th>\n",
       "      <td>250077</td>\n",
       "      <td>28550.485</td>\n",
       "    </tr>\n",
       "    <tr>\n",
       "      <th>19983</th>\n",
       "      <td>250079</td>\n",
       "      <td>2430.803</td>\n",
       "    </tr>\n",
       "    <tr>\n",
       "      <th>19984</th>\n",
       "      <td>250089</td>\n",
       "      <td>57490.696</td>\n",
       "    </tr>\n",
       "    <tr>\n",
       "      <th>19985</th>\n",
       "      <td>250090</td>\n",
       "      <td>16281.445</td>\n",
       "    </tr>\n",
       "    <tr>\n",
       "      <th>19986</th>\n",
       "      <td>250126</td>\n",
       "      <td>1441.443</td>\n",
       "    </tr>\n",
       "    <tr>\n",
       "      <th>19987</th>\n",
       "      <td>250129</td>\n",
       "      <td>35825.249</td>\n",
       "    </tr>\n",
       "    <tr>\n",
       "      <th>19988</th>\n",
       "      <td>250141</td>\n",
       "      <td>11202.040</td>\n",
       "    </tr>\n",
       "    <tr>\n",
       "      <th>19989</th>\n",
       "      <td>250142</td>\n",
       "      <td>2390.199</td>\n",
       "    </tr>\n",
       "    <tr>\n",
       "      <th>19990</th>\n",
       "      <td>250144</td>\n",
       "      <td>17613.974</td>\n",
       "    </tr>\n",
       "    <tr>\n",
       "      <th>19991</th>\n",
       "      <td>250160</td>\n",
       "      <td>9350.225</td>\n",
       "    </tr>\n",
       "    <tr>\n",
       "      <th>19992</th>\n",
       "      <td>250168</td>\n",
       "      <td>2570.810</td>\n",
       "    </tr>\n",
       "    <tr>\n",
       "      <th>19993</th>\n",
       "      <td>250197</td>\n",
       "      <td>2176.858</td>\n",
       "    </tr>\n",
       "    <tr>\n",
       "      <th>19994</th>\n",
       "      <td>250199</td>\n",
       "      <td>4493.935</td>\n",
       "    </tr>\n",
       "    <tr>\n",
       "      <th>19995</th>\n",
       "      <td>250207</td>\n",
       "      <td>16374.467</td>\n",
       "    </tr>\n",
       "    <tr>\n",
       "      <th>19996</th>\n",
       "      <td>250221</td>\n",
       "      <td>27959.433</td>\n",
       "    </tr>\n",
       "    <tr>\n",
       "      <th>19997</th>\n",
       "      <td>250224</td>\n",
       "      <td>9267.582</td>\n",
       "    </tr>\n",
       "    <tr>\n",
       "      <th>19998</th>\n",
       "      <td>250229</td>\n",
       "      <td>13200.828</td>\n",
       "    </tr>\n",
       "    <tr>\n",
       "      <th>19999</th>\n",
       "      <td>250236</td>\n",
       "      <td>3533.889</td>\n",
       "    </tr>\n",
       "  </tbody>\n",
       "</table>\n",
       "<p>20000 rows × 2 columns</p>\n",
       "</div>"
      ],
      "text/plain": [
       "       userid       stay\n",
       "0           8   1414.126\n",
       "1          12  36224.720\n",
       "2          13   6862.555\n",
       "3          25   1098.564\n",
       "4          37  18121.411\n",
       "5          71   3618.812\n",
       "6          76  10509.285\n",
       "7          96   2805.687\n",
       "8          99   7078.888\n",
       "9         108   3973.201\n",
       "10        129  17953.340\n",
       "11        130   4524.783\n",
       "12        135   7719.474\n",
       "13        137   6370.218\n",
       "14        154   6359.103\n",
       "15        168   3410.767\n",
       "16        172  14462.894\n",
       "17        175   5945.721\n",
       "18        179  12656.530\n",
       "19        196  10640.240\n",
       "20        200   1154.997\n",
       "21        213  27627.903\n",
       "22        237   5537.705\n",
       "23        249   1517.209\n",
       "24        252  18184.422\n",
       "25        271   5762.872\n",
       "26        273    591.846\n",
       "27        275   5949.610\n",
       "28        284   3953.064\n",
       "29        307  14970.844\n",
       "...       ...        ...\n",
       "19970  249908  19047.527\n",
       "19971  249911   6722.582\n",
       "19972  249924   5268.585\n",
       "19973  249934   4300.830\n",
       "19974  249943  11319.250\n",
       "19975  249990  18253.738\n",
       "19976  249993   1893.597\n",
       "19977  250007  14595.576\n",
       "19978  250008   1122.300\n",
       "19979  250024  12316.327\n",
       "19980  250025  14063.419\n",
       "19981  250069  22276.687\n",
       "19982  250077  28550.485\n",
       "19983  250079   2430.803\n",
       "19984  250089  57490.696\n",
       "19985  250090  16281.445\n",
       "19986  250126   1441.443\n",
       "19987  250129  35825.249\n",
       "19988  250141  11202.040\n",
       "19989  250142   2390.199\n",
       "19990  250144  17613.974\n",
       "19991  250160   9350.225\n",
       "19992  250168   2570.810\n",
       "19993  250197   2176.858\n",
       "19994  250199   4493.935\n",
       "19995  250207  16374.467\n",
       "19996  250221  27959.433\n",
       "19997  250224   9267.582\n",
       "19998  250229  13200.828\n",
       "19999  250236   3533.889\n",
       "\n",
       "[20000 rows x 2 columns]"
      ]
     },
     "execution_count": 142,
     "metadata": {},
     "output_type": "execute_result"
    }
   ],
   "source": [
    "user_stay_sum_df"
   ]
  },
  {
   "cell_type": "code",
   "execution_count": 143,
   "metadata": {
    "colab": {
     "base_uri": "https://localhost:8080/",
     "height": 282
    },
    "executionInfo": {
     "elapsed": 496,
     "status": "ok",
     "timestamp": 1624589827124,
     "user": {
      "displayName": "Qing Li",
      "photoUrl": "",
      "userId": "14621704085933727451"
     },
     "user_tz": -480
    },
    "id": "hwxFma8KGIRV",
    "outputId": "ee837cff-8f53-4f5a-bffd-ea1a94907482"
   },
   "outputs": [
    {
     "data": {
      "text/plain": [
       "0         4\n",
       "1         7\n",
       "2         2\n",
       "3         2\n",
       "4         2\n",
       "5         5\n",
       "6         2\n",
       "7         3\n",
       "8         7\n",
       "9         2\n",
       "10        6\n",
       "11        1\n",
       "12        2\n",
       "13        7\n",
       "14        2\n",
       "15        3\n",
       "16        4\n",
       "17        4\n",
       "18        3\n",
       "19        3\n",
       "20        7\n",
       "21        7\n",
       "22        7\n",
       "23        3\n",
       "24        7\n",
       "25        2\n",
       "26        7\n",
       "27        4\n",
       "28        2\n",
       "29        1\n",
       "         ..\n",
       "106414    3\n",
       "106415    7\n",
       "106416    7\n",
       "106417    7\n",
       "106418    7\n",
       "106419    3\n",
       "106420    4\n",
       "106421    2\n",
       "106422    4\n",
       "106423    2\n",
       "106424    4\n",
       "106425    6\n",
       "106426    1\n",
       "106427    2\n",
       "106428    6\n",
       "106429    3\n",
       "106430    2\n",
       "106431    2\n",
       "106432    1\n",
       "106433    2\n",
       "106434    1\n",
       "106435    2\n",
       "106436    3\n",
       "106437    2\n",
       "106438    3\n",
       "106439    2\n",
       "106440    2\n",
       "106441    3\n",
       "106442    5\n",
       "106443    4\n",
       "Name: videolength_bucket, Length: 106444, dtype: int64"
      ]
     },
     "execution_count": 143,
     "metadata": {},
     "output_type": "execute_result"
    }
   ],
   "source": [
    "feed_info_modified_df['videolength_bucket']"
   ]
  },
  {
   "cell_type": "code",
   "execution_count": null,
   "metadata": {},
   "outputs": [],
   "source": []
  }
 ],
 "metadata": {
  "colab": {
   "authorship_tag": "ABX9TyOrhnX2c+QkCJbTNmJ/Q19y",
   "collapsed_sections": [],
   "mount_file_id": "17SDthOZakyCrf1gx4dOaQILIHHMiCEz-",
   "name": "DataPreprocessing3.ipynb",
   "provenance": []
  },
  "kernelspec": {
   "display_name": "Python 3",
   "language": "python",
   "name": "python3"
  },
  "language_info": {
   "codemirror_mode": {
    "name": "ipython",
    "version": 3
   },
   "file_extension": ".py",
   "mimetype": "text/x-python",
   "name": "python",
   "nbconvert_exporter": "python",
   "pygments_lexer": "ipython3",
   "version": "3.6.5"
  }
 },
 "nbformat": 4,
 "nbformat_minor": 1
}
